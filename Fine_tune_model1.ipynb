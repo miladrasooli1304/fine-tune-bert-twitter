{
 "cells": [
  {
   "cell_type": "code",
   "execution_count": 1,
   "metadata": {
    "colab": {
     "base_uri": "https://localhost:8080/"
    },
    "collapsed": true,
    "executionInfo": {
     "elapsed": 133134,
     "status": "ok",
     "timestamp": 1752583858158,
     "user": {
      "displayName": "Milad Rasooli",
      "userId": "00542327659329088999"
     },
     "user_tz": -210
    },
    "id": "MWULqWvRuqEp",
    "outputId": "8879a0d8-a818-4ac7-f17b-498e9d2fb4c4"
   },
   "outputs": [
    {
     "name": "stdout",
     "output_type": "stream",
     "text": [
      "Collecting bertviz\n",
      "  Downloading bertviz-1.4.1-py3-none-any.whl.metadata (19 kB)\n",
      "Requirement already satisfied: transformers>=2.0 in /usr/local/lib/python3.11/dist-packages (from bertviz) (4.53.1)\n",
      "Requirement already satisfied: torch>=1.0 in /usr/local/lib/python3.11/dist-packages (from bertviz) (2.6.0+cu124)\n",
      "Requirement already satisfied: tqdm in /usr/local/lib/python3.11/dist-packages (from bertviz) (4.67.1)\n",
      "Collecting boto3 (from bertviz)\n",
      "  Downloading boto3-1.39.4-py3-none-any.whl.metadata (6.6 kB)\n",
      "Requirement already satisfied: requests in /usr/local/lib/python3.11/dist-packages (from bertviz) (2.32.3)\n",
      "Requirement already satisfied: regex in /usr/local/lib/python3.11/dist-packages (from bertviz) (2024.11.6)\n",
      "Requirement already satisfied: sentencepiece in /usr/local/lib/python3.11/dist-packages (from bertviz) (0.2.0)\n",
      "Requirement already satisfied: IPython>=7.14 in /usr/local/lib/python3.11/dist-packages (from bertviz) (7.34.0)\n",
      "Requirement already satisfied: setuptools>=18.5 in /usr/local/lib/python3.11/dist-packages (from IPython>=7.14->bertviz) (75.2.0)\n",
      "Collecting jedi>=0.16 (from IPython>=7.14->bertviz)\n",
      "  Downloading jedi-0.19.2-py2.py3-none-any.whl.metadata (22 kB)\n",
      "Requirement already satisfied: decorator in /usr/local/lib/python3.11/dist-packages (from IPython>=7.14->bertviz) (4.4.2)\n",
      "Requirement already satisfied: pickleshare in /usr/local/lib/python3.11/dist-packages (from IPython>=7.14->bertviz) (0.7.5)\n",
      "Requirement already satisfied: traitlets>=4.2 in /usr/local/lib/python3.11/dist-packages (from IPython>=7.14->bertviz) (5.7.1)\n",
      "Requirement already satisfied: prompt-toolkit!=3.0.0,!=3.0.1,<3.1.0,>=2.0.0 in /usr/local/lib/python3.11/dist-packages (from IPython>=7.14->bertviz) (3.0.51)\n",
      "Requirement already satisfied: pygments in /usr/local/lib/python3.11/dist-packages (from IPython>=7.14->bertviz) (2.19.2)\n",
      "Requirement already satisfied: backcall in /usr/local/lib/python3.11/dist-packages (from IPython>=7.14->bertviz) (0.2.0)\n",
      "Requirement already satisfied: matplotlib-inline in /usr/local/lib/python3.11/dist-packages (from IPython>=7.14->bertviz) (0.1.7)\n",
      "Requirement already satisfied: pexpect>4.3 in /usr/local/lib/python3.11/dist-packages (from IPython>=7.14->bertviz) (4.9.0)\n",
      "Requirement already satisfied: filelock in /usr/local/lib/python3.11/dist-packages (from torch>=1.0->bertviz) (3.18.0)\n",
      "Requirement already satisfied: typing-extensions>=4.10.0 in /usr/local/lib/python3.11/dist-packages (from torch>=1.0->bertviz) (4.14.1)\n",
      "Requirement already satisfied: networkx in /usr/local/lib/python3.11/dist-packages (from torch>=1.0->bertviz) (3.5)\n",
      "Requirement already satisfied: jinja2 in /usr/local/lib/python3.11/dist-packages (from torch>=1.0->bertviz) (3.1.6)\n",
      "Requirement already satisfied: fsspec in /usr/local/lib/python3.11/dist-packages (from torch>=1.0->bertviz) (2025.3.2)\n",
      "Collecting nvidia-cuda-nvrtc-cu12==12.4.127 (from torch>=1.0->bertviz)\n",
      "  Downloading nvidia_cuda_nvrtc_cu12-12.4.127-py3-none-manylinux2014_x86_64.whl.metadata (1.5 kB)\n",
      "Collecting nvidia-cuda-runtime-cu12==12.4.127 (from torch>=1.0->bertviz)\n",
      "  Downloading nvidia_cuda_runtime_cu12-12.4.127-py3-none-manylinux2014_x86_64.whl.metadata (1.5 kB)\n",
      "Collecting nvidia-cuda-cupti-cu12==12.4.127 (from torch>=1.0->bertviz)\n",
      "  Downloading nvidia_cuda_cupti_cu12-12.4.127-py3-none-manylinux2014_x86_64.whl.metadata (1.6 kB)\n",
      "Collecting nvidia-cudnn-cu12==9.1.0.70 (from torch>=1.0->bertviz)\n",
      "  Downloading nvidia_cudnn_cu12-9.1.0.70-py3-none-manylinux2014_x86_64.whl.metadata (1.6 kB)\n",
      "Collecting nvidia-cublas-cu12==12.4.5.8 (from torch>=1.0->bertviz)\n",
      "  Downloading nvidia_cublas_cu12-12.4.5.8-py3-none-manylinux2014_x86_64.whl.metadata (1.5 kB)\n",
      "Collecting nvidia-cufft-cu12==11.2.1.3 (from torch>=1.0->bertviz)\n",
      "  Downloading nvidia_cufft_cu12-11.2.1.3-py3-none-manylinux2014_x86_64.whl.metadata (1.5 kB)\n",
      "Collecting nvidia-curand-cu12==10.3.5.147 (from torch>=1.0->bertviz)\n",
      "  Downloading nvidia_curand_cu12-10.3.5.147-py3-none-manylinux2014_x86_64.whl.metadata (1.5 kB)\n",
      "Collecting nvidia-cusolver-cu12==11.6.1.9 (from torch>=1.0->bertviz)\n",
      "  Downloading nvidia_cusolver_cu12-11.6.1.9-py3-none-manylinux2014_x86_64.whl.metadata (1.6 kB)\n",
      "Collecting nvidia-cusparse-cu12==12.3.1.170 (from torch>=1.0->bertviz)\n",
      "  Downloading nvidia_cusparse_cu12-12.3.1.170-py3-none-manylinux2014_x86_64.whl.metadata (1.6 kB)\n",
      "Requirement already satisfied: nvidia-cusparselt-cu12==0.6.2 in /usr/local/lib/python3.11/dist-packages (from torch>=1.0->bertviz) (0.6.2)\n",
      "Requirement already satisfied: nvidia-nccl-cu12==2.21.5 in /usr/local/lib/python3.11/dist-packages (from torch>=1.0->bertviz) (2.21.5)\n",
      "Requirement already satisfied: nvidia-nvtx-cu12==12.4.127 in /usr/local/lib/python3.11/dist-packages (from torch>=1.0->bertviz) (12.4.127)\n",
      "Collecting nvidia-nvjitlink-cu12==12.4.127 (from torch>=1.0->bertviz)\n",
      "  Downloading nvidia_nvjitlink_cu12-12.4.127-py3-none-manylinux2014_x86_64.whl.metadata (1.5 kB)\n",
      "Requirement already satisfied: triton==3.2.0 in /usr/local/lib/python3.11/dist-packages (from torch>=1.0->bertviz) (3.2.0)\n",
      "Requirement already satisfied: sympy==1.13.1 in /usr/local/lib/python3.11/dist-packages (from torch>=1.0->bertviz) (1.13.1)\n",
      "Requirement already satisfied: mpmath<1.4,>=1.1.0 in /usr/local/lib/python3.11/dist-packages (from sympy==1.13.1->torch>=1.0->bertviz) (1.3.0)\n",
      "Requirement already satisfied: huggingface-hub<1.0,>=0.30.0 in /usr/local/lib/python3.11/dist-packages (from transformers>=2.0->bertviz) (0.33.2)\n",
      "Requirement already satisfied: numpy>=1.17 in /usr/local/lib/python3.11/dist-packages (from transformers>=2.0->bertviz) (2.0.2)\n",
      "Requirement already satisfied: packaging>=20.0 in /usr/local/lib/python3.11/dist-packages (from transformers>=2.0->bertviz) (24.2)\n",
      "Requirement already satisfied: pyyaml>=5.1 in /usr/local/lib/python3.11/dist-packages (from transformers>=2.0->bertviz) (6.0.2)\n",
      "Requirement already satisfied: tokenizers<0.22,>=0.21 in /usr/local/lib/python3.11/dist-packages (from transformers>=2.0->bertviz) (0.21.2)\n",
      "Requirement already satisfied: safetensors>=0.4.3 in /usr/local/lib/python3.11/dist-packages (from transformers>=2.0->bertviz) (0.5.3)\n",
      "Collecting botocore<1.40.0,>=1.39.4 (from boto3->bertviz)\n",
      "  Downloading botocore-1.39.4-py3-none-any.whl.metadata (5.7 kB)\n",
      "Collecting jmespath<2.0.0,>=0.7.1 (from boto3->bertviz)\n",
      "  Downloading jmespath-1.0.1-py3-none-any.whl.metadata (7.6 kB)\n",
      "Collecting s3transfer<0.14.0,>=0.13.0 (from boto3->bertviz)\n",
      "  Downloading s3transfer-0.13.0-py3-none-any.whl.metadata (1.7 kB)\n",
      "Requirement already satisfied: charset-normalizer<4,>=2 in /usr/local/lib/python3.11/dist-packages (from requests->bertviz) (3.4.2)\n",
      "Requirement already satisfied: idna<4,>=2.5 in /usr/local/lib/python3.11/dist-packages (from requests->bertviz) (3.10)\n",
      "Requirement already satisfied: urllib3<3,>=1.21.1 in /usr/local/lib/python3.11/dist-packages (from requests->bertviz) (2.4.0)\n",
      "Requirement already satisfied: certifi>=2017.4.17 in /usr/local/lib/python3.11/dist-packages (from requests->bertviz) (2025.7.9)\n",
      "Requirement already satisfied: python-dateutil<3.0.0,>=2.1 in /usr/local/lib/python3.11/dist-packages (from botocore<1.40.0,>=1.39.4->boto3->bertviz) (2.9.0.post0)\n",
      "Requirement already satisfied: hf-xet<2.0.0,>=1.1.2 in /usr/local/lib/python3.11/dist-packages (from huggingface-hub<1.0,>=0.30.0->transformers>=2.0->bertviz) (1.1.5)\n",
      "Requirement already satisfied: parso<0.9.0,>=0.8.4 in /usr/local/lib/python3.11/dist-packages (from jedi>=0.16->IPython>=7.14->bertviz) (0.8.4)\n",
      "Requirement already satisfied: ptyprocess>=0.5 in /usr/local/lib/python3.11/dist-packages (from pexpect>4.3->IPython>=7.14->bertviz) (0.7.0)\n",
      "Requirement already satisfied: wcwidth in /usr/local/lib/python3.11/dist-packages (from prompt-toolkit!=3.0.0,!=3.0.1,<3.1.0,>=2.0.0->IPython>=7.14->bertviz) (0.2.13)\n",
      "Requirement already satisfied: MarkupSafe>=2.0 in /usr/local/lib/python3.11/dist-packages (from jinja2->torch>=1.0->bertviz) (3.0.2)\n",
      "Requirement already satisfied: six>=1.5 in /usr/local/lib/python3.11/dist-packages (from python-dateutil<3.0.0,>=2.1->botocore<1.40.0,>=1.39.4->boto3->bertviz) (1.17.0)\n",
      "Downloading bertviz-1.4.1-py3-none-any.whl (157 kB)\n",
      "\u001b[2K   \u001b[90m━━━━━━━━━━━━━━━━━━━━━━━━━━━━━━━━━━━━━━━━\u001b[0m \u001b[32m157.5/157.5 kB\u001b[0m \u001b[31m12.1 MB/s\u001b[0m eta \u001b[36m0:00:00\u001b[0m\n",
      "\u001b[?25hDownloading nvidia_cublas_cu12-12.4.5.8-py3-none-manylinux2014_x86_64.whl (363.4 MB)\n",
      "\u001b[2K   \u001b[90m━━━━━━━━━━━━━━━━━━━━━━━━━━━━━━━━━━━━━━━━\u001b[0m \u001b[32m363.4/363.4 MB\u001b[0m \u001b[31m4.7 MB/s\u001b[0m eta \u001b[36m0:00:00\u001b[0m\n",
      "\u001b[?25hDownloading nvidia_cuda_cupti_cu12-12.4.127-py3-none-manylinux2014_x86_64.whl (13.8 MB)\n",
      "\u001b[2K   \u001b[90m━━━━━━━━━━━━━━━━━━━━━━━━━━━━━━━━━━━━━━━━\u001b[0m \u001b[32m13.8/13.8 MB\u001b[0m \u001b[31m80.1 MB/s\u001b[0m eta \u001b[36m0:00:00\u001b[0m\n",
      "\u001b[?25hDownloading nvidia_cuda_nvrtc_cu12-12.4.127-py3-none-manylinux2014_x86_64.whl (24.6 MB)\n",
      "\u001b[2K   \u001b[90m━━━━━━━━━━━━━━━━━━━━━━━━━━━━━━━━━━━━━━━━\u001b[0m \u001b[32m24.6/24.6 MB\u001b[0m \u001b[31m59.3 MB/s\u001b[0m eta \u001b[36m0:00:00\u001b[0m\n",
      "\u001b[?25hDownloading nvidia_cuda_runtime_cu12-12.4.127-py3-none-manylinux2014_x86_64.whl (883 kB)\n",
      "\u001b[2K   \u001b[90m━━━━━━━━━━━━━━━━━━━━━━━━━━━━━━━━━━━━━━━━\u001b[0m \u001b[32m883.7/883.7 kB\u001b[0m \u001b[31m39.2 MB/s\u001b[0m eta \u001b[36m0:00:00\u001b[0m\n",
      "\u001b[?25hDownloading nvidia_cudnn_cu12-9.1.0.70-py3-none-manylinux2014_x86_64.whl (664.8 MB)\n",
      "\u001b[2K   \u001b[90m━━━━━━━━━━━━━━━━━━━━━━━━━━━━━━━━━━━━━━━━\u001b[0m \u001b[32m664.8/664.8 MB\u001b[0m \u001b[31m2.4 MB/s\u001b[0m eta \u001b[36m0:00:00\u001b[0m\n",
      "\u001b[?25hDownloading nvidia_cufft_cu12-11.2.1.3-py3-none-manylinux2014_x86_64.whl (211.5 MB)\n",
      "\u001b[2K   \u001b[90m━━━━━━━━━━━━━━━━━━━━━━━━━━━━━━━━━━━━━━━━\u001b[0m \u001b[32m211.5/211.5 MB\u001b[0m \u001b[31m5.3 MB/s\u001b[0m eta \u001b[36m0:00:00\u001b[0m\n",
      "\u001b[?25hDownloading nvidia_curand_cu12-10.3.5.147-py3-none-manylinux2014_x86_64.whl (56.3 MB)\n",
      "\u001b[2K   \u001b[90m━━━━━━━━━━━━━━━━━━━━━━━━━━━━━━━━━━━━━━━━\u001b[0m \u001b[32m56.3/56.3 MB\u001b[0m \u001b[31m13.8 MB/s\u001b[0m eta \u001b[36m0:00:00\u001b[0m\n",
      "\u001b[?25hDownloading nvidia_cusolver_cu12-11.6.1.9-py3-none-manylinux2014_x86_64.whl (127.9 MB)\n",
      "\u001b[2K   \u001b[90m━━━━━━━━━━━━━━━━━━━━━━━━━━━━━━━━━━━━━━━━\u001b[0m \u001b[32m127.9/127.9 MB\u001b[0m \u001b[31m7.5 MB/s\u001b[0m eta \u001b[36m0:00:00\u001b[0m\n",
      "\u001b[?25hDownloading nvidia_cusparse_cu12-12.3.1.170-py3-none-manylinux2014_x86_64.whl (207.5 MB)\n",
      "\u001b[2K   \u001b[90m━━━━━━━━━━━━━━━━━━━━━━━━━━━━━━━━━━━━━━━━\u001b[0m \u001b[32m207.5/207.5 MB\u001b[0m \u001b[31m6.6 MB/s\u001b[0m eta \u001b[36m0:00:00\u001b[0m\n",
      "\u001b[?25hDownloading nvidia_nvjitlink_cu12-12.4.127-py3-none-manylinux2014_x86_64.whl (21.1 MB)\n",
      "\u001b[2K   \u001b[90m━━━━━━━━━━━━━━━━━━━━━━━━━━━━━━━━━━━━━━━━\u001b[0m \u001b[32m21.1/21.1 MB\u001b[0m \u001b[31m64.0 MB/s\u001b[0m eta \u001b[36m0:00:00\u001b[0m\n",
      "\u001b[?25hDownloading boto3-1.39.4-py3-none-any.whl (139 kB)\n",
      "\u001b[2K   \u001b[90m━━━━━━━━━━━━━━━━━━━━━━━━━━━━━━━━━━━━━━━━\u001b[0m \u001b[32m139.9/139.9 kB\u001b[0m \u001b[31m12.3 MB/s\u001b[0m eta \u001b[36m0:00:00\u001b[0m\n",
      "\u001b[?25hDownloading botocore-1.39.4-py3-none-any.whl (13.8 MB)\n",
      "\u001b[2K   \u001b[90m━━━━━━━━━━━━━━━━━━━━━━━━━━━━━━━━━━━━━━━━\u001b[0m \u001b[32m13.8/13.8 MB\u001b[0m \u001b[31m82.6 MB/s\u001b[0m eta \u001b[36m0:00:00\u001b[0m\n",
      "\u001b[?25hDownloading jedi-0.19.2-py2.py3-none-any.whl (1.6 MB)\n",
      "\u001b[2K   \u001b[90m━━━━━━━━━━━━━━━━━━━━━━━━━━━━━━━━━━━━━━━━\u001b[0m \u001b[32m1.6/1.6 MB\u001b[0m \u001b[31m46.5 MB/s\u001b[0m eta \u001b[36m0:00:00\u001b[0m\n",
      "\u001b[?25hDownloading jmespath-1.0.1-py3-none-any.whl (20 kB)\n",
      "Downloading s3transfer-0.13.0-py3-none-any.whl (85 kB)\n",
      "\u001b[2K   \u001b[90m━━━━━━━━━━━━━━━━━━━━━━━━━━━━━━━━━━━━━━━━\u001b[0m \u001b[32m85.2/85.2 kB\u001b[0m \u001b[31m9.0 MB/s\u001b[0m eta \u001b[36m0:00:00\u001b[0m\n",
      "\u001b[?25hInstalling collected packages: nvidia-nvjitlink-cu12, nvidia-curand-cu12, nvidia-cufft-cu12, nvidia-cuda-runtime-cu12, nvidia-cuda-nvrtc-cu12, nvidia-cuda-cupti-cu12, nvidia-cublas-cu12, jmespath, jedi, nvidia-cusparse-cu12, nvidia-cudnn-cu12, botocore, s3transfer, nvidia-cusolver-cu12, boto3, bertviz\n",
      "  Attempting uninstall: nvidia-nvjitlink-cu12\n",
      "    Found existing installation: nvidia-nvjitlink-cu12 12.5.82\n",
      "    Uninstalling nvidia-nvjitlink-cu12-12.5.82:\n",
      "      Successfully uninstalled nvidia-nvjitlink-cu12-12.5.82\n",
      "  Attempting uninstall: nvidia-curand-cu12\n",
      "    Found existing installation: nvidia-curand-cu12 10.3.6.82\n",
      "    Uninstalling nvidia-curand-cu12-10.3.6.82:\n",
      "      Successfully uninstalled nvidia-curand-cu12-10.3.6.82\n",
      "  Attempting uninstall: nvidia-cufft-cu12\n",
      "    Found existing installation: nvidia-cufft-cu12 11.2.3.61\n",
      "    Uninstalling nvidia-cufft-cu12-11.2.3.61:\n",
      "      Successfully uninstalled nvidia-cufft-cu12-11.2.3.61\n",
      "  Attempting uninstall: nvidia-cuda-runtime-cu12\n",
      "    Found existing installation: nvidia-cuda-runtime-cu12 12.5.82\n",
      "    Uninstalling nvidia-cuda-runtime-cu12-12.5.82:\n",
      "      Successfully uninstalled nvidia-cuda-runtime-cu12-12.5.82\n",
      "  Attempting uninstall: nvidia-cuda-nvrtc-cu12\n",
      "    Found existing installation: nvidia-cuda-nvrtc-cu12 12.5.82\n",
      "    Uninstalling nvidia-cuda-nvrtc-cu12-12.5.82:\n",
      "      Successfully uninstalled nvidia-cuda-nvrtc-cu12-12.5.82\n",
      "  Attempting uninstall: nvidia-cuda-cupti-cu12\n",
      "    Found existing installation: nvidia-cuda-cupti-cu12 12.5.82\n",
      "    Uninstalling nvidia-cuda-cupti-cu12-12.5.82:\n",
      "      Successfully uninstalled nvidia-cuda-cupti-cu12-12.5.82\n",
      "  Attempting uninstall: nvidia-cublas-cu12\n",
      "    Found existing installation: nvidia-cublas-cu12 12.5.3.2\n",
      "    Uninstalling nvidia-cublas-cu12-12.5.3.2:\n",
      "      Successfully uninstalled nvidia-cublas-cu12-12.5.3.2\n",
      "  Attempting uninstall: nvidia-cusparse-cu12\n",
      "    Found existing installation: nvidia-cusparse-cu12 12.5.1.3\n",
      "    Uninstalling nvidia-cusparse-cu12-12.5.1.3:\n",
      "      Successfully uninstalled nvidia-cusparse-cu12-12.5.1.3\n",
      "  Attempting uninstall: nvidia-cudnn-cu12\n",
      "    Found existing installation: nvidia-cudnn-cu12 9.3.0.75\n",
      "    Uninstalling nvidia-cudnn-cu12-9.3.0.75:\n",
      "      Successfully uninstalled nvidia-cudnn-cu12-9.3.0.75\n",
      "  Attempting uninstall: nvidia-cusolver-cu12\n",
      "    Found existing installation: nvidia-cusolver-cu12 11.6.3.83\n",
      "    Uninstalling nvidia-cusolver-cu12-11.6.3.83:\n",
      "      Successfully uninstalled nvidia-cusolver-cu12-11.6.3.83\n",
      "Successfully installed bertviz-1.4.1 boto3-1.39.4 botocore-1.39.4 jedi-0.19.2 jmespath-1.0.1 nvidia-cublas-cu12-12.4.5.8 nvidia-cuda-cupti-cu12-12.4.127 nvidia-cuda-nvrtc-cu12-12.4.127 nvidia-cuda-runtime-cu12-12.4.127 nvidia-cudnn-cu12-9.1.0.70 nvidia-cufft-cu12-11.2.1.3 nvidia-curand-cu12-10.3.5.147 nvidia-cusolver-cu12-11.6.1.9 nvidia-cusparse-cu12-12.3.1.170 nvidia-nvjitlink-cu12-12.4.127 s3transfer-0.13.0\n"
     ]
    }
   ],
   "source": [
    "!pip install bertviz"
   ]
  },
  {
   "cell_type": "code",
   "execution_count": 66,
   "metadata": {
    "executionInfo": {
     "elapsed": 8,
     "status": "ok",
     "timestamp": 1752585704591,
     "user": {
      "displayName": "Milad Rasooli",
      "userId": "00542327659329088999"
     },
     "user_tz": -210
    },
    "id": "YAh1aQljtir6"
   },
   "outputs": [],
   "source": [
    "from sklearn.model_selection import train_test_split\n",
    "import matplotlib.pyplot as plt\n",
    "import pandas as pd\n",
    "import transformers\n",
    "import accelerate\n",
    "from datasets import DatasetDict, Dataset\n",
    "import bertviz\n",
    "import umap\n",
    "from transformers import AutoModel\n",
    "import torch\n",
    "from sklearn.metrics import classification_report\n",
    "from sklearn.metrics import confusion_matrix\n",
    "import seaborn as sns"
   ]
  },
  {
   "cell_type": "code",
   "execution_count": 3,
   "metadata": {
    "executionInfo": {
     "elapsed": 3105,
     "status": "ok",
     "timestamp": 1752583922377,
     "user": {
      "displayName": "Milad Rasooli",
      "userId": "00542327659329088999"
     },
     "user_tz": -210
    },
    "id": "rQFJ2MRatt-Y"
   },
   "outputs": [],
   "source": [
    "data_t = pd.read_csv(\"/content/drive/MyDrive/fine-tune Beart/twitter_multi_class_sentiment.csv\")"
   ]
  },
  {
   "cell_type": "code",
   "execution_count": 4,
   "metadata": {
    "colab": {
     "base_uri": "https://localhost:8080/",
     "height": 206
    },
    "executionInfo": {
     "elapsed": 24,
     "status": "ok",
     "timestamp": 1752583922377,
     "user": {
      "displayName": "Milad Rasooli",
      "userId": "00542327659329088999"
     },
     "user_tz": -210
    },
    "id": "vjxfNibJvhjV",
    "outputId": "193cc5ac-60e1-4ac5-8ccf-99f216b46f92"
   },
   "outputs": [
    {
     "data": {
      "application/vnd.google.colaboratory.intrinsic+json": {
       "summary": "{\n  \"name\": \"data_t\",\n  \"rows\": 16000,\n  \"fields\": [\n    {\n      \"column\": \"text\",\n      \"properties\": {\n        \"dtype\": \"string\",\n        \"num_unique_values\": 15969,\n        \"samples\": [\n          \"i feel rather imbicilic or at least complacent\",\n          \"i was in the bathroom i had sat down to pee it was to make me feel submissive again per instructions\",\n          \"i am thrilled with the way my skin and hair feel if you are like me you are skeptical\"\n        ],\n        \"semantic_type\": \"\",\n        \"description\": \"\"\n      }\n    },\n    {\n      \"column\": \"label\",\n      \"properties\": {\n        \"dtype\": \"number\",\n        \"std\": 1,\n        \"min\": 0,\n        \"max\": 5,\n        \"num_unique_values\": 6,\n        \"samples\": [\n          0,\n          3,\n          1\n        ],\n        \"semantic_type\": \"\",\n        \"description\": \"\"\n      }\n    },\n    {\n      \"column\": \"label_name\",\n      \"properties\": {\n        \"dtype\": \"category\",\n        \"num_unique_values\": 6,\n        \"samples\": [\n          \"sadness\",\n          \"anger\",\n          \"joy\"\n        ],\n        \"semantic_type\": \"\",\n        \"description\": \"\"\n      }\n    }\n  ]\n}",
       "type": "dataframe",
       "variable_name": "data_t"
      },
      "text/html": [
       "\n",
       "  <div id=\"df-6645c554-06f1-41f8-ae10-815582844827\" class=\"colab-df-container\">\n",
       "    <div>\n",
       "<style scoped>\n",
       "    .dataframe tbody tr th:only-of-type {\n",
       "        vertical-align: middle;\n",
       "    }\n",
       "\n",
       "    .dataframe tbody tr th {\n",
       "        vertical-align: top;\n",
       "    }\n",
       "\n",
       "    .dataframe thead th {\n",
       "        text-align: right;\n",
       "    }\n",
       "</style>\n",
       "<table border=\"1\" class=\"dataframe\">\n",
       "  <thead>\n",
       "    <tr style=\"text-align: right;\">\n",
       "      <th></th>\n",
       "      <th>text</th>\n",
       "      <th>label</th>\n",
       "      <th>label_name</th>\n",
       "    </tr>\n",
       "  </thead>\n",
       "  <tbody>\n",
       "    <tr>\n",
       "      <th>0</th>\n",
       "      <td>i didnt feel humiliated</td>\n",
       "      <td>0</td>\n",
       "      <td>sadness</td>\n",
       "    </tr>\n",
       "    <tr>\n",
       "      <th>1</th>\n",
       "      <td>i can go from feeling so hopeless to so damned...</td>\n",
       "      <td>0</td>\n",
       "      <td>sadness</td>\n",
       "    </tr>\n",
       "    <tr>\n",
       "      <th>2</th>\n",
       "      <td>im grabbing a minute to post i feel greedy wrong</td>\n",
       "      <td>3</td>\n",
       "      <td>anger</td>\n",
       "    </tr>\n",
       "    <tr>\n",
       "      <th>3</th>\n",
       "      <td>i am ever feeling nostalgic about the fireplac...</td>\n",
       "      <td>2</td>\n",
       "      <td>love</td>\n",
       "    </tr>\n",
       "    <tr>\n",
       "      <th>4</th>\n",
       "      <td>i am feeling grouchy</td>\n",
       "      <td>3</td>\n",
       "      <td>anger</td>\n",
       "    </tr>\n",
       "  </tbody>\n",
       "</table>\n",
       "</div>\n",
       "    <div class=\"colab-df-buttons\">\n",
       "\n",
       "  <div class=\"colab-df-container\">\n",
       "    <button class=\"colab-df-convert\" onclick=\"convertToInteractive('df-6645c554-06f1-41f8-ae10-815582844827')\"\n",
       "            title=\"Convert this dataframe to an interactive table.\"\n",
       "            style=\"display:none;\">\n",
       "\n",
       "  <svg xmlns=\"http://www.w3.org/2000/svg\" height=\"24px\" viewBox=\"0 -960 960 960\">\n",
       "    <path d=\"M120-120v-720h720v720H120Zm60-500h600v-160H180v160Zm220 220h160v-160H400v160Zm0 220h160v-160H400v160ZM180-400h160v-160H180v160Zm440 0h160v-160H620v160ZM180-180h160v-160H180v160Zm440 0h160v-160H620v160Z\"/>\n",
       "  </svg>\n",
       "    </button>\n",
       "\n",
       "  <style>\n",
       "    .colab-df-container {\n",
       "      display:flex;\n",
       "      gap: 12px;\n",
       "    }\n",
       "\n",
       "    .colab-df-convert {\n",
       "      background-color: #E8F0FE;\n",
       "      border: none;\n",
       "      border-radius: 50%;\n",
       "      cursor: pointer;\n",
       "      display: none;\n",
       "      fill: #1967D2;\n",
       "      height: 32px;\n",
       "      padding: 0 0 0 0;\n",
       "      width: 32px;\n",
       "    }\n",
       "\n",
       "    .colab-df-convert:hover {\n",
       "      background-color: #E2EBFA;\n",
       "      box-shadow: 0px 1px 2px rgba(60, 64, 67, 0.3), 0px 1px 3px 1px rgba(60, 64, 67, 0.15);\n",
       "      fill: #174EA6;\n",
       "    }\n",
       "\n",
       "    .colab-df-buttons div {\n",
       "      margin-bottom: 4px;\n",
       "    }\n",
       "\n",
       "    [theme=dark] .colab-df-convert {\n",
       "      background-color: #3B4455;\n",
       "      fill: #D2E3FC;\n",
       "    }\n",
       "\n",
       "    [theme=dark] .colab-df-convert:hover {\n",
       "      background-color: #434B5C;\n",
       "      box-shadow: 0px 1px 3px 1px rgba(0, 0, 0, 0.15);\n",
       "      filter: drop-shadow(0px 1px 2px rgba(0, 0, 0, 0.3));\n",
       "      fill: #FFFFFF;\n",
       "    }\n",
       "  </style>\n",
       "\n",
       "    <script>\n",
       "      const buttonEl =\n",
       "        document.querySelector('#df-6645c554-06f1-41f8-ae10-815582844827 button.colab-df-convert');\n",
       "      buttonEl.style.display =\n",
       "        google.colab.kernel.accessAllowed ? 'block' : 'none';\n",
       "\n",
       "      async function convertToInteractive(key) {\n",
       "        const element = document.querySelector('#df-6645c554-06f1-41f8-ae10-815582844827');\n",
       "        const dataTable =\n",
       "          await google.colab.kernel.invokeFunction('convertToInteractive',\n",
       "                                                    [key], {});\n",
       "        if (!dataTable) return;\n",
       "\n",
       "        const docLinkHtml = 'Like what you see? Visit the ' +\n",
       "          '<a target=\"_blank\" href=https://colab.research.google.com/notebooks/data_table.ipynb>data table notebook</a>'\n",
       "          + ' to learn more about interactive tables.';\n",
       "        element.innerHTML = '';\n",
       "        dataTable['output_type'] = 'display_data';\n",
       "        await google.colab.output.renderOutput(dataTable, element);\n",
       "        const docLink = document.createElement('div');\n",
       "        docLink.innerHTML = docLinkHtml;\n",
       "        element.appendChild(docLink);\n",
       "      }\n",
       "    </script>\n",
       "  </div>\n",
       "\n",
       "\n",
       "    <div id=\"df-64f90385-0916-4761-b173-069b57a93350\">\n",
       "      <button class=\"colab-df-quickchart\" onclick=\"quickchart('df-64f90385-0916-4761-b173-069b57a93350')\"\n",
       "                title=\"Suggest charts\"\n",
       "                style=\"display:none;\">\n",
       "\n",
       "<svg xmlns=\"http://www.w3.org/2000/svg\" height=\"24px\"viewBox=\"0 0 24 24\"\n",
       "     width=\"24px\">\n",
       "    <g>\n",
       "        <path d=\"M19 3H5c-1.1 0-2 .9-2 2v14c0 1.1.9 2 2 2h14c1.1 0 2-.9 2-2V5c0-1.1-.9-2-2-2zM9 17H7v-7h2v7zm4 0h-2V7h2v10zm4 0h-2v-4h2v4z\"/>\n",
       "    </g>\n",
       "</svg>\n",
       "      </button>\n",
       "\n",
       "<style>\n",
       "  .colab-df-quickchart {\n",
       "      --bg-color: #E8F0FE;\n",
       "      --fill-color: #1967D2;\n",
       "      --hover-bg-color: #E2EBFA;\n",
       "      --hover-fill-color: #174EA6;\n",
       "      --disabled-fill-color: #AAA;\n",
       "      --disabled-bg-color: #DDD;\n",
       "  }\n",
       "\n",
       "  [theme=dark] .colab-df-quickchart {\n",
       "      --bg-color: #3B4455;\n",
       "      --fill-color: #D2E3FC;\n",
       "      --hover-bg-color: #434B5C;\n",
       "      --hover-fill-color: #FFFFFF;\n",
       "      --disabled-bg-color: #3B4455;\n",
       "      --disabled-fill-color: #666;\n",
       "  }\n",
       "\n",
       "  .colab-df-quickchart {\n",
       "    background-color: var(--bg-color);\n",
       "    border: none;\n",
       "    border-radius: 50%;\n",
       "    cursor: pointer;\n",
       "    display: none;\n",
       "    fill: var(--fill-color);\n",
       "    height: 32px;\n",
       "    padding: 0;\n",
       "    width: 32px;\n",
       "  }\n",
       "\n",
       "  .colab-df-quickchart:hover {\n",
       "    background-color: var(--hover-bg-color);\n",
       "    box-shadow: 0 1px 2px rgba(60, 64, 67, 0.3), 0 1px 3px 1px rgba(60, 64, 67, 0.15);\n",
       "    fill: var(--button-hover-fill-color);\n",
       "  }\n",
       "\n",
       "  .colab-df-quickchart-complete:disabled,\n",
       "  .colab-df-quickchart-complete:disabled:hover {\n",
       "    background-color: var(--disabled-bg-color);\n",
       "    fill: var(--disabled-fill-color);\n",
       "    box-shadow: none;\n",
       "  }\n",
       "\n",
       "  .colab-df-spinner {\n",
       "    border: 2px solid var(--fill-color);\n",
       "    border-color: transparent;\n",
       "    border-bottom-color: var(--fill-color);\n",
       "    animation:\n",
       "      spin 1s steps(1) infinite;\n",
       "  }\n",
       "\n",
       "  @keyframes spin {\n",
       "    0% {\n",
       "      border-color: transparent;\n",
       "      border-bottom-color: var(--fill-color);\n",
       "      border-left-color: var(--fill-color);\n",
       "    }\n",
       "    20% {\n",
       "      border-color: transparent;\n",
       "      border-left-color: var(--fill-color);\n",
       "      border-top-color: var(--fill-color);\n",
       "    }\n",
       "    30% {\n",
       "      border-color: transparent;\n",
       "      border-left-color: var(--fill-color);\n",
       "      border-top-color: var(--fill-color);\n",
       "      border-right-color: var(--fill-color);\n",
       "    }\n",
       "    40% {\n",
       "      border-color: transparent;\n",
       "      border-right-color: var(--fill-color);\n",
       "      border-top-color: var(--fill-color);\n",
       "    }\n",
       "    60% {\n",
       "      border-color: transparent;\n",
       "      border-right-color: var(--fill-color);\n",
       "    }\n",
       "    80% {\n",
       "      border-color: transparent;\n",
       "      border-right-color: var(--fill-color);\n",
       "      border-bottom-color: var(--fill-color);\n",
       "    }\n",
       "    90% {\n",
       "      border-color: transparent;\n",
       "      border-bottom-color: var(--fill-color);\n",
       "    }\n",
       "  }\n",
       "</style>\n",
       "\n",
       "      <script>\n",
       "        async function quickchart(key) {\n",
       "          const quickchartButtonEl =\n",
       "            document.querySelector('#' + key + ' button');\n",
       "          quickchartButtonEl.disabled = true;  // To prevent multiple clicks.\n",
       "          quickchartButtonEl.classList.add('colab-df-spinner');\n",
       "          try {\n",
       "            const charts = await google.colab.kernel.invokeFunction(\n",
       "                'suggestCharts', [key], {});\n",
       "          } catch (error) {\n",
       "            console.error('Error during call to suggestCharts:', error);\n",
       "          }\n",
       "          quickchartButtonEl.classList.remove('colab-df-spinner');\n",
       "          quickchartButtonEl.classList.add('colab-df-quickchart-complete');\n",
       "        }\n",
       "        (() => {\n",
       "          let quickchartButtonEl =\n",
       "            document.querySelector('#df-64f90385-0916-4761-b173-069b57a93350 button');\n",
       "          quickchartButtonEl.style.display =\n",
       "            google.colab.kernel.accessAllowed ? 'block' : 'none';\n",
       "        })();\n",
       "      </script>\n",
       "    </div>\n",
       "    </div>\n",
       "  </div>\n"
      ],
      "text/plain": [
       "                                                text  label label_name\n",
       "0                            i didnt feel humiliated      0    sadness\n",
       "1  i can go from feeling so hopeless to so damned...      0    sadness\n",
       "2   im grabbing a minute to post i feel greedy wrong      3      anger\n",
       "3  i am ever feeling nostalgic about the fireplac...      2       love\n",
       "4                               i am feeling grouchy      3      anger"
      ]
     },
     "execution_count": 4,
     "metadata": {},
     "output_type": "execute_result"
    }
   ],
   "source": [
    "data_t.head()"
   ]
  },
  {
   "cell_type": "code",
   "execution_count": 5,
   "metadata": {
    "colab": {
     "base_uri": "https://localhost:8080/"
    },
    "executionInfo": {
     "elapsed": 22,
     "status": "ok",
     "timestamp": 1752583922377,
     "user": {
      "displayName": "Milad Rasooli",
      "userId": "00542327659329088999"
     },
     "user_tz": -210
    },
    "id": "R8BagT0QxrTi",
    "outputId": "4a3f3ab5-41ae-4e73-d1cb-c6e1a133fd0b"
   },
   "outputs": [
    {
     "name": "stdout",
     "output_type": "stream",
     "text": [
      "<class 'pandas.core.frame.DataFrame'>\n",
      "RangeIndex: 16000 entries, 0 to 15999\n",
      "Data columns (total 3 columns):\n",
      " #   Column      Non-Null Count  Dtype \n",
      "---  ------      --------------  ----- \n",
      " 0   text        16000 non-null  object\n",
      " 1   label       16000 non-null  int64 \n",
      " 2   label_name  16000 non-null  object\n",
      "dtypes: int64(1), object(2)\n",
      "memory usage: 375.1+ KB\n"
     ]
    }
   ],
   "source": [
    "data_t.info()"
   ]
  },
  {
   "cell_type": "code",
   "execution_count": 6,
   "metadata": {
    "colab": {
     "base_uri": "https://localhost:8080/",
     "height": 300
    },
    "executionInfo": {
     "elapsed": 20,
     "status": "ok",
     "timestamp": 1752583922377,
     "user": {
      "displayName": "Milad Rasooli",
      "userId": "00542327659329088999"
     },
     "user_tz": -210
    },
    "id": "WyuHSY0vx7tP",
    "outputId": "c5af289e-f05e-4d0e-cd4f-66a2afc1d57e"
   },
   "outputs": [
    {
     "data": {
      "application/vnd.google.colaboratory.intrinsic+json": {
       "summary": "{\n  \"name\": \"data_t\",\n  \"rows\": 8,\n  \"fields\": [\n    {\n      \"column\": \"label\",\n      \"properties\": {\n        \"dtype\": \"number\",\n        \"std\": 5656.24499409186,\n        \"min\": 0.0,\n        \"max\": 16000.0,\n        \"num_unique_values\": 7,\n        \"samples\": [\n          16000.0,\n          1.5659375,\n          3.0\n        ],\n        \"semantic_type\": \"\",\n        \"description\": \"\"\n      }\n    }\n  ]\n}",
       "type": "dataframe"
      },
      "text/html": [
       "\n",
       "  <div id=\"df-c0e6ed93-4d80-4491-8c6f-6798eabe61ed\" class=\"colab-df-container\">\n",
       "    <div>\n",
       "<style scoped>\n",
       "    .dataframe tbody tr th:only-of-type {\n",
       "        vertical-align: middle;\n",
       "    }\n",
       "\n",
       "    .dataframe tbody tr th {\n",
       "        vertical-align: top;\n",
       "    }\n",
       "\n",
       "    .dataframe thead th {\n",
       "        text-align: right;\n",
       "    }\n",
       "</style>\n",
       "<table border=\"1\" class=\"dataframe\">\n",
       "  <thead>\n",
       "    <tr style=\"text-align: right;\">\n",
       "      <th></th>\n",
       "      <th>label</th>\n",
       "    </tr>\n",
       "  </thead>\n",
       "  <tbody>\n",
       "    <tr>\n",
       "      <th>count</th>\n",
       "      <td>16000.000000</td>\n",
       "    </tr>\n",
       "    <tr>\n",
       "      <th>mean</th>\n",
       "      <td>1.565937</td>\n",
       "    </tr>\n",
       "    <tr>\n",
       "      <th>std</th>\n",
       "      <td>1.501430</td>\n",
       "    </tr>\n",
       "    <tr>\n",
       "      <th>min</th>\n",
       "      <td>0.000000</td>\n",
       "    </tr>\n",
       "    <tr>\n",
       "      <th>25%</th>\n",
       "      <td>0.000000</td>\n",
       "    </tr>\n",
       "    <tr>\n",
       "      <th>50%</th>\n",
       "      <td>1.000000</td>\n",
       "    </tr>\n",
       "    <tr>\n",
       "      <th>75%</th>\n",
       "      <td>3.000000</td>\n",
       "    </tr>\n",
       "    <tr>\n",
       "      <th>max</th>\n",
       "      <td>5.000000</td>\n",
       "    </tr>\n",
       "  </tbody>\n",
       "</table>\n",
       "</div>\n",
       "    <div class=\"colab-df-buttons\">\n",
       "\n",
       "  <div class=\"colab-df-container\">\n",
       "    <button class=\"colab-df-convert\" onclick=\"convertToInteractive('df-c0e6ed93-4d80-4491-8c6f-6798eabe61ed')\"\n",
       "            title=\"Convert this dataframe to an interactive table.\"\n",
       "            style=\"display:none;\">\n",
       "\n",
       "  <svg xmlns=\"http://www.w3.org/2000/svg\" height=\"24px\" viewBox=\"0 -960 960 960\">\n",
       "    <path d=\"M120-120v-720h720v720H120Zm60-500h600v-160H180v160Zm220 220h160v-160H400v160Zm0 220h160v-160H400v160ZM180-400h160v-160H180v160Zm440 0h160v-160H620v160ZM180-180h160v-160H180v160Zm440 0h160v-160H620v160Z\"/>\n",
       "  </svg>\n",
       "    </button>\n",
       "\n",
       "  <style>\n",
       "    .colab-df-container {\n",
       "      display:flex;\n",
       "      gap: 12px;\n",
       "    }\n",
       "\n",
       "    .colab-df-convert {\n",
       "      background-color: #E8F0FE;\n",
       "      border: none;\n",
       "      border-radius: 50%;\n",
       "      cursor: pointer;\n",
       "      display: none;\n",
       "      fill: #1967D2;\n",
       "      height: 32px;\n",
       "      padding: 0 0 0 0;\n",
       "      width: 32px;\n",
       "    }\n",
       "\n",
       "    .colab-df-convert:hover {\n",
       "      background-color: #E2EBFA;\n",
       "      box-shadow: 0px 1px 2px rgba(60, 64, 67, 0.3), 0px 1px 3px 1px rgba(60, 64, 67, 0.15);\n",
       "      fill: #174EA6;\n",
       "    }\n",
       "\n",
       "    .colab-df-buttons div {\n",
       "      margin-bottom: 4px;\n",
       "    }\n",
       "\n",
       "    [theme=dark] .colab-df-convert {\n",
       "      background-color: #3B4455;\n",
       "      fill: #D2E3FC;\n",
       "    }\n",
       "\n",
       "    [theme=dark] .colab-df-convert:hover {\n",
       "      background-color: #434B5C;\n",
       "      box-shadow: 0px 1px 3px 1px rgba(0, 0, 0, 0.15);\n",
       "      filter: drop-shadow(0px 1px 2px rgba(0, 0, 0, 0.3));\n",
       "      fill: #FFFFFF;\n",
       "    }\n",
       "  </style>\n",
       "\n",
       "    <script>\n",
       "      const buttonEl =\n",
       "        document.querySelector('#df-c0e6ed93-4d80-4491-8c6f-6798eabe61ed button.colab-df-convert');\n",
       "      buttonEl.style.display =\n",
       "        google.colab.kernel.accessAllowed ? 'block' : 'none';\n",
       "\n",
       "      async function convertToInteractive(key) {\n",
       "        const element = document.querySelector('#df-c0e6ed93-4d80-4491-8c6f-6798eabe61ed');\n",
       "        const dataTable =\n",
       "          await google.colab.kernel.invokeFunction('convertToInteractive',\n",
       "                                                    [key], {});\n",
       "        if (!dataTable) return;\n",
       "\n",
       "        const docLinkHtml = 'Like what you see? Visit the ' +\n",
       "          '<a target=\"_blank\" href=https://colab.research.google.com/notebooks/data_table.ipynb>data table notebook</a>'\n",
       "          + ' to learn more about interactive tables.';\n",
       "        element.innerHTML = '';\n",
       "        dataTable['output_type'] = 'display_data';\n",
       "        await google.colab.output.renderOutput(dataTable, element);\n",
       "        const docLink = document.createElement('div');\n",
       "        docLink.innerHTML = docLinkHtml;\n",
       "        element.appendChild(docLink);\n",
       "      }\n",
       "    </script>\n",
       "  </div>\n",
       "\n",
       "\n",
       "    <div id=\"df-9debb2b7-1f3b-41c2-97b9-1d3b634ca138\">\n",
       "      <button class=\"colab-df-quickchart\" onclick=\"quickchart('df-9debb2b7-1f3b-41c2-97b9-1d3b634ca138')\"\n",
       "                title=\"Suggest charts\"\n",
       "                style=\"display:none;\">\n",
       "\n",
       "<svg xmlns=\"http://www.w3.org/2000/svg\" height=\"24px\"viewBox=\"0 0 24 24\"\n",
       "     width=\"24px\">\n",
       "    <g>\n",
       "        <path d=\"M19 3H5c-1.1 0-2 .9-2 2v14c0 1.1.9 2 2 2h14c1.1 0 2-.9 2-2V5c0-1.1-.9-2-2-2zM9 17H7v-7h2v7zm4 0h-2V7h2v10zm4 0h-2v-4h2v4z\"/>\n",
       "    </g>\n",
       "</svg>\n",
       "      </button>\n",
       "\n",
       "<style>\n",
       "  .colab-df-quickchart {\n",
       "      --bg-color: #E8F0FE;\n",
       "      --fill-color: #1967D2;\n",
       "      --hover-bg-color: #E2EBFA;\n",
       "      --hover-fill-color: #174EA6;\n",
       "      --disabled-fill-color: #AAA;\n",
       "      --disabled-bg-color: #DDD;\n",
       "  }\n",
       "\n",
       "  [theme=dark] .colab-df-quickchart {\n",
       "      --bg-color: #3B4455;\n",
       "      --fill-color: #D2E3FC;\n",
       "      --hover-bg-color: #434B5C;\n",
       "      --hover-fill-color: #FFFFFF;\n",
       "      --disabled-bg-color: #3B4455;\n",
       "      --disabled-fill-color: #666;\n",
       "  }\n",
       "\n",
       "  .colab-df-quickchart {\n",
       "    background-color: var(--bg-color);\n",
       "    border: none;\n",
       "    border-radius: 50%;\n",
       "    cursor: pointer;\n",
       "    display: none;\n",
       "    fill: var(--fill-color);\n",
       "    height: 32px;\n",
       "    padding: 0;\n",
       "    width: 32px;\n",
       "  }\n",
       "\n",
       "  .colab-df-quickchart:hover {\n",
       "    background-color: var(--hover-bg-color);\n",
       "    box-shadow: 0 1px 2px rgba(60, 64, 67, 0.3), 0 1px 3px 1px rgba(60, 64, 67, 0.15);\n",
       "    fill: var(--button-hover-fill-color);\n",
       "  }\n",
       "\n",
       "  .colab-df-quickchart-complete:disabled,\n",
       "  .colab-df-quickchart-complete:disabled:hover {\n",
       "    background-color: var(--disabled-bg-color);\n",
       "    fill: var(--disabled-fill-color);\n",
       "    box-shadow: none;\n",
       "  }\n",
       "\n",
       "  .colab-df-spinner {\n",
       "    border: 2px solid var(--fill-color);\n",
       "    border-color: transparent;\n",
       "    border-bottom-color: var(--fill-color);\n",
       "    animation:\n",
       "      spin 1s steps(1) infinite;\n",
       "  }\n",
       "\n",
       "  @keyframes spin {\n",
       "    0% {\n",
       "      border-color: transparent;\n",
       "      border-bottom-color: var(--fill-color);\n",
       "      border-left-color: var(--fill-color);\n",
       "    }\n",
       "    20% {\n",
       "      border-color: transparent;\n",
       "      border-left-color: var(--fill-color);\n",
       "      border-top-color: var(--fill-color);\n",
       "    }\n",
       "    30% {\n",
       "      border-color: transparent;\n",
       "      border-left-color: var(--fill-color);\n",
       "      border-top-color: var(--fill-color);\n",
       "      border-right-color: var(--fill-color);\n",
       "    }\n",
       "    40% {\n",
       "      border-color: transparent;\n",
       "      border-right-color: var(--fill-color);\n",
       "      border-top-color: var(--fill-color);\n",
       "    }\n",
       "    60% {\n",
       "      border-color: transparent;\n",
       "      border-right-color: var(--fill-color);\n",
       "    }\n",
       "    80% {\n",
       "      border-color: transparent;\n",
       "      border-right-color: var(--fill-color);\n",
       "      border-bottom-color: var(--fill-color);\n",
       "    }\n",
       "    90% {\n",
       "      border-color: transparent;\n",
       "      border-bottom-color: var(--fill-color);\n",
       "    }\n",
       "  }\n",
       "</style>\n",
       "\n",
       "      <script>\n",
       "        async function quickchart(key) {\n",
       "          const quickchartButtonEl =\n",
       "            document.querySelector('#' + key + ' button');\n",
       "          quickchartButtonEl.disabled = true;  // To prevent multiple clicks.\n",
       "          quickchartButtonEl.classList.add('colab-df-spinner');\n",
       "          try {\n",
       "            const charts = await google.colab.kernel.invokeFunction(\n",
       "                'suggestCharts', [key], {});\n",
       "          } catch (error) {\n",
       "            console.error('Error during call to suggestCharts:', error);\n",
       "          }\n",
       "          quickchartButtonEl.classList.remove('colab-df-spinner');\n",
       "          quickchartButtonEl.classList.add('colab-df-quickchart-complete');\n",
       "        }\n",
       "        (() => {\n",
       "          let quickchartButtonEl =\n",
       "            document.querySelector('#df-9debb2b7-1f3b-41c2-97b9-1d3b634ca138 button');\n",
       "          quickchartButtonEl.style.display =\n",
       "            google.colab.kernel.accessAllowed ? 'block' : 'none';\n",
       "        })();\n",
       "      </script>\n",
       "    </div>\n",
       "    </div>\n",
       "  </div>\n"
      ],
      "text/plain": [
       "              label\n",
       "count  16000.000000\n",
       "mean       1.565937\n",
       "std        1.501430\n",
       "min        0.000000\n",
       "25%        0.000000\n",
       "50%        1.000000\n",
       "75%        3.000000\n",
       "max        5.000000"
      ]
     },
     "execution_count": 6,
     "metadata": {},
     "output_type": "execute_result"
    }
   ],
   "source": [
    "data_t.describe()"
   ]
  },
  {
   "cell_type": "code",
   "execution_count": 7,
   "metadata": {
    "colab": {
     "base_uri": "https://localhost:8080/"
    },
    "executionInfo": {
     "elapsed": 17,
     "status": "ok",
     "timestamp": 1752583922377,
     "user": {
      "displayName": "Milad Rasooli",
      "userId": "00542327659329088999"
     },
     "user_tz": -210
    },
    "id": "euTnoWuEvjK7",
    "outputId": "135dde3b-8cab-4bc9-bbc2-47f3ec2f2232"
   },
   "outputs": [
    {
     "data": {
      "text/plain": [
       "array(['sadness', 'anger', 'love', 'surprise', 'fear', 'joy'],\n",
       "      dtype=object)"
      ]
     },
     "execution_count": 7,
     "metadata": {},
     "output_type": "execute_result"
    }
   ],
   "source": [
    "data_t[\"label_name\"].unique()"
   ]
  },
  {
   "cell_type": "code",
   "execution_count": 8,
   "metadata": {
    "colab": {
     "base_uri": "https://localhost:8080/",
     "height": 35
    },
    "executionInfo": {
     "elapsed": 15,
     "status": "ok",
     "timestamp": 1752583922377,
     "user": {
      "displayName": "Milad Rasooli",
      "userId": "00542327659329088999"
     },
     "user_tz": -210
    },
    "id": "aQjZ6goKvrCz",
    "outputId": "18be7695-3a60-4331-c566-bc6482ff07c7"
   },
   "outputs": [
    {
     "data": {
      "application/vnd.google.colaboratory.intrinsic+json": {
       "type": "string"
      },
      "text/plain": [
       "'i was able to help chai lifeline with your support and encouragement is a great feeling and i am so glad you were able to help me'"
      ]
     },
     "execution_count": 8,
     "metadata": {},
     "output_type": "execute_result"
    }
   ],
   "source": [
    "data_t[\"text\"][23]"
   ]
  },
  {
   "cell_type": "code",
   "execution_count": 8,
   "metadata": {
    "executionInfo": {
     "elapsed": 14,
     "status": "ok",
     "timestamp": 1752583922377,
     "user": {
      "displayName": "Milad Rasooli",
      "userId": "00542327659329088999"
     },
     "user_tz": -210
    },
    "id": "gtBjTvxW6jz5"
   },
   "outputs": [],
   "source": []
  },
  {
   "cell_type": "markdown",
   "metadata": {
    "id": "BLzyYX566nJk"
   },
   "source": [
    "# Dataset Analysis"
   ]
  },
  {
   "cell_type": "code",
   "execution_count": 9,
   "metadata": {
    "colab": {
     "base_uri": "https://localhost:8080/",
     "height": 424
    },
    "executionInfo": {
     "elapsed": 2308,
     "status": "ok",
     "timestamp": 1752583924672,
     "user": {
      "displayName": "Milad Rasooli",
      "userId": "00542327659329088999"
     },
     "user_tz": -210
    },
    "id": "0po_IEH988pJ",
    "outputId": "aff6bd4b-7e31-417a-98e7-8c5e51ab0e15"
   },
   "outputs": [
    {
     "data": {
      "application/vnd.google.colaboratory.intrinsic+json": {
       "summary": "{\n  \"name\": \"data_t\",\n  \"rows\": 16000,\n  \"fields\": [\n    {\n      \"column\": \"text\",\n      \"properties\": {\n        \"dtype\": \"string\",\n        \"num_unique_values\": 15969,\n        \"samples\": [\n          \"i feel rather imbicilic or at least complacent\",\n          \"i was in the bathroom i had sat down to pee it was to make me feel submissive again per instructions\",\n          \"i am thrilled with the way my skin and hair feel if you are like me you are skeptical\"\n        ],\n        \"semantic_type\": \"\",\n        \"description\": \"\"\n      }\n    },\n    {\n      \"column\": \"label\",\n      \"properties\": {\n        \"dtype\": \"number\",\n        \"std\": 1,\n        \"min\": 0,\n        \"max\": 5,\n        \"num_unique_values\": 6,\n        \"samples\": [\n          0,\n          3,\n          1\n        ],\n        \"semantic_type\": \"\",\n        \"description\": \"\"\n      }\n    },\n    {\n      \"column\": \"label_name\",\n      \"properties\": {\n        \"dtype\": \"category\",\n        \"num_unique_values\": 6,\n        \"samples\": [\n          \"sadness\",\n          \"anger\",\n          \"joy\"\n        ],\n        \"semantic_type\": \"\",\n        \"description\": \"\"\n      }\n    },\n    {\n      \"column\": \"words_per_tweet \",\n      \"properties\": {\n        \"dtype\": \"number\",\n        \"std\": 10,\n        \"min\": 2,\n        \"max\": 66,\n        \"num_unique_values\": 64,\n        \"samples\": [\n          61,\n          62,\n          4\n        ],\n        \"semantic_type\": \"\",\n        \"description\": \"\"\n      }\n    }\n  ]\n}",
       "type": "dataframe",
       "variable_name": "data_t"
      },
      "text/html": [
       "\n",
       "  <div id=\"df-2f995b47-6eb4-420f-b56a-270fdde364cd\" class=\"colab-df-container\">\n",
       "    <div>\n",
       "<style scoped>\n",
       "    .dataframe tbody tr th:only-of-type {\n",
       "        vertical-align: middle;\n",
       "    }\n",
       "\n",
       "    .dataframe tbody tr th {\n",
       "        vertical-align: top;\n",
       "    }\n",
       "\n",
       "    .dataframe thead th {\n",
       "        text-align: right;\n",
       "    }\n",
       "</style>\n",
       "<table border=\"1\" class=\"dataframe\">\n",
       "  <thead>\n",
       "    <tr style=\"text-align: right;\">\n",
       "      <th></th>\n",
       "      <th>text</th>\n",
       "      <th>label</th>\n",
       "      <th>label_name</th>\n",
       "      <th>words_per_tweet</th>\n",
       "    </tr>\n",
       "  </thead>\n",
       "  <tbody>\n",
       "    <tr>\n",
       "      <th>0</th>\n",
       "      <td>i didnt feel humiliated</td>\n",
       "      <td>0</td>\n",
       "      <td>sadness</td>\n",
       "      <td>4</td>\n",
       "    </tr>\n",
       "    <tr>\n",
       "      <th>1</th>\n",
       "      <td>i can go from feeling so hopeless to so damned...</td>\n",
       "      <td>0</td>\n",
       "      <td>sadness</td>\n",
       "      <td>21</td>\n",
       "    </tr>\n",
       "    <tr>\n",
       "      <th>2</th>\n",
       "      <td>im grabbing a minute to post i feel greedy wrong</td>\n",
       "      <td>3</td>\n",
       "      <td>anger</td>\n",
       "      <td>10</td>\n",
       "    </tr>\n",
       "    <tr>\n",
       "      <th>3</th>\n",
       "      <td>i am ever feeling nostalgic about the fireplac...</td>\n",
       "      <td>2</td>\n",
       "      <td>love</td>\n",
       "      <td>18</td>\n",
       "    </tr>\n",
       "    <tr>\n",
       "      <th>4</th>\n",
       "      <td>i am feeling grouchy</td>\n",
       "      <td>3</td>\n",
       "      <td>anger</td>\n",
       "      <td>4</td>\n",
       "    </tr>\n",
       "    <tr>\n",
       "      <th>...</th>\n",
       "      <td>...</td>\n",
       "      <td>...</td>\n",
       "      <td>...</td>\n",
       "      <td>...</td>\n",
       "    </tr>\n",
       "    <tr>\n",
       "      <th>15995</th>\n",
       "      <td>i just had a very brief time in the beanbag an...</td>\n",
       "      <td>0</td>\n",
       "      <td>sadness</td>\n",
       "      <td>24</td>\n",
       "    </tr>\n",
       "    <tr>\n",
       "      <th>15996</th>\n",
       "      <td>i am now turning and i feel pathetic that i am...</td>\n",
       "      <td>0</td>\n",
       "      <td>sadness</td>\n",
       "      <td>20</td>\n",
       "    </tr>\n",
       "    <tr>\n",
       "      <th>15997</th>\n",
       "      <td>i feel strong and good overall</td>\n",
       "      <td>1</td>\n",
       "      <td>joy</td>\n",
       "      <td>6</td>\n",
       "    </tr>\n",
       "    <tr>\n",
       "      <th>15998</th>\n",
       "      <td>i feel like this was such a rude comment and i...</td>\n",
       "      <td>3</td>\n",
       "      <td>anger</td>\n",
       "      <td>14</td>\n",
       "    </tr>\n",
       "    <tr>\n",
       "      <th>15999</th>\n",
       "      <td>i know a lot but i feel so stupid because i ca...</td>\n",
       "      <td>0</td>\n",
       "      <td>sadness</td>\n",
       "      <td>15</td>\n",
       "    </tr>\n",
       "  </tbody>\n",
       "</table>\n",
       "<p>16000 rows × 4 columns</p>\n",
       "</div>\n",
       "    <div class=\"colab-df-buttons\">\n",
       "\n",
       "  <div class=\"colab-df-container\">\n",
       "    <button class=\"colab-df-convert\" onclick=\"convertToInteractive('df-2f995b47-6eb4-420f-b56a-270fdde364cd')\"\n",
       "            title=\"Convert this dataframe to an interactive table.\"\n",
       "            style=\"display:none;\">\n",
       "\n",
       "  <svg xmlns=\"http://www.w3.org/2000/svg\" height=\"24px\" viewBox=\"0 -960 960 960\">\n",
       "    <path d=\"M120-120v-720h720v720H120Zm60-500h600v-160H180v160Zm220 220h160v-160H400v160Zm0 220h160v-160H400v160ZM180-400h160v-160H180v160Zm440 0h160v-160H620v160ZM180-180h160v-160H180v160Zm440 0h160v-160H620v160Z\"/>\n",
       "  </svg>\n",
       "    </button>\n",
       "\n",
       "  <style>\n",
       "    .colab-df-container {\n",
       "      display:flex;\n",
       "      gap: 12px;\n",
       "    }\n",
       "\n",
       "    .colab-df-convert {\n",
       "      background-color: #E8F0FE;\n",
       "      border: none;\n",
       "      border-radius: 50%;\n",
       "      cursor: pointer;\n",
       "      display: none;\n",
       "      fill: #1967D2;\n",
       "      height: 32px;\n",
       "      padding: 0 0 0 0;\n",
       "      width: 32px;\n",
       "    }\n",
       "\n",
       "    .colab-df-convert:hover {\n",
       "      background-color: #E2EBFA;\n",
       "      box-shadow: 0px 1px 2px rgba(60, 64, 67, 0.3), 0px 1px 3px 1px rgba(60, 64, 67, 0.15);\n",
       "      fill: #174EA6;\n",
       "    }\n",
       "\n",
       "    .colab-df-buttons div {\n",
       "      margin-bottom: 4px;\n",
       "    }\n",
       "\n",
       "    [theme=dark] .colab-df-convert {\n",
       "      background-color: #3B4455;\n",
       "      fill: #D2E3FC;\n",
       "    }\n",
       "\n",
       "    [theme=dark] .colab-df-convert:hover {\n",
       "      background-color: #434B5C;\n",
       "      box-shadow: 0px 1px 3px 1px rgba(0, 0, 0, 0.15);\n",
       "      filter: drop-shadow(0px 1px 2px rgba(0, 0, 0, 0.3));\n",
       "      fill: #FFFFFF;\n",
       "    }\n",
       "  </style>\n",
       "\n",
       "    <script>\n",
       "      const buttonEl =\n",
       "        document.querySelector('#df-2f995b47-6eb4-420f-b56a-270fdde364cd button.colab-df-convert');\n",
       "      buttonEl.style.display =\n",
       "        google.colab.kernel.accessAllowed ? 'block' : 'none';\n",
       "\n",
       "      async function convertToInteractive(key) {\n",
       "        const element = document.querySelector('#df-2f995b47-6eb4-420f-b56a-270fdde364cd');\n",
       "        const dataTable =\n",
       "          await google.colab.kernel.invokeFunction('convertToInteractive',\n",
       "                                                    [key], {});\n",
       "        if (!dataTable) return;\n",
       "\n",
       "        const docLinkHtml = 'Like what you see? Visit the ' +\n",
       "          '<a target=\"_blank\" href=https://colab.research.google.com/notebooks/data_table.ipynb>data table notebook</a>'\n",
       "          + ' to learn more about interactive tables.';\n",
       "        element.innerHTML = '';\n",
       "        dataTable['output_type'] = 'display_data';\n",
       "        await google.colab.output.renderOutput(dataTable, element);\n",
       "        const docLink = document.createElement('div');\n",
       "        docLink.innerHTML = docLinkHtml;\n",
       "        element.appendChild(docLink);\n",
       "      }\n",
       "    </script>\n",
       "  </div>\n",
       "\n",
       "\n",
       "    <div id=\"df-7e067ae2-4bd9-4877-92b1-86999cb29373\">\n",
       "      <button class=\"colab-df-quickchart\" onclick=\"quickchart('df-7e067ae2-4bd9-4877-92b1-86999cb29373')\"\n",
       "                title=\"Suggest charts\"\n",
       "                style=\"display:none;\">\n",
       "\n",
       "<svg xmlns=\"http://www.w3.org/2000/svg\" height=\"24px\"viewBox=\"0 0 24 24\"\n",
       "     width=\"24px\">\n",
       "    <g>\n",
       "        <path d=\"M19 3H5c-1.1 0-2 .9-2 2v14c0 1.1.9 2 2 2h14c1.1 0 2-.9 2-2V5c0-1.1-.9-2-2-2zM9 17H7v-7h2v7zm4 0h-2V7h2v10zm4 0h-2v-4h2v4z\"/>\n",
       "    </g>\n",
       "</svg>\n",
       "      </button>\n",
       "\n",
       "<style>\n",
       "  .colab-df-quickchart {\n",
       "      --bg-color: #E8F0FE;\n",
       "      --fill-color: #1967D2;\n",
       "      --hover-bg-color: #E2EBFA;\n",
       "      --hover-fill-color: #174EA6;\n",
       "      --disabled-fill-color: #AAA;\n",
       "      --disabled-bg-color: #DDD;\n",
       "  }\n",
       "\n",
       "  [theme=dark] .colab-df-quickchart {\n",
       "      --bg-color: #3B4455;\n",
       "      --fill-color: #D2E3FC;\n",
       "      --hover-bg-color: #434B5C;\n",
       "      --hover-fill-color: #FFFFFF;\n",
       "      --disabled-bg-color: #3B4455;\n",
       "      --disabled-fill-color: #666;\n",
       "  }\n",
       "\n",
       "  .colab-df-quickchart {\n",
       "    background-color: var(--bg-color);\n",
       "    border: none;\n",
       "    border-radius: 50%;\n",
       "    cursor: pointer;\n",
       "    display: none;\n",
       "    fill: var(--fill-color);\n",
       "    height: 32px;\n",
       "    padding: 0;\n",
       "    width: 32px;\n",
       "  }\n",
       "\n",
       "  .colab-df-quickchart:hover {\n",
       "    background-color: var(--hover-bg-color);\n",
       "    box-shadow: 0 1px 2px rgba(60, 64, 67, 0.3), 0 1px 3px 1px rgba(60, 64, 67, 0.15);\n",
       "    fill: var(--button-hover-fill-color);\n",
       "  }\n",
       "\n",
       "  .colab-df-quickchart-complete:disabled,\n",
       "  .colab-df-quickchart-complete:disabled:hover {\n",
       "    background-color: var(--disabled-bg-color);\n",
       "    fill: var(--disabled-fill-color);\n",
       "    box-shadow: none;\n",
       "  }\n",
       "\n",
       "  .colab-df-spinner {\n",
       "    border: 2px solid var(--fill-color);\n",
       "    border-color: transparent;\n",
       "    border-bottom-color: var(--fill-color);\n",
       "    animation:\n",
       "      spin 1s steps(1) infinite;\n",
       "  }\n",
       "\n",
       "  @keyframes spin {\n",
       "    0% {\n",
       "      border-color: transparent;\n",
       "      border-bottom-color: var(--fill-color);\n",
       "      border-left-color: var(--fill-color);\n",
       "    }\n",
       "    20% {\n",
       "      border-color: transparent;\n",
       "      border-left-color: var(--fill-color);\n",
       "      border-top-color: var(--fill-color);\n",
       "    }\n",
       "    30% {\n",
       "      border-color: transparent;\n",
       "      border-left-color: var(--fill-color);\n",
       "      border-top-color: var(--fill-color);\n",
       "      border-right-color: var(--fill-color);\n",
       "    }\n",
       "    40% {\n",
       "      border-color: transparent;\n",
       "      border-right-color: var(--fill-color);\n",
       "      border-top-color: var(--fill-color);\n",
       "    }\n",
       "    60% {\n",
       "      border-color: transparent;\n",
       "      border-right-color: var(--fill-color);\n",
       "    }\n",
       "    80% {\n",
       "      border-color: transparent;\n",
       "      border-right-color: var(--fill-color);\n",
       "      border-bottom-color: var(--fill-color);\n",
       "    }\n",
       "    90% {\n",
       "      border-color: transparent;\n",
       "      border-bottom-color: var(--fill-color);\n",
       "    }\n",
       "  }\n",
       "</style>\n",
       "\n",
       "      <script>\n",
       "        async function quickchart(key) {\n",
       "          const quickchartButtonEl =\n",
       "            document.querySelector('#' + key + ' button');\n",
       "          quickchartButtonEl.disabled = true;  // To prevent multiple clicks.\n",
       "          quickchartButtonEl.classList.add('colab-df-spinner');\n",
       "          try {\n",
       "            const charts = await google.colab.kernel.invokeFunction(\n",
       "                'suggestCharts', [key], {});\n",
       "          } catch (error) {\n",
       "            console.error('Error during call to suggestCharts:', error);\n",
       "          }\n",
       "          quickchartButtonEl.classList.remove('colab-df-spinner');\n",
       "          quickchartButtonEl.classList.add('colab-df-quickchart-complete');\n",
       "        }\n",
       "        (() => {\n",
       "          let quickchartButtonEl =\n",
       "            document.querySelector('#df-7e067ae2-4bd9-4877-92b1-86999cb29373 button');\n",
       "          quickchartButtonEl.style.display =\n",
       "            google.colab.kernel.accessAllowed ? 'block' : 'none';\n",
       "        })();\n",
       "      </script>\n",
       "    </div>\n",
       "    </div>\n",
       "  </div>\n"
      ],
      "text/plain": [
       "                                                    text  label label_name  \\\n",
       "0                                i didnt feel humiliated      0    sadness   \n",
       "1      i can go from feeling so hopeless to so damned...      0    sadness   \n",
       "2       im grabbing a minute to post i feel greedy wrong      3      anger   \n",
       "3      i am ever feeling nostalgic about the fireplac...      2       love   \n",
       "4                                   i am feeling grouchy      3      anger   \n",
       "...                                                  ...    ...        ...   \n",
       "15995  i just had a very brief time in the beanbag an...      0    sadness   \n",
       "15996  i am now turning and i feel pathetic that i am...      0    sadness   \n",
       "15997                     i feel strong and good overall      1        joy   \n",
       "15998  i feel like this was such a rude comment and i...      3      anger   \n",
       "15999  i know a lot but i feel so stupid because i ca...      0    sadness   \n",
       "\n",
       "       words_per_tweet   \n",
       "0                     4  \n",
       "1                    21  \n",
       "2                    10  \n",
       "3                    18  \n",
       "4                     4  \n",
       "...                 ...  \n",
       "15995                24  \n",
       "15996                20  \n",
       "15997                 6  \n",
       "15998                14  \n",
       "15999                15  \n",
       "\n",
       "[16000 rows x 4 columns]"
      ]
     },
     "execution_count": 9,
     "metadata": {},
     "output_type": "execute_result"
    }
   ],
   "source": [
    "data_t[\"words_per_tweet \"] = data_t[\"text\"].str.split().apply(len)\n",
    "data_t\n"
   ]
  },
  {
   "cell_type": "code",
   "execution_count": 10,
   "metadata": {
    "colab": {
     "base_uri": "https://localhost:8080/"
    },
    "executionInfo": {
     "elapsed": 26,
     "status": "ok",
     "timestamp": 1752583924673,
     "user": {
      "displayName": "Milad Rasooli",
      "userId": "00542327659329088999"
     },
     "user_tz": -210
    },
    "id": "5ZiSfXUX-puR",
    "outputId": "698723cd-6477-4158-ecae-931154903931"
   },
   "outputs": [
    {
     "name": "stdout",
     "output_type": "stream",
     "text": [
      "66\n",
      "6322\n"
     ]
    }
   ],
   "source": [
    "print(data_t[\"words_per_tweet \"].max())\n",
    "print(data_t[\"words_per_tweet \"].argmax())\n"
   ]
  },
  {
   "cell_type": "code",
   "execution_count": 11,
   "metadata": {
    "colab": {
     "base_uri": "https://localhost:8080/",
     "height": 444
    },
    "executionInfo": {
     "elapsed": 22,
     "status": "ok",
     "timestamp": 1752583924673,
     "user": {
      "displayName": "Milad Rasooli",
      "userId": "00542327659329088999"
     },
     "user_tz": -210
    },
    "id": "0PADQFUj8PYg",
    "outputId": "58950f3c-b7cf-4f95-e402-36f2af2d70ae"
   },
   "outputs": [
    {
     "data": {
      "image/png": "[encoded data removed]",
      "text/plain": [
       "<Figure size 2200x600 with 3 Axes>"
      ]
     },
     "metadata": {},
     "output_type": "display_data"
    }
   ],
   "source": [
    "fig, (ax1, ax2,ax3) = plt.subplots(1, 3, figsize=(22, 6))\n",
    "\n",
    "label_counts = data_t['label_name'].value_counts(ascending=True)\n",
    "label_percentages = (label_counts / len(data_t)) * 100\n",
    "colors = ['gold', 'lightcoral', 'lightskyblue', 'green', 'purple']\n",
    "\n",
    "ax1.pie(\n",
    "    label_percentages,\n",
    "    labels=[f'Label {i}' for i in label_percentages.index],\n",
    "    autopct='%1.1f%%',\n",
    "    startangle=90,\n",
    "    colors=colors,\n",
    "    shadow=True\n",
    ")\n",
    "ax1.set_title('Distribution of Labels (Pie Chart)', fontsize=14)\n",
    "ax1.axis('equal')\n",
    "\n",
    "\n",
    "label_name_counts = data_t['label_name'].value_counts()\n",
    "label_name_counts.plot.barh(ax=ax2, color='skyblue')\n",
    "ax2.set_title('Distribution of Label Names (Bar Chart)', fontsize=14)\n",
    "ax2.set_xlabel('Count')\n",
    "\n",
    "\n",
    "data_t.boxplot(\"words_per_tweet \",by = \"label_name\",ax= ax3 )\n",
    "ax3.set_title('Words per Tweet by Label', fontsize=14)\n",
    "\n",
    "plt.tight_layout()\n",
    "plt.show()"
   ]
  },
  {
   "cell_type": "markdown",
   "metadata": {
    "id": "ztiDB8lUp8dY"
   },
   "source": [
    "# Model"
   ]
  },
  {
   "cell_type": "code",
   "execution_count": 12,
   "metadata": {
    "executionInfo": {
     "elapsed": 20,
     "status": "ok",
     "timestamp": 1752583924673,
     "user": {
      "displayName": "Milad Rasooli",
      "userId": "00542327659329088999"
     },
     "user_tz": -210
    },
    "id": "vfL0ryUzqChW"
   },
   "outputs": [],
   "source": [
    "model_name = \"bert-base-uncased\""
   ]
  },
  {
   "cell_type": "code",
   "execution_count": 13,
   "metadata": {
    "colab": {
     "base_uri": "https://localhost:8080/",
     "height": 249,
     "referenced_widgets": [
      "ff8f09bc355c41cdaff65de8eca10fae",
      "3138efae9eb44e6687d5a5fa383b4ff8",
      "313ac5ab20734764b45261cd3690a4ba",
      "e54f6d4a3eb94dcc8d4f17e1e3e9510b",
      "7aa80ad736e34467a74a0f215864e1e9",
      "fb2f7a685c9a42968744f21a83f08d00",
      "f9749356722942b7a4d73fbaa0cd12fa",
      "6763ba74fe2648328772e737aacac488",
      "a135f59342014a3096761ffa471c8402",
      "d1a3f72ceb88428a92672f7c09dfeacb",
      "169e7e8e197948a699ee60738c46387c",
      "9c30a5f300e04f90923620acad0ae1e3",
      "ad64cdc7f99f4a838feeeeb7fd2581a1",
      "6c028135049c4d0096d990347807c2fa",
      "b7ff11efd7c34fd58fb6c23ff90b591d",
      "647b753fb7104ba18f2c825369811480",
      "3e46a109dbac4d1c9d55076d6908fe69",
      "55d8e442bc744caf97f9661440c1184a",
      "b3c2028efb224e06a72541a432b69fad",
      "ea41317f09aa43d68239d4502772645f",
      "269fcf9d3615434c9a4a73347bbc0c25",
      "68b96c4ee957477c8e82072a33390c31",
      "b3e20e2c470741fdabaeded0fa1f1092",
      "485c749ffee640d5ae852734dd172941",
      "a2e30610aaa84e40928f53eddcef1e51",
      "ac14866151be41ba9e5e9377d9c4f071",
      "03bdd9db20f54324a6be2c24e48fd578",
      "8886d70346754f43ae91006b450fe2a3",
      "2591d119d2034da088e52b20421bc4bd",
      "5b852a952564465694bfd523a2ce68ac",
      "4ceae0393ef44f0bb3f7255ec787554e",
      "004da792d5374d929d35984a760f4e68",
      "5ca1fad39a51424c9d36f44db3abe587",
      "d2c52982ac2f4f8fa5d2b811a96319ce",
      "458e300afd28429abcf6b22cfb6bb30d",
      "b9c363aeb8de4c49b362ca20a41f5cff",
      "4847ac26aec3432ea06d4c2ddbe04a91",
      "e560f3d232574d5d828350bcaeaa285f",
      "3835bf3bf45d44ebb32671f45c3184d0",
      "8870da58356743af822fe7091aeb26cd",
      "39f752afbf9248d5a7b1cb8abaa7e945",
      "c8d44badac504f01a40f9e8f13f8d8f5",
      "04f3932ebfe04bed80595d9f5d75bac4",
      "d2bbf939959146aaa56e44d7443975c2"
     ]
    },
    "executionInfo": {
     "elapsed": 5671,
     "status": "ok",
     "timestamp": 1752583930325,
     "user": {
      "displayName": "Milad Rasooli",
      "userId": "00542327659329088999"
     },
     "user_tz": -210
    },
    "id": "AipX2BIvDq1q",
    "outputId": "828cd5b7-49a1-48ba-f325-d20b65e4b937"
   },
   "outputs": [
    {
     "name": "stderr",
     "output_type": "stream",
     "text": [
      "/usr/local/lib/python3.11/dist-packages/huggingface_hub/utils/_auth.py:94: UserWarning: \n",
      "The secret `HF_TOKEN` does not exist in your Colab secrets.\n",
      "To authenticate with the Hugging Face Hub, create a token in your settings tab (https://huggingface.co/settings/tokens), set it as secret in your Google Colab and restart your session.\n",
      "You will be able to reuse this secret in all of your notebooks.\n",
      "Please note that authentication is recommended but still optional to access public models or datasets.\n",
      "  warnings.warn(\n"
     ]
    },
    {
     "data": {
      "application/vnd.jupyter.widget-view+json": {
       "model_id": "ff8f09bc355c41cdaff65de8eca10fae",
       "version_major": 2,
       "version_minor": 0
      },
      "text/plain": [
       "tokenizer_config.json:   0%|          | 0.00/48.0 [00:00<?, ?B/s]"
      ]
     },
     "metadata": {},
     "output_type": "display_data"
    },
    {
     "data": {
      "application/vnd.jupyter.widget-view+json": {
       "model_id": "9c30a5f300e04f90923620acad0ae1e3",
       "version_major": 2,
       "version_minor": 0
      },
      "text/plain": [
       "config.json:   0%|          | 0.00/570 [00:00<?, ?B/s]"
      ]
     },
     "metadata": {},
     "output_type": "display_data"
    },
    {
     "data": {
      "application/vnd.jupyter.widget-view+json": {
       "model_id": "b3e20e2c470741fdabaeded0fa1f1092",
       "version_major": 2,
       "version_minor": 0
      },
      "text/plain": [
       "vocab.txt:   0%|          | 0.00/232k [00:00<?, ?B/s]"
      ]
     },
     "metadata": {},
     "output_type": "display_data"
    },
    {
     "data": {
      "application/vnd.jupyter.widget-view+json": {
       "model_id": "d2c52982ac2f4f8fa5d2b811a96319ce",
       "version_major": 2,
       "version_minor": 0
      },
      "text/plain": [
       "tokenizer.json:   0%|          | 0.00/466k [00:00<?, ?B/s]"
      ]
     },
     "metadata": {},
     "output_type": "display_data"
    }
   ],
   "source": [
    "from transformers import AutoTokenizer\n",
    "tokenizer = AutoTokenizer.from_pretrained(model_name)"
   ]
  },
  {
   "cell_type": "code",
   "execution_count": 14,
   "metadata": {
    "executionInfo": {
     "elapsed": 10,
     "status": "ok",
     "timestamp": 1752583930325,
     "user": {
      "displayName": "Milad Rasooli",
      "userId": "00542327659329088999"
     },
     "user_tz": -210
    },
    "id": "5qwCY3akqejl"
   },
   "outputs": [],
   "source": [
    "text = \"hi my name is Milad\""
   ]
  },
  {
   "cell_type": "code",
   "execution_count": 15,
   "metadata": {
    "colab": {
     "base_uri": "https://localhost:8080/"
    },
    "executionInfo": {
     "elapsed": 8,
     "status": "ok",
     "timestamp": 1752583930326,
     "user": {
      "displayName": "Milad Rasooli",
      "userId": "00542327659329088999"
     },
     "user_tz": -210
    },
    "id": "jndoTJqPrMC-",
    "outputId": "9544b9f1-095a-4be2-b200-f527eac2dd64"
   },
   "outputs": [
    {
     "data": {
      "text/plain": [
       "{'input_ids': [101, 7632, 2026, 2171, 2003, 23689, 4215, 102], 'token_type_ids': [0, 0, 0, 0, 0, 0, 0, 0], 'attention_mask': [1, 1, 1, 1, 1, 1, 1, 1]}"
      ]
     },
     "execution_count": 15,
     "metadata": {},
     "output_type": "execute_result"
    }
   ],
   "source": [
    "tokenizer(text)"
   ]
  },
  {
   "cell_type": "code",
   "execution_count": 16,
   "metadata": {
    "colab": {
     "base_uri": "https://localhost:8080/"
    },
    "collapsed": true,
    "executionInfo": {
     "elapsed": 196,
     "status": "ok",
     "timestamp": 1752583931564,
     "user": {
      "displayName": "Milad Rasooli",
      "userId": "00542327659329088999"
     },
     "user_tz": -210
    },
    "id": "Mo1qewf9rUUe",
    "outputId": "0f4473ca-72e8-4d2e-cb26-e57394d4c6eb"
   },
   "outputs": [
    {
     "data": {
      "text/plain": [
       "{'webb': 10923,\n",
       " 'anyone': 3087,\n",
       " 'interruption': 24191,\n",
       " 'mechanized': 23387,\n",
       " 'genre': 6907,\n",
       " 'mysore': 20761,\n",
       " 'propaganda': 10398,\n",
       " 'hindu': 7560,\n",
       " 'success': 3112,\n",
       " 'kelley': 19543,\n",
       " '##wa': 4213,\n",
       " '-': 1011,\n",
       " '207': 19843,\n",
       " 'redevelopment': 15582,\n",
       " 'lash': 25210,\n",
       " 'starboard': 25211,\n",
       " 'prizes': 11580,\n",
       " 'patel': 20455,\n",
       " 'auf': 21200,\n",
       " '##rite': 17625,\n",
       " '[unused267]': 272,\n",
       " 'quote': 14686,\n",
       " 'preschool': 23655,\n",
       " 'antibody': 27781,\n",
       " 'disaster': 7071,\n",
       " 'reacts': 27325,\n",
       " '##ら': 30211,\n",
       " 'trick': 7577,\n",
       " 'shrimp': 20130,\n",
       " 'ruined': 9868,\n",
       " '##33': 22394,\n",
       " 'rotor': 18929,\n",
       " 'seeking': 6224,\n",
       " '1659': 28288,\n",
       " '##ա': 29766,\n",
       " 'observes': 24451,\n",
       " 'tiny': 4714,\n",
       " 'literal': 18204,\n",
       " '[unused711]': 716,\n",
       " '[unused3]': 4,\n",
       " '##լ': 29773,\n",
       " 'societies': 8384,\n",
       " 'georgian': 9166,\n",
       " 'contradictory': 27894,\n",
       " '##hing': 12053,\n",
       " 'inched': 25330,\n",
       " '##oping': 17686,\n",
       " '##won': 19291,\n",
       " 'garner': 18661,\n",
       " 'resulted': 4504,\n",
       " 'dot': 11089,\n",
       " 'abandoning': 19816,\n",
       " '##nad': 25389,\n",
       " 'napoleonic': 18813,\n",
       " 'surroundings': 11301,\n",
       " '##com': 9006,\n",
       " 'aires': 9149,\n",
       " 'mitochondrial': 23079,\n",
       " 'convention': 4680,\n",
       " '##hue': 20169,\n",
       " 'amendment': 7450,\n",
       " 'measuring': 9854,\n",
       " 'theodor': 21448,\n",
       " 'reacted': 14831,\n",
       " 'educating': 25088,\n",
       " '##kee': 20553,\n",
       " '##oll': 14511,\n",
       " 'perceived': 8690,\n",
       " '##lica': 19341,\n",
       " 'sega': 16562,\n",
       " 'swiped': 24452,\n",
       " 'seminar': 18014,\n",
       " 'training': 2731,\n",
       " '##ana': 5162,\n",
       " 'lund': 21860,\n",
       " 'ribbon': 10557,\n",
       " 'specialized': 7772,\n",
       " 'mixture': 8150,\n",
       " 'bulldogs': 15120,\n",
       " 'rapidly': 5901,\n",
       " '##張': 30370,\n",
       " '比': 1890,\n",
       " 'burnley': 23028,\n",
       " 'abstraction': 24504,\n",
       " 'moderator': 29420,\n",
       " '##ina': 3981,\n",
       " 'help': 2393,\n",
       " '[unused642]': 647,\n",
       " '[unused935]': 940,\n",
       " '##wyn': 11761,\n",
       " 'inflammation': 21733,\n",
       " 'prove': 6011,\n",
       " 'sparsely': 24961,\n",
       " 'haute': 18535,\n",
       " 'solved': 13332,\n",
       " 'packages': 14555,\n",
       " 'newest': 14751,\n",
       " 'charting': 17918,\n",
       " 'reform': 5290,\n",
       " 'wilson': 4267,\n",
       " 'radio': 2557,\n",
       " 'abbreviated': 12066,\n",
       " 'muster': 20327,\n",
       " 'intercollegiate': 21587,\n",
       " '##fting': 26169,\n",
       " 'christchurch': 15880,\n",
       " 'iran': 4238,\n",
       " '365': 19342,\n",
       " '##ington': 7853,\n",
       " 'facilitated': 19601,\n",
       " 'documentaries': 15693,\n",
       " '##rmin': 27512,\n",
       " 'soil': 5800,\n",
       " '##^': 29637,\n",
       " 'specifies': 27171,\n",
       " 'count': 4175,\n",
       " 'variety': 3528,\n",
       " '##sr': 21338,\n",
       " 'leung': 26037,\n",
       " 'fundraising': 15524,\n",
       " 'fractures': 28929,\n",
       " '##cate': 16280,\n",
       " 'tells': 4136,\n",
       " 'elvis': 12280,\n",
       " 'soap': 7815,\n",
       " 'timing': 10984,\n",
       " 'litre': 16812,\n",
       " '##ashi': 12914,\n",
       " 'chapter': 3127,\n",
       " 'argued': 5275,\n",
       " 'fourteen': 7426,\n",
       " 'dependence': 18642,\n",
       " 'believing': 8929,\n",
       " 'estranged': 24211,\n",
       " 'hooks': 18008,\n",
       " 'fae': 17282,\n",
       " 'edible': 21006,\n",
       " 'awoke': 19179,\n",
       " 'য': 1371,\n",
       " '##gui': 25698,\n",
       " '197': 19975,\n",
       " 'continual': 27222,\n",
       " 'addict': 26855,\n",
       " '##sworth': 12255,\n",
       " 'hunted': 14682,\n",
       " 'frustrating': 25198,\n",
       " 'caroline': 7981,\n",
       " '##⁄': 30070,\n",
       " 'cheshire': 13789,\n",
       " 'swinging': 11820,\n",
       " 'usher': 20774,\n",
       " '##ttes': 14581,\n",
       " '##ξ': 29729,\n",
       " '##inated': 15833,\n",
       " '##leen': 24129,\n",
       " 'fray': 25975,\n",
       " 'geraldine': 26987,\n",
       " 'rockwell': 25235,\n",
       " 'kane': 8472,\n",
       " 'aroused': 18391,\n",
       " 'searching': 6575,\n",
       " 'wooden': 4799,\n",
       " 'ava': 10927,\n",
       " ';': 1025,\n",
       " '340': 16029,\n",
       " 'stryker': 25429,\n",
       " '##sa': 3736,\n",
       " 'slayer': 20005,\n",
       " '[unused929]': 934,\n",
       " '##trust': 24669,\n",
       " 'files': 6764,\n",
       " 'yi': 12316,\n",
       " 'eine': 27665,\n",
       " 'cans': 18484,\n",
       " 'freedoms': 22467,\n",
       " 'citing': 8951,\n",
       " 'х': 1200,\n",
       " '1902': 5774,\n",
       " '##ζ': 29724,\n",
       " 'quake': 27785,\n",
       " 'advantage': 5056,\n",
       " 'chamberlain': 13904,\n",
       " 'divisional': 14167,\n",
       " 'voyage': 8774,\n",
       " 'gdp': 14230,\n",
       " 'fresh': 4840,\n",
       " 'エ': 1698,\n",
       " '##ras': 8180,\n",
       " 'baroque': 10456,\n",
       " 'か': 1651,\n",
       " 'ง': 1410,\n",
       " 'doping': 23799,\n",
       " '##ryn': 18143,\n",
       " '##izer': 17629,\n",
       " 'brenda': 15507,\n",
       " '##quette': 29416,\n",
       " 'vodka': 21092,\n",
       " 'bullshit': 14636,\n",
       " '1925': 4849,\n",
       " 'failing': 7989,\n",
       " 'kincaid': 24510,\n",
       " 'alton': 26374,\n",
       " 'cambridge': 4729,\n",
       " 'bulb': 20581,\n",
       " 'bisexual': 22437,\n",
       " 'nocturnal': 23789,\n",
       " '[unused245]': 250,\n",
       " 'softer': 19013,\n",
       " 'reggie': 17963,\n",
       " 'politician': 3761,\n",
       " '##bill': 24457,\n",
       " 'lenses': 15072,\n",
       " 'saving': 7494,\n",
       " 'elf': 17163,\n",
       " 'chewing': 17492,\n",
       " 'attitude': 7729,\n",
       " 'featherweight': 27145,\n",
       " 'ill': 5665,\n",
       " 'ezio': 23043,\n",
       " 'seizing': 24681,\n",
       " 'monarchy': 12078,\n",
       " 'splendid': 21459,\n",
       " 'barlow': 17803,\n",
       " 'despite': 2750,\n",
       " 'midnight': 7090,\n",
       " '##oc': 10085,\n",
       " '##6th': 25994,\n",
       " '龍': 1982,\n",
       " 'sockets': 27540,\n",
       " '##iferous': 23930,\n",
       " '##bal': 10264,\n",
       " 'hamid': 24811,\n",
       " 'stay': 2994,\n",
       " 'hiv': 9820,\n",
       " '98': 5818,\n",
       " 'lobe': 21833,\n",
       " '##rama': 14672,\n",
       " 'responsibility': 5368,\n",
       " 'devout': 26092,\n",
       " 'hydroelectric': 18541,\n",
       " '114': 12457,\n",
       " 'ও': 1352,\n",
       " 'dried': 9550,\n",
       " 'chesapeake': 20867,\n",
       " '[unused21]': 22,\n",
       " '[unused771]': 776,\n",
       " 'norway': 5120,\n",
       " 'flanagan': 26558,\n",
       " '##tein': 9589,\n",
       " 'bolts': 19947,\n",
       " 'coaches': 7850,\n",
       " 'university': 2118,\n",
       " 'spawned': 18379,\n",
       " 'glendale': 27649,\n",
       " 'spur': 12996,\n",
       " '##ucher': 22368,\n",
       " 'milos': 26038,\n",
       " 'creole': 21414,\n",
       " '##道': 30483,\n",
       " 'blushed': 19370,\n",
       " '##dana': 25917,\n",
       " 'answer': 3437,\n",
       " 'improved': 5301,\n",
       " 'pleistocene': 25080,\n",
       " '##listic': 27348,\n",
       " '##sford': 17658,\n",
       " 'postponed': 14475,\n",
       " 'proto': 15053,\n",
       " 'ominous': 23504,\n",
       " 'dotted': 20384,\n",
       " 'assembly': 3320,\n",
       " 'weapon': 5195,\n",
       " '##வ': 29930,\n",
       " 'publication': 4772,\n",
       " 'cc': 10507,\n",
       " '##wear': 16689,\n",
       " '##sper': 17668,\n",
       " 'giacomo': 22873,\n",
       " '##ote': 12184,\n",
       " 'prisoner': 7267,\n",
       " '##agne': 25440,\n",
       " 'chrome': 18546,\n",
       " 'kashmir': 13329,\n",
       " 'should': 2323,\n",
       " 'underground': 5230,\n",
       " 'ষ': 1375,\n",
       " '[unused444]': 449,\n",
       " '##stad': 16917,\n",
       " 'safer': 13726,\n",
       " 'rick': 6174,\n",
       " '##mura': 16069,\n",
       " '[unused616]': 621,\n",
       " '##_': 29638,\n",
       " '##zan': 13471,\n",
       " 'smooth': 5744,\n",
       " 'accommodated': 28959,\n",
       " 'fergus': 21023,\n",
       " 'eco': 17338,\n",
       " 'germany': 2762,\n",
       " 'blood': 2668,\n",
       " 'rounds': 6241,\n",
       " '[unused5]': 6,\n",
       " '##the': 10760,\n",
       " 'collectively': 13643,\n",
       " '##aya': 12186,\n",
       " '##ption': 16790,\n",
       " 'orchestra': 4032,\n",
       " '##ffi': 26989,\n",
       " '##hend': 22342,\n",
       " 'testimony': 10896,\n",
       " 'union': 2586,\n",
       " 'northwestern': 7855,\n",
       " 'corp': 13058,\n",
       " '##պ': 29780,\n",
       " '##gies': 17252,\n",
       " 'hackett': 28630,\n",
       " 'sarajevo': 18354,\n",
       " '[unused772]': 777,\n",
       " '##pp': 9397,\n",
       " 'organizations': 4411,\n",
       " '##坂': 30329,\n",
       " 'craft': 7477,\n",
       " 'fantasia': 29203,\n",
       " 'stephan': 15963,\n",
       " 'censorship': 15657,\n",
       " '##uni': 19496,\n",
       " 'postgraduate': 15438,\n",
       " 'marguerite': 15334,\n",
       " 'beds': 9705,\n",
       " 'cartridges': 22998,\n",
       " 'earthly': 29520,\n",
       " 'usually': 2788,\n",
       " '##adia': 25205,\n",
       " 'adjutant': 20690,\n",
       " 'magistrates': 23007,\n",
       " '##ち': 30188,\n",
       " '##war': 9028,\n",
       " 'smarter': 25670,\n",
       " 'landscape': 5957,\n",
       " 'advertisements': 14389,\n",
       " '##well': 4381,\n",
       " 'regards': 12362,\n",
       " '##ი': 29981,\n",
       " 'many': 2116,\n",
       " 'stripped': 10040,\n",
       " '##yo': 7677,\n",
       " 'milky': 21582,\n",
       " 'tasting': 18767,\n",
       " '##め': 30206,\n",
       " 'sixteenth': 14683,\n",
       " 'db': 16962,\n",
       " 'ᵢ': 1507,\n",
       " '##ᵏ': 30037,\n",
       " 'snail': 10879,\n",
       " '##utive': 28546,\n",
       " 'virtues': 21560,\n",
       " 'encourages': 16171,\n",
       " '##健': 30294,\n",
       " '##bbs': 17226,\n",
       " 'capcom': 26861,\n",
       " '##chy': 11714,\n",
       " 'sprung': 22057,\n",
       " 'mock': 12934,\n",
       " 'practices': 6078,\n",
       " '##eaux': 25639,\n",
       " 'queer': 19483,\n",
       " 'pal': 14412,\n",
       " 'backed': 6153,\n",
       " 'chilean': 12091,\n",
       " 'occupy': 11494,\n",
       " 'ج': 1275,\n",
       " '##ᆸ': 30024,\n",
       " 'rico': 7043,\n",
       " 'schumann': 29448,\n",
       " '##wives': 23744,\n",
       " '[unused214]': 219,\n",
       " 'fitted': 7130,\n",
       " 'セ': 1708,\n",
       " '##ب': 29816,\n",
       " 'lyon': 10241,\n",
       " 'rfc': 14645,\n",
       " 'anterior': 15099,\n",
       " '[unused589]': 594,\n",
       " 'romanesque': 17135,\n",
       " '##osing': 18606,\n",
       " '[unused580]': 585,\n",
       " 'turbulence': 29083,\n",
       " '##sters': 15608,\n",
       " 'vaults': 28658,\n",
       " 'rosewood': 29528,\n",
       " 'ᄆ': 1459,\n",
       " 'clade': 21697,\n",
       " '1660': 17954,\n",
       " 'favor': 5684,\n",
       " 'raf': 7148,\n",
       " 'brutality': 24083,\n",
       " '[unused240]': 245,\n",
       " 'philips': 19087,\n",
       " '##dents': 28986,\n",
       " '[unused602]': 607,\n",
       " '##rial': 14482,\n",
       " 'talks': 7566,\n",
       " 'locations': 5269,\n",
       " 'wisconsin': 5273,\n",
       " 'noting': 9073,\n",
       " 'conscription': 26329,\n",
       " 'arlington': 13929,\n",
       " 'vargas': 20556,\n",
       " 'conquered': 11438,\n",
       " '##maker': 8571,\n",
       " 'gasping': 17054,\n",
       " 'bandwidth': 20235,\n",
       " 'fours': 23817,\n",
       " '[unused136]': 141,\n",
       " 'reissue': 17173,\n",
       " 'jain': 17136,\n",
       " 'burst': 6532,\n",
       " 'athlete': 8258,\n",
       " 'opus': 16895,\n",
       " 'pauline': 15595,\n",
       " 'turnbull': 26439,\n",
       " 'flattened': 16379,\n",
       " 'valley': 3028,\n",
       " 'gestured': 11574,\n",
       " 'airbus': 20901,\n",
       " 'legacy': 8027,\n",
       " 'haji': 28174,\n",
       " '225': 14993,\n",
       " '[unused604]': 609,\n",
       " '1942': 3758,\n",
       " 'publishers': 8544,\n",
       " 'convicts': 24948,\n",
       " 'developing': 4975,\n",
       " '[unused927]': 932,\n",
       " '##itan': 25451,\n",
       " 'claims': 4447,\n",
       " 'exaggerated': 16903,\n",
       " 'linger': 26577,\n",
       " 'icons': 18407,\n",
       " 'paragraph': 20423,\n",
       " 'tre': 29461,\n",
       " 'bold': 7782,\n",
       " 'suffered': 4265,\n",
       " 'softened': 16573,\n",
       " 'wales': 3575,\n",
       " '##shah': 25611,\n",
       " 'dhaka': 16479,\n",
       " 'alejandro': 16810,\n",
       " 'consent': 9619,\n",
       " 'class': 2465,\n",
       " 'rolls': 9372,\n",
       " 'comical': 29257,\n",
       " 'coinage': 25396,\n",
       " 'tres': 24403,\n",
       " 'gospels': 24131,\n",
       " '[unused536]': 541,\n",
       " '##mmer': 15810,\n",
       " 'צ': 1263,\n",
       " '##ل': 23673,\n",
       " '##34': 22022,\n",
       " 'dalai': 28511,\n",
       " 'merchant': 6432,\n",
       " 'succeed': 9510,\n",
       " 'tammy': 19971,\n",
       " 'mean': 2812,\n",
       " 'detached': 12230,\n",
       " 'eighteen': 7763,\n",
       " '##eley': 22352,\n",
       " 'baking': 21522,\n",
       " 'treasury': 9837,\n",
       " 'delilah': 23006,\n",
       " 'coached': 8868,\n",
       " '##ceptive': 28687,\n",
       " 'ninth': 6619,\n",
       " 'unlocked': 14058,\n",
       " '##tek': 23125,\n",
       " '##tlan': 28922,\n",
       " 'sheila': 15062,\n",
       " 'dwellers': 28857,\n",
       " 'operations': 3136,\n",
       " 'aged': 4793,\n",
       " 'sampling': 16227,\n",
       " 'vulcan': 25993,\n",
       " 'starting': 3225,\n",
       " 'where': 2073,\n",
       " 'envisioned': 18035,\n",
       " '##weig': 27204,\n",
       " 'filming': 7467,\n",
       " 'peasants': 13193,\n",
       " '##elli': 13348,\n",
       " 'reeves': 17891,\n",
       " 'anton': 9865,\n",
       " '##puram': 17809,\n",
       " 'josef': 12947,\n",
       " 'cobra': 16604,\n",
       " 'municipalities': 7602,\n",
       " 'chew': 21271,\n",
       " 'sighs': 19906,\n",
       " 'drained': 11055,\n",
       " '450': 10332,\n",
       " 'accompanied': 5642,\n",
       " 'badminton': 14618,\n",
       " 'clearing': 8430,\n",
       " '##ient': 11638,\n",
       " 'confirms': 23283,\n",
       " 'value': 3643,\n",
       " 'plague': 11629,\n",
       " 'regiment': 3483,\n",
       " 'verses': 11086,\n",
       " 'waterfall': 14297,\n",
       " 'ₘ': 1567,\n",
       " 'gains': 12154,\n",
       " 'republicans': 10643,\n",
       " 'inca': 27523,\n",
       " 'parking': 5581,\n",
       " 'identifies': 14847,\n",
       " '##nea': 22084,\n",
       " 'mo': 9587,\n",
       " 'schooling': 14118,\n",
       " 'undergone': 17215,\n",
       " '##rel': 16570,\n",
       " '##metry': 24327,\n",
       " 'carole': 24348,\n",
       " '##icient': 20132,\n",
       " 'equal': 5020,\n",
       " 'tied': 5079,\n",
       " 'dani': 19522,\n",
       " '##あ': 30172,\n",
       " '##œ': 29674,\n",
       " '##cars': 20745,\n",
       " 'everything': 2673,\n",
       " 'their': 2037,\n",
       " '1797': 14112,\n",
       " 'temperament': 26270,\n",
       " 'narrative': 7984,\n",
       " 'khmer': 19472,\n",
       " 'flows': 6223,\n",
       " 'legislators': 22680,\n",
       " 'brief': 4766,\n",
       " 'offense': 10048,\n",
       " 'interrupting': 22602,\n",
       " 'ˢ': 1152,\n",
       " 'accountable': 26771,\n",
       " 'oblivious': 18333,\n",
       " 'mercy': 8673,\n",
       " 'forces': 2749,\n",
       " 'mlb': 10901,\n",
       " 'fitzroy': 21870,\n",
       " 'fund': 4636,\n",
       " 'rosenthal': 29062,\n",
       " 'organizers': 18829,\n",
       " 'translucent': 22897,\n",
       " 'answers': 6998,\n",
       " 'neighborhoods': 11681,\n",
       " 'tasha': 25448,\n",
       " 'nephew': 7833,\n",
       " 'mason': 6701,\n",
       " 'bosses': 23029,\n",
       " 'petite': 20146,\n",
       " '[unused467]': 472,\n",
       " 'bobbed': 29579,\n",
       " 'tis': 22320,\n",
       " 'coupling': 19780,\n",
       " 'syndrome': 8715,\n",
       " 'essex': 8862,\n",
       " 'temporary': 5741,\n",
       " 'erik': 10240,\n",
       " 'evans': 6473,\n",
       " 'structural': 8332,\n",
       " 'barnet': 26864,\n",
       " 'infections': 15245,\n",
       " '##ples': 21112,\n",
       " 'configured': 26928,\n",
       " 'supervision': 10429,\n",
       " 'hurdle': 27630,\n",
       " 'cards': 5329,\n",
       " 'relief': 4335,\n",
       " '##zai': 25290,\n",
       " 'immortal': 12147,\n",
       " 'excerpts': 24962,\n",
       " 'redding': 26687,\n",
       " '##neer': 19755,\n",
       " 'phi': 13569,\n",
       " '##uka': 15750,\n",
       " '##阝': 30496,\n",
       " 'willem': 18811,\n",
       " 'referred': 3615,\n",
       " 'far': 2521,\n",
       " '##rling': 22036,\n",
       " 'napoli': 29485,\n",
       " 'ך': 1251,\n",
       " 'xiao': 19523,\n",
       " 'tonga': 20188,\n",
       " 'whipped': 12428,\n",
       " 'hermann': 12224,\n",
       " '106': 10114,\n",
       " 'landmarks': 16209,\n",
       " '##in': 2378,\n",
       " 'stanley': 6156,\n",
       " 'emilia': 20417,\n",
       " 'happiness': 8404,\n",
       " 'priests': 8656,\n",
       " 'ti': 14841,\n",
       " 'presidential': 4883,\n",
       " 'governing': 8677,\n",
       " 'go': 2175,\n",
       " 'loaf': 27048,\n",
       " 'five': 2274,\n",
       " 'cheer': 15138,\n",
       " 'antilles': 27695,\n",
       " 'trees': 3628,\n",
       " 'greenville': 20967,\n",
       " '##sz': 17112,\n",
       " '##lo': 4135,\n",
       " 'exhaust': 15095,\n",
       " 'unaffected': 24720,\n",
       " 'classmates': 19846,\n",
       " '##fles': 28331,\n",
       " '##clave': 23650,\n",
       " 'supervised': 13588,\n",
       " 'contrary': 10043,\n",
       " 'hygiene': 19548,\n",
       " 'airmen': 29437,\n",
       " 'mushrooms': 23827,\n",
       " 'rising': 4803,\n",
       " 'adverse': 15316,\n",
       " 'flashbacks': 28945,\n",
       " 'hanson': 17179,\n",
       " '##izan': 27334,\n",
       " '##urity': 25137,\n",
       " '##nies': 15580,\n",
       " 'passion': 6896,\n",
       " 'rescuing': 23659,\n",
       " 'signage': 29404,\n",
       " 'conversely': 18868,\n",
       " 'defended': 8047,\n",
       " '##ax': 8528,\n",
       " 'dreaming': 12802,\n",
       " 'drives': 9297,\n",
       " '1898': 6068,\n",
       " 'comic': 5021,\n",
       " 'arguing': 9177,\n",
       " 'depiction': 15921,\n",
       " '##ows': 15568,\n",
       " 'defected': 26330,\n",
       " 'fairfield': 18986,\n",
       " '##bard': 21458,\n",
       " 'ₖ': 1565,\n",
       " 'moons': 23377,\n",
       " 'sous': 27411,\n",
       " '##min': 10020,\n",
       " '[unused324]': 329,\n",
       " '##urg': 12514,\n",
       " 'discarded': 15105,\n",
       " 'majesty': 9995,\n",
       " '##ctors': 24817,\n",
       " '##་': 29960,\n",
       " '##ib': 12322,\n",
       " 'white': 2317,\n",
       " '₅': 1552,\n",
       " 'evicted': 25777,\n",
       " 'prick': 24858,\n",
       " 'deposed': 18298,\n",
       " 'rubbing': 10137,\n",
       " 'catalogue': 10161,\n",
       " 'secondary': 3905,\n",
       " 'jp': 16545,\n",
       " '##una': 9521,\n",
       " 'rowland': 20539,\n",
       " '##chase': 26300,\n",
       " 'lester': 14131,\n",
       " 'mathematics': 5597,\n",
       " '175': 12862,\n",
       " '[unused358]': 363,\n",
       " 'cheating': 16789,\n",
       " '##minster': 24431,\n",
       " 'overwhelming': 10827,\n",
       " 'canceled': 13261,\n",
       " 'st': 2358,\n",
       " '##id': 3593,\n",
       " 'number': 2193,\n",
       " 'disqualification': 27782,\n",
       " '##itude': 18679,\n",
       " '123': 13138,\n",
       " 'patrolling': 24248,\n",
       " 'fees': 9883,\n",
       " 'lower': 2896,\n",
       " 'milwaukee': 9184,\n",
       " 'conception': 13120,\n",
       " 'rq': 28134,\n",
       " 'teen': 9458,\n",
       " 'philosophy': 4695,\n",
       " '##lberg': 22927,\n",
       " '##qual': 26426,\n",
       " 'leaps': 29195,\n",
       " 'star': 2732,\n",
       " '##,': 29623,\n",
       " 'angry': 4854,\n",
       " 'kids': 4268,\n",
       " 'libertadores': 27968,\n",
       " 'ג': 1243,\n",
       " 'mansion': 7330,\n",
       " 'constitution': 4552,\n",
       " 'bipolar': 29398,\n",
       " '##logists': 18738,\n",
       " 'ports': 8831,\n",
       " 'symphony': 6189,\n",
       " 'outgoing': 22011,\n",
       " 'jurisdiction': 7360,\n",
       " 'huskies': 29471,\n",
       " 'priorities': 18402,\n",
       " '##am': 3286,\n",
       " 'hiatus': 14221,\n",
       " 'righteous': 19556,\n",
       " 'storylines': 22628,\n",
       " '##train': 23654,\n",
       " 'cu': 12731,\n",
       " '##5': 2629,\n",
       " 'ز': 1281,\n",
       " 'necessity': 13185,\n",
       " 'ᅩ': 1475,\n",
       " '[unused629]': 634,\n",
       " '##ently': 28198,\n",
       " '##民': 30418,\n",
       " 'scenario': 11967,\n",
       " 'benny': 11945,\n",
       " 'karen': 8129,\n",
       " 'informally': 21858,\n",
       " '##pose': 20688,\n",
       " 'witnesses': 9390,\n",
       " '##dition': 20562,\n",
       " 'eyes': 2159,\n",
       " 'pavel': 18635,\n",
       " '##х': 29750,\n",
       " 'winners': 4791,\n",
       " 'ad': 4748,\n",
       " 'remarkably': 17431,\n",
       " '##elle': 14774,\n",
       " 'philology': 29286,\n",
       " 'bat': 7151,\n",
       " 'liaison': 14975,\n",
       " 'south': 2148,\n",
       " '##sf': 22747,\n",
       " 'continental': 6803,\n",
       " 'ح': 1276,\n",
       " '##kled': 19859,\n",
       " 'christian': 3017,\n",
       " 'rein': 27788,\n",
       " '##\\\\': 29635,\n",
       " '##bly': 6321,\n",
       " '##chio': 23584,\n",
       " 'breast': 7388,\n",
       " 'tides': 22487,\n",
       " 'allotted': 23932,\n",
       " 'roommate': 18328,\n",
       " 'spectral': 17435,\n",
       " 'embarrassment': 14325,\n",
       " '##tify': 27351,\n",
       " 'lois': 15815,\n",
       " 'laced': 17958,\n",
       " 'voted': 5444,\n",
       " 'shells': 10986,\n",
       " 'capitalism': 16498,\n",
       " '##vos': 19862,\n",
       " 'jiangsu': 28091,\n",
       " '119': 13285,\n",
       " 'punk': 7196,\n",
       " 'dominant': 7444,\n",
       " 'color': 3609,\n",
       " '昭': 1868,\n",
       " 'buena': 27493,\n",
       " 'heaviest': 26858,\n",
       " 'catering': 18640,\n",
       " 'shapes': 10466,\n",
       " 'jong': 18528,\n",
       " 'observe': 11949,\n",
       " 'kendrick': 25341,\n",
       " 'felicia': 27579,\n",
       " 'shields': 11824,\n",
       " 'micah': 17665,\n",
       " 'disgrace': 29591,\n",
       " 'き': 1652,\n",
       " 'pockets': 10306,\n",
       " 'montenegrin': 24099,\n",
       " 'aspect': 7814,\n",
       " 'framework': 7705,\n",
       " 'noises': 14950,\n",
       " 'route': 2799,\n",
       " '##ta': 2696,\n",
       " '219': 20636,\n",
       " 'perfect': 3819,\n",
       " 'ship': 2911,\n",
       " 'banded': 25264,\n",
       " '##rut': 22134,\n",
       " '##ト': 30240,\n",
       " 'raul': 16720,\n",
       " '[unused416]': 421,\n",
       " 'rafe': 15819,\n",
       " 'impacted': 19209,\n",
       " '##ය': 29940,\n",
       " 'somebody': 8307,\n",
       " 'federico': 20493,\n",
       " 'pleasure': 5165,\n",
       " 'repository': 22409,\n",
       " 'plant': 3269,\n",
       " '##漢': 30430,\n",
       " 'vis': 25292,\n",
       " 'jul': 21650,\n",
       " 'ink': 10710,\n",
       " 'dylan': 7758,\n",
       " 'engineering': 3330,\n",
       " 'sacred': 6730,\n",
       " '##post': 19894,\n",
       " 'transporting': 18276,\n",
       " 'serra': 22737,\n",
       " 'hurry': 9241,\n",
       " 'violated': 14424,\n",
       " 'filled': 3561,\n",
       " 'elephant': 10777,\n",
       " '##enko': 17868,\n",
       " 'baggage': 20220,\n",
       " '##ю': 29757,\n",
       " 'dom': 14383,\n",
       " 'temporarily': 8184,\n",
       " 'short': 2460,\n",
       " 'capacity': 3977,\n",
       " 'buffet': 28305,\n",
       " 'promoters': 26512,\n",
       " 'boxes': 8378,\n",
       " 'fearing': 14892,\n",
       " 'rendering': 14259,\n",
       " 'now': 2085,\n",
       " '##roids': 29514,\n",
       " 'sent': 2741,\n",
       " '##eche': 27635,\n",
       " '##yk': 15922,\n",
       " '1654': 27445,\n",
       " 'harris': 5671,\n",
       " 'anne': 4776,\n",
       " '##・': 30264,\n",
       " 'allmusic': 10477,\n",
       " 'riot': 11421,\n",
       " 'additive': 29167,\n",
       " 'cole': 5624,\n",
       " 'feel': 2514,\n",
       " 'vic': 10967,\n",
       " 'pointing': 7302,\n",
       " 'aus': 17151,\n",
       " 'perspectives': 15251,\n",
       " 'thriller': 10874,\n",
       " '##uder': 29190,\n",
       " '[unused190]': 195,\n",
       " '##pole': 15049,\n",
       " 'instruction': 7899,\n",
       " 'missouri': 5284,\n",
       " 'crush': 10188,\n",
       " '##gence': 17905,\n",
       " '##31': 21486,\n",
       " '[unused244]': 249,\n",
       " 'io': 22834,\n",
       " 'besieged': 17923,\n",
       " 'negro': 12593,\n",
       " 'buckingham': 17836,\n",
       " 'mills': 6341,\n",
       " '##dson': 25112,\n",
       " 'freed': 10650,\n",
       " 'wiener': 25072,\n",
       " 'toad': 21344,\n",
       " 'races': 3837,\n",
       " 'wide': 2898,\n",
       " '##nden': 25915,\n",
       " 'neuroscience': 23700,\n",
       " 'mps': 12616,\n",
       " 'default': 12398,\n",
       " 'palatinate': 18990,\n",
       " 'inclined': 13050,\n",
       " 'monique': 26194,\n",
       " 'temper': 12178,\n",
       " 'thankful': 18836,\n",
       " 'period': 2558,\n",
       " 'lizzie': 15860,\n",
       " 'boarded': 17383,\n",
       " 'racing': 3868,\n",
       " 'suburb': 7575,\n",
       " 'fulfilled': 16829,\n",
       " '##onale': 22823,\n",
       " 'overdose': 26641,\n",
       " 'know': 2113,\n",
       " 'hamish': 28859,\n",
       " 'administrative': 3831,\n",
       " 'unnecessary': 14203,\n",
       " '##aria': 10980,\n",
       " '立': 1931,\n",
       " 'jon': 6285,\n",
       " 'investors': 9387,\n",
       " 'psi': 17816,\n",
       " 'habitat': 6552,\n",
       " 'tariff': 23234,\n",
       " 'attacker': 17346,\n",
       " 'restart': 23818,\n",
       " 'deployed': 7333,\n",
       " 'ignoring': 9217,\n",
       " '##jan': 8405,\n",
       " 'regard': 7634,\n",
       " 'norma': 20692,\n",
       " 'dimension': 9812,\n",
       " 'honors': 7836,\n",
       " 'upward': 10745,\n",
       " 'slick': 13554,\n",
       " 'iihf': 26904,\n",
       " 'highs': 26836,\n",
       " '1781': 16788,\n",
       " 'ᵉ': 1499,\n",
       " '×': 1095,\n",
       " 'israelis': 28363,\n",
       " 'austin': 5899,\n",
       " '##stan': 12693,\n",
       " 'absorbing': 20998,\n",
       " 'jaya': 24120,\n",
       " '##vsky': 15904,\n",
       " 'ki': 11382,\n",
       " 'specialty': 12233,\n",
       " 'halt': 9190,\n",
       " 'clicks': 29225,\n",
       " '[unused13]': 14,\n",
       " 'patsy': 25382,\n",
       " '1885': 6571,\n",
       " 'pod': 17491,\n",
       " '##inge': 23496,\n",
       " 'differing': 16965,\n",
       " 'relying': 18345,\n",
       " 'erotic': 14253,\n",
       " 'stony': 16104,\n",
       " 'merging': 16468,\n",
       " '##rned': 21119,\n",
       " '##gard': 13444,\n",
       " '長': 1967,\n",
       " 'portal': 9445,\n",
       " '##6': 2575,\n",
       " 'receiving': 4909,\n",
       " 'hawk': 9881,\n",
       " 'polymers': 27216,\n",
       " 'ghent': 24202,\n",
       " '##ype': 18863,\n",
       " 'reborn': 24910,\n",
       " 'flew': 5520,\n",
       " 'poison': 9947,\n",
       " 'circles': 7925,\n",
       " 'luzon': 21622,\n",
       " '##cliffe': 18115,\n",
       " 'preventing': 10723,\n",
       " 'erie': 13374,\n",
       " 'lashed': 25694,\n",
       " 'miniatures': 28615,\n",
       " 'scheduling': 19940,\n",
       " '##ण': 29858,\n",
       " 'became': 2150,\n",
       " '##let': 7485,\n",
       " 'admiralty': 14179,\n",
       " '##ill': 8591,\n",
       " 'outlook': 17680,\n",
       " 'booths': 27612,\n",
       " 'bayou': 24818,\n",
       " 'tatar': 29241,\n",
       " '[unused811]': 816,\n",
       " 'seine': 16470,\n",
       " 'yin': 18208,\n",
       " '##mia': 10092,\n",
       " 'hostess': 22566,\n",
       " 'gift': 5592,\n",
       " 'returning': 4192,\n",
       " '21st': 7398,\n",
       " 'boroughs': 21413,\n",
       " '##eno': 16515,\n",
       " 'sooner': 10076,\n",
       " 'fiji': 11464,\n",
       " 'marker': 12115,\n",
       " '##olic': 23518,\n",
       " 'brandon': 8825,\n",
       " '[unused738]': 743,\n",
       " 'facility': 4322,\n",
       " '##itating': 16518,\n",
       " 'monitors': 15410,\n",
       " '崎': 1834,\n",
       " '##vu': 19722,\n",
       " 'τ': 1174,\n",
       " 'millie': 19561,\n",
       " 'backward': 8848,\n",
       " '##zle': 29247,\n",
       " 'bismarck': 22029,\n",
       " 'carnegie': 11298,\n",
       " 'observation': 8089,\n",
       " 'underwood': 22751,\n",
       " '##ske': 17140,\n",
       " 'slip': 7540,\n",
       " 'baker': 6243,\n",
       " 'discretion': 19258,\n",
       " 'subdistrict': 24150,\n",
       " 'illegitimate': 18102,\n",
       " '##enter': 29110,\n",
       " ...}"
      ]
     },
     "execution_count": 16,
     "metadata": {},
     "output_type": "execute_result"
    }
   ],
   "source": [
    "tokenizer.vocab"
   ]
  },
  {
   "cell_type": "code",
   "execution_count": 17,
   "metadata": {
    "colab": {
     "base_uri": "https://localhost:8080/"
    },
    "executionInfo": {
     "elapsed": 189,
     "status": "ok",
     "timestamp": 1752583931564,
     "user": {
      "displayName": "Milad Rasooli",
      "userId": "00542327659329088999"
     },
     "user_tz": -210
    },
    "id": "lVGVTkmDsI5O",
    "outputId": "de2fce3d-a92e-44b5-ddf9-57f2948fe6b2"
   },
   "outputs": [
    {
     "data": {
      "text/plain": [
       "(30522, 30522, 512, ['input_ids', 'token_type_ids', 'attention_mask'])"
      ]
     },
     "execution_count": 17,
     "metadata": {},
     "output_type": "execute_result"
    }
   ],
   "source": [
    "len(tokenizer.vocab) , tokenizer.vocab_size,tokenizer.model_max_length,tokenizer.model_input_names"
   ]
  },
  {
   "cell_type": "code",
   "execution_count": 18,
   "metadata": {
    "colab": {
     "base_uri": "https://localhost:8080/"
    },
    "executionInfo": {
     "elapsed": 34,
     "status": "ok",
     "timestamp": 1752583931564,
     "user": {
      "displayName": "Milad Rasooli",
      "userId": "00542327659329088999"
     },
     "user_tz": -210
    },
    "id": "U56uRQj2sQ5d",
    "outputId": "64bf21a4-f365-40d9-ae19-0ccb37cb5ff9"
   },
   "outputs": [
    {
     "data": {
      "text/plain": [
       "{'input_ids': [101, 4170, 102], 'token_type_ids': [0, 0, 0], 'attention_mask': [1, 1, 1]}"
      ]
     },
     "execution_count": 18,
     "metadata": {},
     "output_type": "execute_result"
    }
   ],
   "source": [
    "tokenizer(\"fleet\")"
   ]
  },
  {
   "cell_type": "markdown",
   "metadata": {
    "id": "nv87Yzsgt1jz"
   },
   "source": [
    "# Data Loder"
   ]
  },
  {
   "cell_type": "code",
   "execution_count": 19,
   "metadata": {
    "executionInfo": {
     "elapsed": 30,
     "status": "ok",
     "timestamp": 1752583931565,
     "user": {
      "displayName": "Milad Rasooli",
      "userId": "00542327659329088999"
     },
     "user_tz": -210
    },
    "id": "1LvYw53RsUrO"
   },
   "outputs": [],
   "source": [
    "train, test = train_test_split(data_t,test_size=0.3,stratify=data_t[\"label_name\"])\n",
    "test,valid = train_test_split(test,test_size=1/3,stratify=test[\"label_name\"])"
   ]
  },
  {
   "cell_type": "code",
   "execution_count": 20,
   "metadata": {
    "colab": {
     "base_uri": "https://localhost:8080/"
    },
    "executionInfo": {
     "elapsed": 30,
     "status": "ok",
     "timestamp": 1752583931565,
     "user": {
      "displayName": "Milad Rasooli",
      "userId": "00542327659329088999"
     },
     "user_tz": -210
    },
    "id": "IJRY-awnuCJ2",
    "outputId": "ace7ee71-da1b-4c0a-f442-5694f9652d0a"
   },
   "outputs": [
    {
     "data": {
      "text/plain": [
       "((11200, 4), (3200, 4), (1600, 4))"
      ]
     },
     "execution_count": 20,
     "metadata": {},
     "output_type": "execute_result"
    }
   ],
   "source": [
    "train.shape , test.shape , valid.shape"
   ]
  },
  {
   "cell_type": "code",
   "execution_count": 21,
   "metadata": {
    "colab": {
     "base_uri": "https://localhost:8080/"
    },
    "executionInfo": {
     "elapsed": 27,
     "status": "ok",
     "timestamp": 1752583931565,
     "user": {
      "displayName": "Milad Rasooli",
      "userId": "00542327659329088999"
     },
     "user_tz": -210
    },
    "id": "Mxr5neFyuDou",
    "outputId": "ea3dcfd7-e6e0-4f03-a855-9a5e365023e8"
   },
   "outputs": [
    {
     "data": {
      "text/plain": [
       "DatasetDict({\n",
       "    train: Dataset({\n",
       "        features: ['text', 'label', 'label_name', 'words_per_tweet '],\n",
       "        num_rows: 11200\n",
       "    })\n",
       "    test: Dataset({\n",
       "        features: ['text', 'label', 'label_name', 'words_per_tweet '],\n",
       "        num_rows: 3200\n",
       "    })\n",
       "    valid: Dataset({\n",
       "        features: ['text', 'label', 'label_name', 'words_per_tweet '],\n",
       "        num_rows: 1600\n",
       "    })\n",
       "})"
      ]
     },
     "execution_count": 21,
     "metadata": {},
     "output_type": "execute_result"
    }
   ],
   "source": [
    "dataset = DatasetDict(\n",
    "    {\"train\" :Dataset.from_pandas(train,preserve_index=False) ,\n",
    "     \"test\": Dataset.from_pandas(test,preserve_index=False),\n",
    "     \"valid\":Dataset.from_pandas(valid,preserve_index=False)}\n",
    ")\n",
    "dataset"
   ]
  },
  {
   "cell_type": "markdown",
   "metadata": {
    "id": "4fWR-Mw4RKCO"
   },
   "source": [
    "# Tokenization of the Sentiment Data"
   ]
  },
  {
   "cell_type": "code",
   "execution_count": 22,
   "metadata": {
    "colab": {
     "base_uri": "https://localhost:8080/"
    },
    "executionInfo": {
     "elapsed": 23,
     "status": "ok",
     "timestamp": 1752583931565,
     "user": {
      "displayName": "Milad Rasooli",
      "userId": "00542327659329088999"
     },
     "user_tz": -210
    },
    "id": "G4_RbVO4wXns",
    "outputId": "5a445423-4be4-4dd6-d869-4a0cbcf99603"
   },
   "outputs": [
    {
     "data": {
      "text/plain": [
       "{'text': 'i feel humiliated to introduce you to my colleagues as my wife',\n",
       " 'label': 0,\n",
       " 'label_name': 'sadness',\n",
       " 'words_per_tweet ': 12}"
      ]
     },
     "execution_count": 22,
     "metadata": {},
     "output_type": "execute_result"
    }
   ],
   "source": [
    "dataset[\"train\"][0]"
   ]
  },
  {
   "cell_type": "code",
   "execution_count": 23,
   "metadata": {
    "executionInfo": {
     "elapsed": 20,
     "status": "ok",
     "timestamp": 1752583931565,
     "user": {
      "displayName": "Milad Rasooli",
      "userId": "00542327659329088999"
     },
     "user_tz": -210
    },
    "id": "DLe2zVwRRZZh"
   },
   "outputs": [],
   "source": [
    "def tokenize(batvh):\n",
    "  temp = tokenizer(batvh['text'],padding=True,truncation=True)\n",
    "  return temp\n"
   ]
  },
  {
   "cell_type": "code",
   "execution_count": 24,
   "metadata": {
    "colab": {
     "base_uri": "https://localhost:8080/"
    },
    "executionInfo": {
     "elapsed": 20,
     "status": "ok",
     "timestamp": 1752583931566,
     "user": {
      "displayName": "Milad Rasooli",
      "userId": "00542327659329088999"
     },
     "user_tz": -210
    },
    "id": "r2Y4sTsCUYtG",
    "outputId": "8978bf59-8352-49f6-83e4-c4ba0f0a8d5f"
   },
   "outputs": [
    {
     "data": {
      "text/plain": [
       "{'input_ids': [[101, 1045, 2514, 26608, 2000, 8970, 2017, 2000, 2026, 8628, 2004, 2026, 2564, 102], [101, 1045, 2001, 3110, 15560, 1998, 3621, 6314, 2044, 2023, 4512, 102, 0, 0]], 'token_type_ids': [[0, 0, 0, 0, 0, 0, 0, 0, 0, 0, 0, 0, 0, 0], [0, 0, 0, 0, 0, 0, 0, 0, 0, 0, 0, 0, 0, 0]], 'attention_mask': [[1, 1, 1, 1, 1, 1, 1, 1, 1, 1, 1, 1, 1, 1], [1, 1, 1, 1, 1, 1, 1, 1, 1, 1, 1, 1, 0, 0]]}"
      ]
     },
     "execution_count": 24,
     "metadata": {},
     "output_type": "execute_result"
    }
   ],
   "source": [
    "tokenize(dataset[\"train\"][0:2])"
   ]
  },
  {
   "cell_type": "code",
   "execution_count": 25,
   "metadata": {
    "colab": {
     "base_uri": "https://localhost:8080/",
     "height": 113,
     "referenced_widgets": [
      "5221542938014d6b83f037b95ae681a2",
      "f2b2a4cf8a2d4ef4b3ff061c6ad8b512",
      "dbbda9242ecc43448202444c8edc6566",
      "d9388708a1044a22921bb5978d2a1297",
      "e40b8e7037f74b50b6e6803f876169a5",
      "fe737a742c3d4bf498846c74214f4dff",
      "064111b515af4743a59002472cc448fb",
      "aa405c9c20a64531a8bc9641ea9f48b0",
      "7d3e33bfa3ce45008b8303ad925ad698",
      "e3be62c5a16249c380ef9d59d2aeb81b",
      "35fc34b7f0184230a0cd0b00216ad766",
      "1c2a708495114a3d86b08f161f87d273",
      "410503dcd8694b58bc169adbee689b6d",
      "f03d4d40b75f4a55b5fa9ce9f09b6216",
      "8865b1fa2fec4fa9852d44d7632ce3d5",
      "1ff814bce1cd4c6c809fd825bc128ed7",
      "fd4774cf6d3d46b981cf41434c555b77",
      "d72de931a373430a835977ec14a0e888",
      "3bd42f0e42374755b59120cef3c82ac1",
      "11f94133a3b3460990bed3e8fafa94bc",
      "1a24675a783c47a6824d60e36a923278",
      "8b70415f89174de587c1ad361ce5cbd8",
      "48d4b5cc827b46549b405844ba434f3e",
      "04a4d923216b4659b0913605d087a0ee",
      "03db8cf71bbe4bf0b4a90a6510614700",
      "b09c9f3626d34e3e8d1726bf953aed55",
      "95f7ac5bf2b847a1aaaa3d0e4722b624",
      "e0a628b86ae946aab3443e34caa42956",
      "735ccfe2d54e47b8ab9395208039a3a7",
      "59069c482e0046a580320bee31c70373",
      "02c0246001b142a2a477223b574f7c7b",
      "372a8a2002e2486a86e03dd67923cf91",
      "b0c4c3ab297d4d78ba205e9b4ecae6bd"
     ]
    },
    "executionInfo": {
     "elapsed": 6620,
     "status": "ok",
     "timestamp": 1752583938169,
     "user": {
      "displayName": "Milad Rasooli",
      "userId": "00542327659329088999"
     },
     "user_tz": -210
    },
    "id": "FUGvr7yvUhdo",
    "outputId": "23fc33bb-69ef-411f-dcd4-59fa0c222764"
   },
   "outputs": [
    {
     "data": {
      "application/vnd.jupyter.widget-view+json": {
       "model_id": "5221542938014d6b83f037b95ae681a2",
       "version_major": 2,
       "version_minor": 0
      },
      "text/plain": [
       "Map:   0%|          | 0/11200 [00:00<?, ? examples/s]"
      ]
     },
     "metadata": {},
     "output_type": "display_data"
    },
    {
     "data": {
      "application/vnd.jupyter.widget-view+json": {
       "model_id": "1c2a708495114a3d86b08f161f87d273",
       "version_major": 2,
       "version_minor": 0
      },
      "text/plain": [
       "Map:   0%|          | 0/3200 [00:00<?, ? examples/s]"
      ]
     },
     "metadata": {},
     "output_type": "display_data"
    },
    {
     "data": {
      "application/vnd.jupyter.widget-view+json": {
       "model_id": "48d4b5cc827b46549b405844ba434f3e",
       "version_major": 2,
       "version_minor": 0
      },
      "text/plain": [
       "Map:   0%|          | 0/1600 [00:00<?, ? examples/s]"
      ]
     },
     "metadata": {},
     "output_type": "display_data"
    }
   ],
   "source": [
    "emotion_encoded = dataset.map(tokenize,batched=True,batch_size=None)"
   ]
  },
  {
   "cell_type": "code",
   "execution_count": 26,
   "metadata": {
    "colab": {
     "base_uri": "https://localhost:8080/"
    },
    "collapsed": true,
    "executionInfo": {
     "elapsed": 6,
     "status": "ok",
     "timestamp": 1752583938169,
     "user": {
      "displayName": "Milad Rasooli",
      "userId": "00542327659329088999"
     },
     "user_tz": -210
    },
    "id": "k33X_ADEZMA0",
    "outputId": "1bfde09e-6784-4e55-9e37-fa0ceb94e8fc"
   },
   "outputs": [
    {
     "data": {
      "text/plain": [
       "{'text': 'i feel humiliated to introduce you to my colleagues as my wife',\n",
       " 'label': 0,\n",
       " 'label_name': 'sadness',\n",
       " 'words_per_tweet ': 12,\n",
       " 'input_ids': [101,\n",
       "  1045,\n",
       "  2514,\n",
       "  26608,\n",
       "  2000,\n",
       "  8970,\n",
       "  2017,\n",
       "  2000,\n",
       "  2026,\n",
       "  8628,\n",
       "  2004,\n",
       "  2026,\n",
       "  2564,\n",
       "  102,\n",
       "  0,\n",
       "  0,\n",
       "  0,\n",
       "  0,\n",
       "  0,\n",
       "  0,\n",
       "  0,\n",
       "  0,\n",
       "  0,\n",
       "  0,\n",
       "  0,\n",
       "  0,\n",
       "  0,\n",
       "  0,\n",
       "  0,\n",
       "  0,\n",
       "  0,\n",
       "  0,\n",
       "  0,\n",
       "  0,\n",
       "  0,\n",
       "  0,\n",
       "  0,\n",
       "  0,\n",
       "  0,\n",
       "  0,\n",
       "  0,\n",
       "  0,\n",
       "  0,\n",
       "  0,\n",
       "  0,\n",
       "  0,\n",
       "  0,\n",
       "  0,\n",
       "  0,\n",
       "  0,\n",
       "  0,\n",
       "  0,\n",
       "  0,\n",
       "  0,\n",
       "  0,\n",
       "  0,\n",
       "  0,\n",
       "  0,\n",
       "  0,\n",
       "  0,\n",
       "  0,\n",
       "  0,\n",
       "  0,\n",
       "  0,\n",
       "  0,\n",
       "  0,\n",
       "  0,\n",
       "  0,\n",
       "  0,\n",
       "  0,\n",
       "  0,\n",
       "  0,\n",
       "  0,\n",
       "  0,\n",
       "  0,\n",
       "  0,\n",
       "  0,\n",
       "  0,\n",
       "  0,\n",
       "  0,\n",
       "  0,\n",
       "  0,\n",
       "  0,\n",
       "  0,\n",
       "  0,\n",
       "  0,\n",
       "  0],\n",
       " 'token_type_ids': [0,\n",
       "  0,\n",
       "  0,\n",
       "  0,\n",
       "  0,\n",
       "  0,\n",
       "  0,\n",
       "  0,\n",
       "  0,\n",
       "  0,\n",
       "  0,\n",
       "  0,\n",
       "  0,\n",
       "  0,\n",
       "  0,\n",
       "  0,\n",
       "  0,\n",
       "  0,\n",
       "  0,\n",
       "  0,\n",
       "  0,\n",
       "  0,\n",
       "  0,\n",
       "  0,\n",
       "  0,\n",
       "  0,\n",
       "  0,\n",
       "  0,\n",
       "  0,\n",
       "  0,\n",
       "  0,\n",
       "  0,\n",
       "  0,\n",
       "  0,\n",
       "  0,\n",
       "  0,\n",
       "  0,\n",
       "  0,\n",
       "  0,\n",
       "  0,\n",
       "  0,\n",
       "  0,\n",
       "  0,\n",
       "  0,\n",
       "  0,\n",
       "  0,\n",
       "  0,\n",
       "  0,\n",
       "  0,\n",
       "  0,\n",
       "  0,\n",
       "  0,\n",
       "  0,\n",
       "  0,\n",
       "  0,\n",
       "  0,\n",
       "  0,\n",
       "  0,\n",
       "  0,\n",
       "  0,\n",
       "  0,\n",
       "  0,\n",
       "  0,\n",
       "  0,\n",
       "  0,\n",
       "  0,\n",
       "  0,\n",
       "  0,\n",
       "  0,\n",
       "  0,\n",
       "  0,\n",
       "  0,\n",
       "  0,\n",
       "  0,\n",
       "  0,\n",
       "  0,\n",
       "  0,\n",
       "  0,\n",
       "  0,\n",
       "  0,\n",
       "  0,\n",
       "  0,\n",
       "  0,\n",
       "  0,\n",
       "  0,\n",
       "  0,\n",
       "  0],\n",
       " 'attention_mask': [1,\n",
       "  1,\n",
       "  1,\n",
       "  1,\n",
       "  1,\n",
       "  1,\n",
       "  1,\n",
       "  1,\n",
       "  1,\n",
       "  1,\n",
       "  1,\n",
       "  1,\n",
       "  1,\n",
       "  1,\n",
       "  0,\n",
       "  0,\n",
       "  0,\n",
       "  0,\n",
       "  0,\n",
       "  0,\n",
       "  0,\n",
       "  0,\n",
       "  0,\n",
       "  0,\n",
       "  0,\n",
       "  0,\n",
       "  0,\n",
       "  0,\n",
       "  0,\n",
       "  0,\n",
       "  0,\n",
       "  0,\n",
       "  0,\n",
       "  0,\n",
       "  0,\n",
       "  0,\n",
       "  0,\n",
       "  0,\n",
       "  0,\n",
       "  0,\n",
       "  0,\n",
       "  0,\n",
       "  0,\n",
       "  0,\n",
       "  0,\n",
       "  0,\n",
       "  0,\n",
       "  0,\n",
       "  0,\n",
       "  0,\n",
       "  0,\n",
       "  0,\n",
       "  0,\n",
       "  0,\n",
       "  0,\n",
       "  0,\n",
       "  0,\n",
       "  0,\n",
       "  0,\n",
       "  0,\n",
       "  0,\n",
       "  0,\n",
       "  0,\n",
       "  0,\n",
       "  0,\n",
       "  0,\n",
       "  0,\n",
       "  0,\n",
       "  0,\n",
       "  0,\n",
       "  0,\n",
       "  0,\n",
       "  0,\n",
       "  0,\n",
       "  0,\n",
       "  0,\n",
       "  0,\n",
       "  0,\n",
       "  0,\n",
       "  0,\n",
       "  0,\n",
       "  0,\n",
       "  0,\n",
       "  0,\n",
       "  0,\n",
       "  0,\n",
       "  0]}"
      ]
     },
     "execution_count": 26,
     "metadata": {},
     "output_type": "execute_result"
    }
   ],
   "source": [
    "emotion_encoded[\"train\"][0]"
   ]
  },
  {
   "cell_type": "code",
   "execution_count": 27,
   "metadata": {
    "colab": {
     "base_uri": "https://localhost:8080/"
    },
    "executionInfo": {
     "elapsed": 903,
     "status": "ok",
     "timestamp": 1752583939068,
     "user": {
      "displayName": "Milad Rasooli",
      "userId": "00542327659329088999"
     },
     "user_tz": -210
    },
    "id": "HZx5f3lcdp5w",
    "outputId": "28297d69-bbe3-4a10-96c2-f118180c522e"
   },
   "outputs": [
    {
     "name": "stdout",
     "output_type": "stream",
     "text": [
      "id2label :  {0: 'sadness', 3: 'anger', 4: 'fear', 2: 'love', 1: 'joy', 5: 'surprise'}\n",
      "label2id :  {'sadness': 0, 'anger': 3, 'fear': 4, 'love': 2, 'joy': 1, 'surprise': 5}\n"
     ]
    },
    {
     "data": {
      "text/plain": [
       "(None, None)"
      ]
     },
     "execution_count": 27,
     "metadata": {},
     "output_type": "execute_result"
    }
   ],
   "source": [
    "label2id = {x[\"label_name\"]:x[\"label\"]for x in dataset[\"train\"]}\n",
    "id2label = {v:k for k,v in label2id.items()}\n",
    "print(\"id2label : \",id2label),print(\"label2id : \",label2id)"
   ]
  },
  {
   "cell_type": "markdown",
   "metadata": {
    "id": "11JWmeChiXzA"
   },
   "source": [
    "# Model building\n"
   ]
  },
  {
   "cell_type": "code",
   "execution_count": 28,
   "metadata": {
    "colab": {
     "base_uri": "https://localhost:8080/",
     "height": 49,
     "referenced_widgets": [
      "10a003cc0af2457b826078205dace3c3",
      "e11673c661dc47ca8e03caa6c5c4680a",
      "9a7d8e8a7a9f43f09efd9d1b107f4341",
      "b8fa6231b85e45adb28c49622c84d1e9",
      "be61b428f13b42a6bd81a134ed317ec7",
      "4f86ced0b3754071b268edd8360838f0",
      "b3c6e5b08f8142bd9aa3f454e6f1c976",
      "038054d044ea4ca088c2413802c0e7e9",
      "52d97b75dd264ff39ed0e08f75db63dc",
      "acf3ce078b264870b464d72b2f2cae85",
      "b2b63f7b22c242c493e80bf9b3ea9559"
     ]
    },
    "executionInfo": {
     "elapsed": 18197,
     "status": "ok",
     "timestamp": 1752583957262,
     "user": {
      "displayName": "Milad Rasooli",
      "userId": "00542327659329088999"
     },
     "user_tz": -210
    },
    "id": "loetudcfgVkI",
    "outputId": "3e4bc1dc-29dd-406c-c69c-4e43fb9d8e6a"
   },
   "outputs": [
    {
     "data": {
      "application/vnd.jupyter.widget-view+json": {
       "model_id": "10a003cc0af2457b826078205dace3c3",
       "version_major": 2,
       "version_minor": 0
      },
      "text/plain": [
       "model.safetensors:   0%|          | 0.00/440M [00:00<?, ?B/s]"
      ]
     },
     "metadata": {},
     "output_type": "display_data"
    }
   ],
   "source": [
    "model =  AutoModel.from_pretrained(model_name)"
   ]
  },
  {
   "cell_type": "code",
   "execution_count": 29,
   "metadata": {
    "colab": {
     "base_uri": "https://localhost:8080/"
    },
    "executionInfo": {
     "elapsed": 16,
     "status": "ok",
     "timestamp": 1752583957262,
     "user": {
      "displayName": "Milad Rasooli",
      "userId": "00542327659329088999"
     },
     "user_tz": -210
    },
    "id": "ydLBCqTljCEf",
    "outputId": "29410593-6605-4178-99aa-08e82c85e848"
   },
   "outputs": [
    {
     "data": {
      "text/plain": [
       "BertConfig {\n",
       "  \"architectures\": [\n",
       "    \"BertForMaskedLM\"\n",
       "  ],\n",
       "  \"attention_probs_dropout_prob\": 0.1,\n",
       "  \"classifier_dropout\": null,\n",
       "  \"gradient_checkpointing\": false,\n",
       "  \"hidden_act\": \"gelu\",\n",
       "  \"hidden_dropout_prob\": 0.1,\n",
       "  \"hidden_size\": 768,\n",
       "  \"initializer_range\": 0.02,\n",
       "  \"intermediate_size\": 3072,\n",
       "  \"layer_norm_eps\": 1e-12,\n",
       "  \"max_position_embeddings\": 512,\n",
       "  \"model_type\": \"bert\",\n",
       "  \"num_attention_heads\": 12,\n",
       "  \"num_hidden_layers\": 12,\n",
       "  \"pad_token_id\": 0,\n",
       "  \"position_embedding_type\": \"absolute\",\n",
       "  \"torch_dtype\": \"float32\",\n",
       "  \"transformers_version\": \"4.53.1\",\n",
       "  \"type_vocab_size\": 2,\n",
       "  \"use_cache\": true,\n",
       "  \"vocab_size\": 30522\n",
       "}"
      ]
     },
     "execution_count": 29,
     "metadata": {},
     "output_type": "execute_result"
    }
   ],
   "source": [
    "model.config"
   ]
  },
  {
   "cell_type": "code",
   "execution_count": 30,
   "metadata": {
    "executionInfo": {
     "elapsed": 14,
     "status": "ok",
     "timestamp": 1752583957262,
     "user": {
      "displayName": "Milad Rasooli",
      "userId": "00542327659329088999"
     },
     "user_tz": -210
    },
    "id": "lLibEuwgjLuY"
   },
   "outputs": [],
   "source": [
    "from transformers import AutoModelForSequenceClassification,AutoConfig"
   ]
  },
  {
   "cell_type": "code",
   "execution_count": 31,
   "metadata": {
    "colab": {
     "base_uri": "https://localhost:8080/"
    },
    "executionInfo": {
     "elapsed": 13,
     "status": "ok",
     "timestamp": 1752583957262,
     "user": {
      "displayName": "Milad Rasooli",
      "userId": "00542327659329088999"
     },
     "user_tz": -210
    },
    "id": "pEiFHienbBED",
    "outputId": "a531cebb-a907-4d48-a877-e5b145fe0ff1"
   },
   "outputs": [
    {
     "data": {
      "text/plain": [
       "device(type='cuda')"
      ]
     },
     "execution_count": 31,
     "metadata": {},
     "output_type": "execute_result"
    }
   ],
   "source": [
    "num_labels = len(id2label)\n",
    "devise = torch.device(\"cuda\" if torch.cuda.is_available() else \"cpu\")\n",
    "devise"
   ]
  },
  {
   "cell_type": "code",
   "execution_count": 32,
   "metadata": {
    "colab": {
     "base_uri": "https://localhost:8080/"
    },
    "executionInfo": {
     "elapsed": 9,
     "status": "ok",
     "timestamp": 1752583957262,
     "user": {
      "displayName": "Milad Rasooli",
      "userId": "00542327659329088999"
     },
     "user_tz": -210
    },
    "id": "e5svz6e9bMg6",
    "outputId": "d8009932-4a48-4be6-ff5e-e6fb4f605759"
   },
   "outputs": [
    {
     "data": {
      "text/plain": [
       "BertConfig {\n",
       "  \"architectures\": [\n",
       "    \"BertForMaskedLM\"\n",
       "  ],\n",
       "  \"attention_probs_dropout_prob\": 0.1,\n",
       "  \"classifier_dropout\": null,\n",
       "  \"gradient_checkpointing\": false,\n",
       "  \"hidden_act\": \"gelu\",\n",
       "  \"hidden_dropout_prob\": 0.1,\n",
       "  \"hidden_size\": 768,\n",
       "  \"id2label\": {\n",
       "    \"0\": \"sadness\",\n",
       "    \"1\": \"joy\",\n",
       "    \"2\": \"love\",\n",
       "    \"3\": \"anger\",\n",
       "    \"4\": \"fear\",\n",
       "    \"5\": \"surprise\"\n",
       "  },\n",
       "  \"initializer_range\": 0.02,\n",
       "  \"intermediate_size\": 3072,\n",
       "  \"label2id\": {\n",
       "    \"anger\": 3,\n",
       "    \"fear\": 4,\n",
       "    \"joy\": 1,\n",
       "    \"love\": 2,\n",
       "    \"sadness\": 0,\n",
       "    \"surprise\": 5\n",
       "  },\n",
       "  \"layer_norm_eps\": 1e-12,\n",
       "  \"max_position_embeddings\": 512,\n",
       "  \"model_type\": \"bert\",\n",
       "  \"num_attention_heads\": 12,\n",
       "  \"num_hidden_layers\": 12,\n",
       "  \"pad_token_id\": 0,\n",
       "  \"position_embedding_type\": \"absolute\",\n",
       "  \"transformers_version\": \"4.53.1\",\n",
       "  \"type_vocab_size\": 2,\n",
       "  \"use_cache\": true,\n",
       "  \"vocab_size\": 30522\n",
       "}"
      ]
     },
     "execution_count": 32,
     "metadata": {},
     "output_type": "execute_result"
    }
   ],
   "source": [
    "config = AutoConfig.from_pretrained(model_name,label2id = label2id, id2label = id2label)\n",
    "config"
   ]
  },
  {
   "cell_type": "code",
   "execution_count": 33,
   "metadata": {
    "colab": {
     "base_uri": "https://localhost:8080/"
    },
    "executionInfo": {
     "elapsed": 2348,
     "status": "ok",
     "timestamp": 1752583959605,
     "user": {
      "displayName": "Milad Rasooli",
      "userId": "00542327659329088999"
     },
     "user_tz": -210
    },
    "id": "ALW29TLAcYSq",
    "outputId": "2490325e-3a52-4c78-aacf-18e6a1046b08"
   },
   "outputs": [
    {
     "name": "stderr",
     "output_type": "stream",
     "text": [
      "Some weights of BertForSequenceClassification were not initialized from the model checkpoint at bert-base-uncased and are newly initialized: ['classifier.bias', 'classifier.weight']\n",
      "You should probably TRAIN this model on a down-stream task to be able to use it for predictions and inference.\n"
     ]
    }
   ],
   "source": [
    "model = AutoModelForSequenceClassification.from_pretrained(model_name,config = config).to(devise)"
   ]
  },
  {
   "cell_type": "code",
   "execution_count": 36,
   "metadata": {
    "executionInfo": {
     "elapsed": 462,
     "status": "ok",
     "timestamp": 1752584047971,
     "user": {
      "displayName": "Milad Rasooli",
      "userId": "00542327659329088999"
     },
     "user_tz": -210
    },
    "id": "yXh_hfR3c4-D"
   },
   "outputs": [],
   "source": [
    "from transformers import TrainingArguments\n",
    "\n",
    "batch_size  = 64\n",
    "training_dir =\"bert_base_train_dir\"\n",
    "\n",
    "# training_args = TrainingArguments(output_dir=training_dir,\n",
    "#                                   overwrite_output_dir= True,\n",
    "#                                   num_train_epochs=2,\n",
    "#                                   learning_rate= 2e-5,\n",
    "#                                   per_device_train_batch_size = batch_size ,\n",
    "#                                   per_device_eval_batch_size= batch_size ,\n",
    "#                                   weight_decay=0.01,\n",
    "#                                   disable_tqdm = False,\n",
    "#                                   eval_strategy = \"epoch\"\n",
    "\n",
    "# )\n",
    "training_args = TrainingArguments(\n",
    "    output_dir=\"bert_base_train_dir\",\n",
    "    run_name=\"bert-finetuning-epochs2-lr2e-5\",\n",
    "    overwrite_output_dir=True,\n",
    "    num_train_epochs=2,\n",
    "    learning_rate=2e-5,\n",
    "    per_device_train_batch_size=64,\n",
    "    eval_strategy=\"epoch\",\n",
    "    report_to=\"none\",\n",
    ")"
   ]
  },
  {
   "cell_type": "markdown",
   "metadata": {
    "id": "z34yRQSKyCWx"
   },
   "source": [
    "### Build compute metrics function"
   ]
  },
  {
   "cell_type": "code",
   "execution_count": 37,
   "metadata": {
    "colab": {
     "base_uri": "https://localhost:8080/"
    },
    "collapsed": true,
    "executionInfo": {
     "elapsed": 4887,
     "status": "ok",
     "timestamp": 1752584058800,
     "user": {
      "displayName": "Milad Rasooli",
      "userId": "00542327659329088999"
     },
     "user_tz": -210
    },
    "id": "VTuVWEVcg_bk",
    "outputId": "f31968e9-72cf-4174-8a22-ca08d23e0316"
   },
   "outputs": [
    {
     "name": "stdout",
     "output_type": "stream",
     "text": [
      "Collecting evaluate\n",
      "  Downloading evaluate-0.4.5-py3-none-any.whl.metadata (9.5 kB)\n",
      "Requirement already satisfied: datasets>=2.0.0 in /usr/local/lib/python3.11/dist-packages (from evaluate) (2.14.4)\n",
      "Requirement already satisfied: numpy>=1.17 in /usr/local/lib/python3.11/dist-packages (from evaluate) (2.0.2)\n",
      "Requirement already satisfied: dill in /usr/local/lib/python3.11/dist-packages (from evaluate) (0.3.7)\n",
      "Requirement already satisfied: pandas in /usr/local/lib/python3.11/dist-packages (from evaluate) (2.2.2)\n",
      "Requirement already satisfied: requests>=2.19.0 in /usr/local/lib/python3.11/dist-packages (from evaluate) (2.32.3)\n",
      "Requirement already satisfied: tqdm>=4.62.1 in /usr/local/lib/python3.11/dist-packages (from evaluate) (4.67.1)\n",
      "Requirement already satisfied: xxhash in /usr/local/lib/python3.11/dist-packages (from evaluate) (3.5.0)\n",
      "Requirement already satisfied: multiprocess in /usr/local/lib/python3.11/dist-packages (from evaluate) (0.70.15)\n",
      "Requirement already satisfied: fsspec>=2021.05.0 in /usr/local/lib/python3.11/dist-packages (from fsspec[http]>=2021.05.0->evaluate) (2025.3.2)\n",
      "Requirement already satisfied: huggingface-hub>=0.7.0 in /usr/local/lib/python3.11/dist-packages (from evaluate) (0.33.2)\n",
      "Requirement already satisfied: packaging in /usr/local/lib/python3.11/dist-packages (from evaluate) (24.2)\n",
      "Requirement already satisfied: pyarrow>=8.0.0 in /usr/local/lib/python3.11/dist-packages (from datasets>=2.0.0->evaluate) (18.1.0)\n",
      "Requirement already satisfied: aiohttp in /usr/local/lib/python3.11/dist-packages (from datasets>=2.0.0->evaluate) (3.11.15)\n",
      "Requirement already satisfied: pyyaml>=5.1 in /usr/local/lib/python3.11/dist-packages (from datasets>=2.0.0->evaluate) (6.0.2)\n",
      "Requirement already satisfied: filelock in /usr/local/lib/python3.11/dist-packages (from huggingface-hub>=0.7.0->evaluate) (3.18.0)\n",
      "Requirement already satisfied: typing-extensions>=3.7.4.3 in /usr/local/lib/python3.11/dist-packages (from huggingface-hub>=0.7.0->evaluate) (4.14.1)\n",
      "Requirement already satisfied: hf-xet<2.0.0,>=1.1.2 in /usr/local/lib/python3.11/dist-packages (from huggingface-hub>=0.7.0->evaluate) (1.1.5)\n",
      "Requirement already satisfied: charset-normalizer<4,>=2 in /usr/local/lib/python3.11/dist-packages (from requests>=2.19.0->evaluate) (3.4.2)\n",
      "Requirement already satisfied: idna<4,>=2.5 in /usr/local/lib/python3.11/dist-packages (from requests>=2.19.0->evaluate) (3.10)\n",
      "Requirement already satisfied: urllib3<3,>=1.21.1 in /usr/local/lib/python3.11/dist-packages (from requests>=2.19.0->evaluate) (2.4.0)\n",
      "Requirement already satisfied: certifi>=2017.4.17 in /usr/local/lib/python3.11/dist-packages (from requests>=2.19.0->evaluate) (2025.7.9)\n",
      "Requirement already satisfied: python-dateutil>=2.8.2 in /usr/local/lib/python3.11/dist-packages (from pandas->evaluate) (2.9.0.post0)\n",
      "Requirement already satisfied: pytz>=2020.1 in /usr/local/lib/python3.11/dist-packages (from pandas->evaluate) (2025.2)\n",
      "Requirement already satisfied: tzdata>=2022.7 in /usr/local/lib/python3.11/dist-packages (from pandas->evaluate) (2025.2)\n",
      "Requirement already satisfied: aiohappyeyeballs>=2.3.0 in /usr/local/lib/python3.11/dist-packages (from aiohttp->datasets>=2.0.0->evaluate) (2.6.1)\n",
      "Requirement already satisfied: aiosignal>=1.1.2 in /usr/local/lib/python3.11/dist-packages (from aiohttp->datasets>=2.0.0->evaluate) (1.4.0)\n",
      "Requirement already satisfied: attrs>=17.3.0 in /usr/local/lib/python3.11/dist-packages (from aiohttp->datasets>=2.0.0->evaluate) (25.3.0)\n",
      "Requirement already satisfied: frozenlist>=1.1.1 in /usr/local/lib/python3.11/dist-packages (from aiohttp->datasets>=2.0.0->evaluate) (1.7.0)\n",
      "Requirement already satisfied: multidict<7.0,>=4.5 in /usr/local/lib/python3.11/dist-packages (from aiohttp->datasets>=2.0.0->evaluate) (6.6.3)\n",
      "Requirement already satisfied: propcache>=0.2.0 in /usr/local/lib/python3.11/dist-packages (from aiohttp->datasets>=2.0.0->evaluate) (0.3.2)\n",
      "Requirement already satisfied: yarl<2.0,>=1.17.0 in /usr/local/lib/python3.11/dist-packages (from aiohttp->datasets>=2.0.0->evaluate) (1.20.1)\n",
      "Requirement already satisfied: six>=1.5 in /usr/local/lib/python3.11/dist-packages (from python-dateutil>=2.8.2->pandas->evaluate) (1.17.0)\n",
      "Downloading evaluate-0.4.5-py3-none-any.whl (84 kB)\n",
      "\u001b[2K   \u001b[90m━━━━━━━━━━━━━━━━━━━━━━━━━━━━━━━━━━━━━━━━\u001b[0m \u001b[32m84.1/84.1 kB\u001b[0m \u001b[31m5.8 MB/s\u001b[0m eta \u001b[36m0:00:00\u001b[0m\n",
      "\u001b[?25hInstalling collected packages: evaluate\n",
      "Successfully installed evaluate-0.4.5\n"
     ]
    }
   ],
   "source": [
    "!pip install evaluate"
   ]
  },
  {
   "cell_type": "code",
   "execution_count": 38,
   "metadata": {
    "colab": {
     "base_uri": "https://localhost:8080/",
     "height": 49,
     "referenced_widgets": [
      "e752eb18d8d845fc9ff8f30fcc661796",
      "4471d6840ce043a78c5c476e3c709d9e",
      "b26c1725c0484fea94502a6470141b1c",
      "47956781f1ea4d1ba51b157e4745ad84",
      "7fa156aaf7214b3b9d325d34de06f0ff",
      "142101b301c242b0a8c63de8543fac53",
      "138ab9cbd30346d8bfadb73aa30d5fb3",
      "9d2190c457c946eeb8415f1e8359e05d",
      "b6ea8d018b6b4598abe02180ebd94cca",
      "ab05d4d810064c9abe5783d12bd0460b",
      "16e0ce0e582e456eb2f58f20240db5dd"
     ]
    },
    "executionInfo": {
     "elapsed": 1786,
     "status": "ok",
     "timestamp": 1752584060580,
     "user": {
      "displayName": "Milad Rasooli",
      "userId": "00542327659329088999"
     },
     "user_tz": -210
    },
    "id": "4GIndBnnu_MN",
    "outputId": "7902f3f8-e052-4ac4-f6af-6e89999fbb7f"
   },
   "outputs": [
    {
     "data": {
      "application/vnd.jupyter.widget-view+json": {
       "model_id": "e752eb18d8d845fc9ff8f30fcc661796",
       "version_major": 2,
       "version_minor": 0
      },
      "text/plain": [
       "Downloading builder script: 0.00B [00:00, ?B/s]"
      ]
     },
     "metadata": {},
     "output_type": "display_data"
    }
   ],
   "source": [
    "import evaluate\n",
    "accuracy = evaluate.load(\"accuracy\")"
   ]
  },
  {
   "cell_type": "code",
   "execution_count": 39,
   "metadata": {
    "executionInfo": {
     "elapsed": 68,
     "status": "ok",
     "timestamp": 1752584060580,
     "user": {
      "displayName": "Milad Rasooli",
      "userId": "00542327659329088999"
     },
     "user_tz": -210
    },
    "id": "4dsTGOeBvV1o"
   },
   "outputs": [],
   "source": [
    "# Method 1\n",
    "\n",
    "import numpy as np\n",
    "\n",
    "\n",
    "def compute_metrics_evaluate(eval_pred):\n",
    "  predictions,labels = eval_pred\n",
    "  predictions = np.argmax(predictions,axis=1)\n",
    "  return  accuracy.compute(predictions=predictions,references=labels)\n",
    "\n"
   ]
  },
  {
   "cell_type": "code",
   "execution_count": 40,
   "metadata": {
    "executionInfo": {
     "elapsed": 60,
     "status": "ok",
     "timestamp": 1752584060580,
     "user": {
      "displayName": "Milad Rasooli",
      "userId": "00542327659329088999"
     },
     "user_tz": -210
    },
    "id": "3Ge1OwcLvYga"
   },
   "outputs": [],
   "source": [
    "# Method 2\n",
    "from sklearn.metrics import accuracy_score,f1_score\n",
    "\n",
    "def compute_metrics(pred):\n",
    "   labels = pred.label_ids\n",
    "   preds = pred.predictions.argmax(-1)\n",
    "\n",
    "   f1 = f1_score(labels,preds,average=\"weighted\")\n",
    "   acc = accuracy_score(labels,preds)\n",
    "\n",
    "   return {\"accuracy\" : acc,\"f1\" : f1}"
   ]
  },
  {
   "cell_type": "code",
   "execution_count": 40,
   "metadata": {
    "executionInfo": {
     "elapsed": 55,
     "status": "ok",
     "timestamp": 1752584060581,
     "user": {
      "displayName": "Milad Rasooli",
      "userId": "00542327659329088999"
     },
     "user_tz": -210
    },
    "id": "NWeEyim1w1ge"
   },
   "outputs": [],
   "source": []
  },
  {
   "cell_type": "markdown",
   "metadata": {
    "id": "UIYYUwHZ0rZG"
   },
   "source": [
    "## Build Model and Trainer"
   ]
  },
  {
   "cell_type": "code",
   "execution_count": 41,
   "metadata": {
    "colab": {
     "base_uri": "https://localhost:8080/"
    },
    "executionInfo": {
     "elapsed": 4028,
     "status": "ok",
     "timestamp": 1752584064555,
     "user": {
      "displayName": "Milad Rasooli",
      "userId": "00542327659329088999"
     },
     "user_tz": -210
    },
    "id": "whLnQez80xNQ",
    "outputId": "3ffd3d37-4c57-4799-86be-2243b937078d"
   },
   "outputs": [
    {
     "name": "stderr",
     "output_type": "stream",
     "text": [
      "/tmp/ipython-input-41-1498123257.py:4: FutureWarning: `tokenizer` is deprecated and will be removed in version 5.0.0 for `Trainer.__init__`. Use `processing_class` instead.\n",
      "  trainer = Trainer(model = model,args =  training_args,\n"
     ]
    }
   ],
   "source": [
    "from transformers import Trainer\n",
    "\n",
    "\n",
    "trainer = Trainer(model = model,args =  training_args,\n",
    "                  compute_metrics = compute_metrics,\n",
    "                  train_dataset= emotion_encoded[\"train\"],\n",
    "                  eval_dataset= emotion_encoded[\"valid\"],\n",
    "                  tokenizer = tokenizer\n",
    "                  )"
   ]
  },
  {
   "cell_type": "code",
   "execution_count": 43,
   "metadata": {
    "colab": {
     "base_uri": "https://localhost:8080/",
     "height": 173
    },
    "executionInfo": {
     "elapsed": 338326,
     "status": "ok",
     "timestamp": 1752584420474,
     "user": {
      "displayName": "Milad Rasooli",
      "userId": "00542327659329088999"
     },
     "user_tz": -210
    },
    "id": "Jvkqdz0P2QMg",
    "outputId": "3d88aebc-a282-4979-f6ee-c17f750ede40"
   },
   "outputs": [
    {
     "data": {
      "text/html": [
       "\n",
       "    <div>\n",
       "      \n",
       "      <progress value='350' max='350' style='width:300px; height:20px; vertical-align: middle;'></progress>\n",
       "      [350/350 05:37, Epoch 2/2]\n",
       "    </div>\n",
       "    <table border=\"1\" class=\"dataframe\">\n",
       "  <thead>\n",
       " <tr style=\"text-align: left;\">\n",
       "      <th>Epoch</th>\n",
       "      <th>Training Loss</th>\n",
       "      <th>Validation Loss</th>\n",
       "      <th>Accuracy</th>\n",
       "      <th>F1</th>\n",
       "    </tr>\n",
       "  </thead>\n",
       "  <tbody>\n",
       "    <tr>\n",
       "      <td>1</td>\n",
       "      <td>No log</td>\n",
       "      <td>0.422224</td>\n",
       "      <td>0.851875</td>\n",
       "      <td>0.833405</td>\n",
       "    </tr>\n",
       "    <tr>\n",
       "      <td>2</td>\n",
       "      <td>No log</td>\n",
       "      <td>0.262722</td>\n",
       "      <td>0.911250</td>\n",
       "      <td>0.910226</td>\n",
       "    </tr>\n",
       "  </tbody>\n",
       "</table><p>"
      ],
      "text/plain": [
       "<IPython.core.display.HTML object>"
      ]
     },
     "metadata": {},
     "output_type": "display_data"
    },
    {
     "data": {
      "text/plain": [
       "TrainOutput(global_step=350, training_loss=0.6320675659179688, metrics={'train_runtime': 337.8985, 'train_samples_per_second': 66.292, 'train_steps_per_second': 1.036, 'total_flos': 1015809598967040.0, 'train_loss': 0.6320675659179688, 'epoch': 2.0})"
      ]
     },
     "execution_count": 43,
     "metadata": {},
     "output_type": "execute_result"
    }
   ],
   "source": [
    "trainer.train()"
   ]
  },
  {
   "cell_type": "markdown",
   "metadata": {
    "id": "SVxozB6HKo7p"
   },
   "source": [
    "# Model Evaluation"
   ]
  },
  {
   "cell_type": "code",
   "execution_count": 44,
   "metadata": {
    "colab": {
     "base_uri": "https://localhost:8080/",
     "height": 121
    },
    "executionInfo": {
     "elapsed": 17597,
     "status": "ok",
     "timestamp": 1752584644356,
     "user": {
      "displayName": "Milad Rasooli",
      "userId": "00542327659329088999"
     },
     "user_tz": -210
    },
    "id": "QnZV7UU628Cg",
    "outputId": "42355c65-50f9-4869-9d2a-e875fba06aeb"
   },
   "outputs": [
    {
     "data": {
      "text/html": [],
      "text/plain": [
       "<IPython.core.display.HTML object>"
      ]
     },
     "metadata": {},
     "output_type": "display_data"
    },
    {
     "data": {
      "text/plain": [
       "{'test_loss': 0.27882277965545654,\n",
       " 'test_accuracy': 0.91,\n",
       " 'test_f1': 0.9092564468753614,\n",
       " 'test_runtime': 17.0503,\n",
       " 'test_samples_per_second': 187.679,\n",
       " 'test_steps_per_second': 23.46}"
      ]
     },
     "execution_count": 44,
     "metadata": {},
     "output_type": "execute_result"
    }
   ],
   "source": [
    "preds_out = trainer.predict(emotion_encoded[\"test\"])\n",
    "preds_out.metrics"
   ]
  },
  {
   "cell_type": "code",
   "execution_count": 53,
   "metadata": {
    "executionInfo": {
     "elapsed": 1466,
     "status": "ok",
     "timestamp": 1752584910416,
     "user": {
      "displayName": "Milad Rasooli",
      "userId": "00542327659329088999"
     },
     "user_tz": -210
    },
    "id": "17njxb1V5KOq"
   },
   "outputs": [],
   "source": [
    "y_pred = np.argmax(preds_out.predictions,axis = 1)\n",
    "y_true = emotion_encoded[\"test\"][:][\"label\"]"
   ]
  },
  {
   "cell_type": "code",
   "execution_count": 57,
   "metadata": {
    "colab": {
     "base_uri": "https://localhost:8080/"
    },
    "executionInfo": {
     "elapsed": 13,
     "status": "ok",
     "timestamp": 1752584976348,
     "user": {
      "displayName": "Milad Rasooli",
      "userId": "00542327659329088999"
     },
     "user_tz": -210
    },
    "id": "KnJv_PMLMAdZ",
    "outputId": "c4da179d-b2e1-408d-b17b-21f9ea8e2203"
   },
   "outputs": [
    {
     "data": {
      "text/plain": [
       "array([1, 1, 1, ..., 1, 1, 0])"
      ]
     },
     "execution_count": 57,
     "metadata": {},
     "output_type": "execute_result"
    }
   ],
   "source": [
    "y_pred"
   ]
  },
  {
   "cell_type": "code",
   "execution_count": 55,
   "metadata": {
    "colab": {
     "base_uri": "https://localhost:8080/"
    },
    "collapsed": true,
    "executionInfo": {
     "elapsed": 627,
     "status": "ok",
     "timestamp": 1752584945738,
     "user": {
      "displayName": "Milad Rasooli",
      "userId": "00542327659329088999"
     },
     "user_tz": -210
    },
    "id": "_pQrDLJ1MdNY",
    "outputId": "2034ba8c-b6d2-45b1-ee4c-035044a5f1fa"
   },
   "outputs": [
    {
     "name": "stdout",
     "output_type": "stream",
     "text": [
      "[1, 1, 1, 1, 0, 2, 4, 3, 2, 1, 0, 1, 1, 1, 3, 0, 3, 1, 3, 1, 0, 4, 1, 1, 1, 1, 4, 0, 1, 1, 0, 3, 1, 0, 1, 1, 3, 3, 0, 4, 1, 0, 0, 0, 3, 1, 2, 1, 1, 1, 2, 1, 3, 3, 0, 1, 3, 2, 1, 1, 1, 0, 0, 3, 4, 4, 4, 2, 3, 1, 1, 3, 2, 0, 4, 2, 3, 2, 3, 0, 0, 1, 3, 1, 0, 1, 5, 1, 0, 1, 0, 1, 2, 0, 0, 0, 1, 3, 2, 1, 0, 1, 2, 2, 3, 0, 5, 3, 2, 1, 1, 0, 4, 0, 1, 4, 4, 2, 3, 5, 1, 1, 3, 1, 1, 1, 1, 3, 4, 1, 4, 4, 3, 1, 2, 4, 1, 1, 0, 0, 1, 4, 0, 3, 4, 1, 0, 0, 0, 3, 3, 1, 0, 0, 0, 1, 1, 1, 2, 3, 1, 3, 4, 1, 3, 0, 2, 4, 1, 0, 4, 2, 0, 0, 3, 1, 5, 1, 1, 1, 2, 0, 4, 3, 0, 2, 0, 1, 1, 2, 1, 0, 3, 3, 4, 1, 4, 2, 4, 0, 1, 1, 0, 1, 1, 0, 0, 0, 1, 4, 3, 0, 4, 0, 4, 0, 5, 0, 1, 3, 1, 4, 1, 0, 1, 0, 0, 0, 0, 0, 0, 3, 1, 2, 2, 0, 1, 1, 0, 1, 2, 1, 1, 1, 4, 1, 0, 3, 3, 3, 1, 2, 0, 1, 1, 1, 4, 4, 3, 4, 0, 1, 0, 0, 3, 1, 0, 1, 1, 4, 0, 0, 1, 0, 2, 4, 1, 3, 4, 1, 1, 3, 1, 3, 2, 0, 4, 0, 5, 3, 5, 3, 3, 2, 0, 4, 3, 1, 0, 1, 2, 4, 1, 0, 1, 0, 4, 3, 4, 4, 1, 2, 0, 3, 4, 0, 1, 1, 1, 0, 4, 4, 1, 1, 1, 2, 0, 4, 2, 2, 1, 1, 2, 1, 0, 1, 0, 1, 0, 1, 5, 1, 5, 1, 0, 2, 3, 3, 0, 0, 1, 1, 0, 2, 5, 3, 0, 0, 2, 3, 4, 2, 0, 1, 1, 1, 0, 1, 0, 1, 4, 4, 4, 0, 2, 3, 0, 1, 2, 5, 1, 0, 1, 0, 0, 0, 0, 3, 0, 4, 1, 0, 0, 2, 5, 1, 0, 0, 1, 1, 3, 1, 2, 4, 5, 3, 1, 1, 0, 0, 3, 0, 5, 3, 0, 5, 1, 0, 0, 0, 0, 1, 0, 1, 1, 2, 1, 1, 1, 4, 3, 2, 0, 0, 0, 1, 0, 2, 0, 4, 1, 3, 2, 4, 1, 0, 4, 1, 1, 1, 5, 2, 0, 1, 1, 1, 1, 4, 1, 1, 0, 0, 0, 1, 4, 1, 1, 0, 3, 1, 1, 1, 0, 0, 1, 1, 2, 2, 0, 3, 0, 3, 0, 1, 5, 0, 2, 0, 1, 1, 2, 4, 1, 2, 1, 3, 2, 4, 1, 3, 1, 3, 4, 1, 4, 0, 3, 3, 1, 3, 3, 0, 0, 1, 1, 0, 3, 0, 1, 3, 1, 5, 1, 1, 1, 0, 1, 1, 1, 0, 1, 3, 2, 1, 0, 1, 1, 1, 4, 1, 4, 1, 0, 3, 1, 1, 1, 1, 3, 4, 4, 1, 0, 1, 0, 1, 4, 1, 2, 1, 3, 4, 0, 5, 4, 0, 1, 0, 0, 4, 3, 0, 2, 0, 4, 2, 4, 0, 3, 1, 2, 1, 3, 1, 1, 3, 4, 0, 0, 0, 3, 3, 3, 3, 5, 0, 0, 4, 0, 3, 0, 1, 0, 0, 0, 0, 0, 4, 2, 1, 0, 1, 3, 1, 1, 4, 0, 1, 2, 1, 2, 0, 1, 1, 3, 0, 1, 4, 1, 1, 1, 0, 0, 4, 1, 0, 5, 4, 4, 0, 3, 0, 4, 0, 3, 3, 3, 2, 1, 4, 1, 3, 1, 1, 0, 3, 1, 4, 0, 2, 1, 0, 4, 0, 0, 0, 1, 3, 3, 4, 0, 1, 1, 1, 1, 4, 1, 1, 1, 0, 1, 1, 1, 2, 1, 4, 1, 0, 1, 1, 3, 0, 0, 1, 0, 0, 1, 0, 2, 3, 3, 0, 0, 0, 3, 3, 2, 3, 5, 2, 1, 3, 0, 0, 5, 5, 1, 3, 3, 1, 0, 3, 2, 0, 1, 1, 0, 4, 0, 0, 1, 5, 4, 4, 3, 1, 0, 0, 0, 0, 1, 1, 1, 0, 0, 4, 0, 1, 0, 1, 1, 0, 1, 3, 0, 4, 0, 4, 3, 1, 4, 1, 1, 5, 1, 1, 1, 1, 3, 0, 0, 0, 1, 1, 4, 0, 3, 4, 3, 4, 1, 1, 3, 0, 0, 1, 4, 3, 1, 0, 3, 4, 2, 0, 4, 3, 3, 3, 4, 3, 0, 0, 4, 4, 3, 1, 3, 4, 0, 1, 1, 0, 3, 2, 1, 1, 1, 1, 4, 1, 1, 2, 4, 0, 1, 1, 1, 4, 0, 1, 0, 0, 0, 1, 1, 0, 2, 0, 3, 1, 3, 0, 1, 0, 0, 2, 4, 0, 3, 3, 3, 1, 0, 1, 1, 1, 5, 0, 1, 1, 1, 4, 0, 3, 4, 2, 5, 3, 0, 1, 0, 3, 1, 5, 1, 0, 2, 4, 0, 0, 5, 4, 2, 4, 1, 0, 1, 0, 2, 0, 0, 0, 0, 3, 2, 3, 1, 3, 3, 4, 4, 3, 3, 3, 4, 1, 4, 1, 1, 1, 0, 1, 4, 0, 1, 3, 0, 1, 1, 1, 1, 3, 0, 1, 5, 1, 1, 1, 2, 1, 2, 3, 0, 4, 2, 4, 4, 0, 0, 0, 3, 0, 1, 1, 1, 1, 4, 5, 1, 1, 4, 4, 1, 0, 5, 0, 1, 2, 5, 0, 3, 1, 1, 0, 0, 3, 4, 1, 0, 0, 0, 4, 4, 1, 1, 1, 2, 3, 1, 0, 3, 4, 3, 5, 1, 1, 4, 0, 0, 3, 1, 3, 2, 0, 1, 3, 1, 1, 0, 3, 5, 0, 1, 4, 4, 1, 0, 2, 2, 0, 3, 3, 1, 1, 0, 4, 0, 2, 0, 2, 3, 0, 1, 1, 3, 0, 0, 4, 1, 1, 0, 4, 5, 1, 0, 0, 0, 3, 0, 0, 1, 0, 3, 0, 1, 4, 0, 1, 0, 1, 3, 4, 1, 3, 1, 1, 0, 3, 3, 1, 1, 0, 4, 1, 0, 0, 1, 4, 1, 2, 1, 0, 1, 0, 2, 0, 4, 0, 0, 3, 0, 5, 3, 3, 4, 2, 1, 1, 5, 1, 1, 0, 1, 1, 3, 0, 1, 1, 4, 3, 3, 3, 3, 1, 0, 1, 0, 0, 0, 0, 0, 1, 3, 3, 5, 5, 4, 4, 1, 1, 2, 1, 1, 2, 1, 1, 0, 4, 3, 1, 1, 0, 2, 1, 2, 0, 4, 2, 2, 0, 3, 1, 4, 0, 1, 1, 0, 0, 4, 3, 0, 1, 0, 1, 2, 0, 4, 5, 0, 3, 1, 1, 1, 1, 3, 4, 0, 1, 0, 1, 5, 5, 5, 1, 3, 0, 0, 1, 0, 1, 0, 3, 0, 1, 4, 4, 0, 0, 2, 0, 0, 1, 1, 4, 3, 4, 0, 2, 1, 0, 0, 0, 1, 0, 0, 0, 1, 0, 0, 2, 1, 3, 1, 4, 3, 4, 2, 0, 4, 2, 0, 1, 2, 0, 3, 0, 0, 4, 0, 0, 4, 1, 1, 0, 1, 0, 1, 0, 1, 3, 1, 5, 1, 3, 0, 4, 0, 0, 4, 3, 1, 1, 0, 1, 1, 1, 3, 1, 0, 1, 0, 1, 3, 0, 1, 0, 0, 3, 3, 0, 1, 1, 0, 1, 1, 3, 0, 1, 0, 3, 0, 4, 5, 2, 0, 1, 1, 1, 1, 5, 3, 3, 0, 4, 0, 1, 1, 4, 1, 1, 4, 0, 0, 1, 3, 0, 1, 0, 3, 1, 1, 2, 0, 3, 2, 3, 5, 2, 5, 0, 2, 0, 0, 1, 1, 0, 1, 1, 1, 0, 3, 0, 1, 1, 1, 4, 3, 4, 2, 3, 1, 0, 3, 2, 2, 1, 0, 2, 3, 3, 0, 4, 0, 5, 2, 1, 2, 0, 5, 0, 4, 5, 4, 1, 2, 1, 2, 1, 1, 0, 0, 1, 0, 1, 0, 4, 1, 2, 1, 5, 1, 1, 1, 0, 1, 0, 3, 0, 1, 4, 4, 0, 0, 1, 1, 0, 1, 1, 2, 0, 2, 3, 1, 0, 3, 1, 0, 1, 0, 1, 1, 3, 0, 2, 0, 1, 4, 0, 2, 1, 4, 5, 0, 0, 0, 5, 4, 3, 0, 4, 4, 1, 0, 4, 0, 1, 5, 0, 0, 4, 1, 4, 5, 2, 2, 2, 1, 2, 1, 0, 2, 4, 0, 1, 5, 0, 0, 1, 0, 1, 4, 3, 4, 4, 1, 0, 4, 3, 1, 3, 4, 2, 3, 4, 3, 1, 5, 1, 1, 1, 0, 1, 0, 0, 1, 1, 0, 4, 2, 1, 3, 4, 4, 3, 3, 0, 1, 0, 0, 0, 3, 0, 1, 4, 2, 0, 1, 0, 0, 1, 3, 1, 4, 1, 3, 0, 0, 0, 1, 1, 0, 1, 0, 0, 0, 3, 0, 1, 1, 4, 1, 4, 0, 1, 0, 0, 3, 0, 4, 5, 1, 0, 1, 0, 4, 3, 2, 1, 2, 1, 0, 0, 0, 4, 1, 3, 0, 3, 0, 3, 1, 1, 0, 0, 0, 1, 0, 0, 0, 0, 0, 0, 1, 4, 1, 5, 1, 1, 0, 4, 1, 1, 0, 1, 0, 1, 1, 2, 5, 3, 4, 4, 0, 2, 1, 1, 0, 3, 1, 3, 1, 0, 5, 3, 1, 5, 1, 1, 1, 3, 0, 1, 4, 0, 1, 3, 1, 3, 0, 1, 0, 1, 1, 1, 1, 1, 1, 1, 3, 5, 4, 2, 1, 0, 1, 3, 1, 0, 3, 1, 0, 0, 0, 0, 0, 1, 1, 0, 4, 1, 3, 4, 1, 4, 3, 1, 4, 3, 0, 1, 1, 5, 1, 5, 1, 0, 0, 0, 1, 0, 0, 0, 1, 3, 4, 1, 1, 2, 4, 0, 2, 0, 0, 4, 0, 4, 0, 1, 0, 4, 2, 0, 4, 0, 3, 1, 0, 1, 0, 1, 1, 0, 1, 1, 0, 1, 3, 2, 0, 2, 1, 0, 1, 5, 3, 1, 4, 1, 0, 1, 2, 4, 0, 3, 0, 1, 0, 3, 1, 0, 4, 0, 1, 1, 2, 1, 3, 0, 1, 3, 1, 0, 0, 1, 5, 1, 3, 0, 4, 1, 5, 4, 3, 4, 1, 1, 0, 2, 3, 1, 2, 5, 1, 1, 0, 0, 0, 0, 0, 1, 1, 1, 4, 0, 0, 4, 1, 0, 1, 3, 0, 2, 0, 1, 1, 4, 4, 1, 2, 1, 0, 1, 0, 1, 1, 4, 2, 3, 3, 1, 0, 1, 4, 1, 1, 4, 0, 1, 1, 4, 5, 4, 3, 1, 1, 2, 4, 1, 1, 0, 0, 0, 2, 4, 1, 1, 0, 1, 1, 1, 0, 3, 1, 1, 1, 0, 0, 0, 0, 2, 3, 4, 1, 4, 2, 3, 1, 3, 0, 4, 0, 4, 4, 1, 3, 3, 1, 4, 1, 1, 1, 0, 1, 1, 3, 1, 3, 0, 2, 0, 1, 0, 1, 1, 0, 1, 0, 1, 1, 0, 1, 4, 1, 4, 1, 1, 0, 0, 0, 0, 0, 1, 1, 0, 0, 2, 1, 0, 5, 3, 1, 1, 1, 4, 4, 2, 1, 2, 3, 2, 3, 0, 0, 2, 0, 1, 4, 1, 1, 1, 2, 1, 0, 0, 0, 0, 0, 0, 0, 3, 1, 0, 4, 1, 1, 0, 4, 4, 4, 1, 1, 2, 3, 2, 3, 4, 2, 1, 0, 3, 0, 2, 0, 3, 3, 0, 1, 0, 4, 3, 1, 0, 0, 3, 0, 1, 0, 4, 3, 1, 1, 0, 0, 1, 3, 2, 4, 1, 0, 0, 1, 1, 5, 2, 1, 1, 1, 1, 1, 0, 3, 0, 1, 4, 0, 0, 3, 5, 3, 0, 0, 4, 1, 0, 1, 2, 1, 3, 1, 0, 0, 3, 0, 1, 0, 5, 1, 1, 2, 1, 0, 0, 3, 4, 0, 0, 1, 3, 2, 1, 0, 3, 1, 0, 2, 0, 2, 1, 0, 0, 2, 3, 3, 1, 1, 3, 0, 4, 3, 1, 5, 4, 1, 0, 0, 0, 4, 1, 4, 4, 5, 1, 0, 1, 4, 1, 1, 1, 0, 3, 3, 3, 2, 2, 0, 0, 1, 0, 0, 2, 5, 1, 1, 0, 4, 1, 3, 1, 4, 1, 3, 1, 0, 4, 0, 0, 1, 0, 5, 1, 0, 0, 1, 4, 1, 3, 1, 1, 1, 0, 0, 3, 2, 0, 1, 1, 4, 0, 0, 0, 1, 0, 1, 0, 0, 1, 2, 0, 1, 3, 0, 1, 0, 5, 1, 1, 0, 1, 3, 0, 3, 1, 3, 5, 3, 0, 3, 0, 0, 0, 2, 4, 1, 1, 0, 3, 1, 1, 1, 3, 0, 0, 4, 1, 1, 0, 4, 2, 0, 0, 0, 0, 4, 1, 2, 0, 0, 3, 5, 1, 0, 2, 3, 3, 1, 2, 4, 1, 4, 3, 0, 1, 2, 3, 2, 1, 1, 0, 0, 1, 1, 4, 1, 0, 1, 1, 3, 4, 0, 1, 1, 0, 0, 3, 3, 1, 0, 1, 2, 0, 0, 1, 0, 0, 3, 0, 1, 1, 1, 1, 2, 0, 0, 1, 3, 1, 3, 0, 4, 0, 0, 0, 0, 1, 2, 1, 0, 4, 4, 1, 3, 3, 1, 4, 4, 0, 1, 1, 0, 1, 1, 2, 3, 0, 2, 0, 1, 0, 0, 4, 1, 0, 0, 1, 2, 2, 5, 2, 0, 0, 2, 0, 1, 1, 0, 4, 1, 0, 0, 2, 0, 1, 3, 1, 1, 0, 1, 1, 1, 4, 0, 2, 0, 1, 0, 0, 3, 0, 1, 4, 0, 0, 0, 4, 0, 4, 0, 1, 0, 3, 1, 2, 4, 0, 0, 0, 4, 1, 0, 1, 1, 1, 0, 0, 3, 5, 1, 5, 1, 0, 1, 4, 0, 0, 3, 0, 0, 3, 1, 0, 5, 1, 1, 1, 1, 1, 2, 1, 2, 0, 1, 0, 1, 1, 4, 0, 0, 3, 3, 4, 0, 1, 4, 1, 5, 5, 4, 0, 0, 1, 4, 0, 3, 1, 1, 4, 4, 1, 1, 4, 0, 1, 5, 4, 1, 4, 2, 1, 0, 1, 1, 2, 0, 2, 0, 4, 3, 0, 1, 1, 3, 2, 0, 0, 0, 1, 4, 1, 0, 0, 0, 0, 1, 0, 1, 2, 0, 1, 4, 3, 0, 0, 4, 1, 3, 4, 0, 3, 0, 0, 0, 1, 3, 1, 1, 0, 4, 1, 1, 1, 0, 4, 1, 0, 3, 0, 1, 0, 0, 0, 3, 0, 3, 0, 3, 0, 1, 2, 0, 0, 4, 1, 2, 1, 3, 1, 1, 0, 3, 2, 0, 1, 4, 1, 2, 4, 1, 0, 3, 0, 4, 0, 1, 3, 1, 1, 3, 1, 1, 1, 1, 3, 4, 4, 1, 1, 0, 0, 0, 5, 2, 1, 4, 1, 5, 2, 4, 0, 1, 0, 1, 4, 0, 1, 0, 1, 1, 1, 1, 2, 4, 4, 1, 5, 1, 0, 0, 1, 0, 3, 3, 0, 3, 2, 1, 1, 5, 3, 2, 1, 2, 1, 1, 4, 1, 2, 0, 4, 4, 2, 0, 1, 1, 0, 0, 0, 1, 3, 5, 1, 1, 3, 1, 0, 0, 1, 1, 4, 3, 4, 3, 4, 0, 3, 1, 3, 1, 0, 0, 0, 0, 3, 1, 3, 4, 4, 4, 0, 3, 3, 1, 3, 0, 0, 3, 3, 0, 0, 3, 2, 0, 0, 2, 1, 4, 0, 0, 4, 1, 1, 1, 1, 2, 5, 1, 1, 0, 1, 0, 4, 1, 0, 1, 5, 1, 1, 1, 0, 0, 1, 0, 0, 1, 0, 1, 2, 0, 1, 3, 1, 0, 1, 4, 4, 0, 3, 0, 1, 0, 0, 1, 1, 2, 4, 1, 0, 2, 1, 0, 0, 1, 1, 2, 5, 4, 4, 5, 0, 1, 3, 1, 3, 1, 1, 1, 3, 1, 2, 2, 2, 0, 0, 0, 0, 0, 4, 0, 2, 0, 1, 2, 0, 4, 2, 1, 0, 0, 0, 1, 5, 4, 4, 0, 0, 1, 1, 1, 4, 0, 1, 0, 4, 1, 2, 1, 4, 0, 5, 0, 1, 4, 3, 0, 0, 3, 0, 1, 2, 2, 1, 0, 4, 0, 2, 1, 1, 1, 0, 1, 0, 1, 1, 1, 4, 0, 3, 1, 1, 2, 3, 0, 3, 1, 1, 4, 1, 4, 3, 0, 1, 1, 0, 0, 1, 1, 0, 0, 0, 1, 1, 1, 2, 1, 0, 5, 1, 0, 1, 0, 0, 1, 0, 0, 1, 3, 0, 1, 0, 4, 1, 1, 1, 0, 1, 4, 2, 2, 0, 0, 3, 0, 1, 1, 0, 0, 0, 3, 2, 3, 3, 0, 0, 0, 1, 1, 4, 1, 1, 1, 2, 3, 3, 0, 1, 3, 1, 1, 1, 4, 0, 1, 0, 4, 1, 1, 4, 1, 3, 0, 4, 1, 0, 1, 1, 1, 5, 0, 0, 3, 0, 1, 0, 4, 3, 0, 0, 0, 0, 1, 1, 1, 1, 0, 3, 3, 4, 1, 2, 3, 1, 5, 1, 3, 1, 1, 1, 0, 1, 4, 0, 5, 1, 3, 1, 0, 2, 0, 1, 4, 0, 0, 1, 4, 1, 3, 3, 1, 1, 4, 1, 1, 3, 0, 1, 3, 1, 1, 4, 3, 3, 0, 3, 1, 0, 5, 2, 3, 0, 1, 0, 1, 1, 0, 0, 0, 1, 0, 2, 4, 0, 0, 0, 1, 3, 0, 4, 1, 0, 3, 0, 0, 0, 0, 4, 3, 1, 3, 1, 2, 5, 3, 1, 0, 1, 1, 0, 4, 0, 4, 2, 2, 1, 0, 4, 0, 2, 1, 1, 1, 1, 1, 1, 0, 4, 1, 1, 0, 4, 0, 0, 3, 2, 0, 0, 1, 4, 0, 1, 3, 1, 1, 0, 0, 0, 1, 1, 1, 0, 1, 1, 3, 3, 1, 1, 0, 1, 2, 0, 1, 3, 1, 3, 1, 2, 1, 3, 3, 0, 0, 0, 3, 1, 1, 1, 4, 1, 0, 2, 3, 1, 1, 1, 1, 0, 0, 0, 2, 5, 0, 1, 0, 4, 2, 4, 0, 1, 5, 5, 5, 4, 1, 3, 4, 2, 0, 0, 3, 0, 4, 1, 1, 0, 1, 1, 2, 3, 1, 1, 4, 0, 3, 3, 2, 1, 2, 1, 0, 0, 4, 1, 1, 1, 3, 1, 0, 1, 0, 4, 3, 1, 1, 3, 0, 1, 2, 5, 4, 1, 4, 0, 1, 3, 2, 4, 3, 1, 4, 1, 1, 5, 1, 1, 1, 1, 0, 0, 4, 5, 1, 0, 3, 1, 1, 0, 3, 1, 3, 4, 0, 0, 0, 1, 1, 1, 1, 0, 1, 0, 3, 1, 1, 4, 1, 0, 3, 4, 0, 1, 0, 1, 0, 4, 0, 1, 4, 0, 3, 4, 4, 0, 1, 0, 1, 2, 1, 3, 3, 0, 1, 0, 3, 3, 3, 4, 2, 1, 2, 4, 1, 3, 0, 1, 1, 1, 1, 1, 3, 1, 1, 0]\n"
     ]
    }
   ],
   "source": [
    "print(y_true)"
   ]
  },
  {
   "cell_type": "code",
   "execution_count": 65,
   "metadata": {
    "colab": {
     "base_uri": "https://localhost:8080/"
    },
    "executionInfo": {
     "elapsed": 8,
     "status": "ok",
     "timestamp": 1752585530995,
     "user": {
      "displayName": "Milad Rasooli",
      "userId": "00542327659329088999"
     },
     "user_tz": -210
    },
    "id": "q81uxhzNNOhf",
    "outputId": "be28676a-84c7-47db-8841-9f676bb7e687"
   },
   "outputs": [
    {
     "name": "stdout",
     "output_type": "stream",
     "text": [
      "              precision    recall  f1-score   support\n",
      "\n",
      "           0       0.94      0.95      0.95       933\n",
      "           1       0.93      0.93      0.93      1072\n",
      "           2       0.82      0.79      0.80       261\n",
      "           3       0.90      0.91      0.91       432\n",
      "           4       0.86      0.89      0.88       387\n",
      "           5       0.87      0.69      0.77       115\n",
      "\n",
      "    accuracy                           0.91      3200\n",
      "   macro avg       0.89      0.86      0.87      3200\n",
      "weighted avg       0.91      0.91      0.91      3200\n",
      "\n"
     ]
    }
   ],
   "source": [
    "print(classification_report(y_true,y_pred))"
   ]
  },
  {
   "cell_type": "code",
   "execution_count": 69,
   "metadata": {
    "colab": {
     "base_uri": "https://localhost:8080/",
     "height": 607
    },
    "executionInfo": {
     "elapsed": 646,
     "status": "ok",
     "timestamp": 1752585951392,
     "user": {
      "displayName": "Milad Rasooli",
      "userId": "00542327659329088999"
     },
     "user_tz": -210
    },
    "id": "mC2am_XZPOf0",
    "outputId": "3a0abf25-71b3-4247-fdaf-2885e617f981"
   },
   "outputs": [
    {
     "data": {
      "image/png": "[encoded data removed]",
      "text/plain": [
       "<Figure size 800x600 with 2 Axes>"
      ]
     },
     "metadata": {},
     "output_type": "display_data"
    }
   ],
   "source": [
    "# Generate confusion matrix for classes 0-5\n",
    "cm = confusion_matrix(y_true, y_pred, labels=np.arange(6))\n",
    "\n",
    "# Set up plot\n",
    "plt.figure(figsize=(8, 6))\n",
    "ax = sns.heatmap(\n",
    "    cm,\n",
    "    annot=True,\n",
    "    fmt='d',\n",
    "    cmap='Blues',\n",
    "    alpha=0.7,\n",
    "    linewidths=1,\n",
    "    linecolor='gray',\n",
    "    annot_kws={'size': 12}\n",
    ")\n",
    "\n",
    "# Add labels and formatting\n",
    "plt.title('Confusion Matrix')\n",
    "plt.xlabel('Predicted')\n",
    "plt.ylabel('Actual')\n",
    "ax.set_xticks(np.arange(6) + 0.5)\n",
    "ax.set_yticks(np.arange(6) + 0.5)\n",
    "ax.set_xticklabels(np.arange(6))\n",
    "ax.set_yticklabels(np.arange(6))\n",
    "\n",
    "plt.tight_layout()\n",
    "plt.show()"
   ]
  },
  {
   "cell_type": "markdown",
   "metadata": {
    "id": "hI7usj-GUC9h"
   },
   "source": [
    "# Build Prediction Function and Store Model"
   ]
  },
  {
   "cell_type": "markdown",
   "metadata": {
    "id": "fiBeLU-8T8_a"
   },
   "source": [
    "   \"0\": \"sadness\",\n",
    "    \"1\": \"joy\",\n",
    "    \"2\": \"love\",\n",
    "    \"3\": \"anger\",\n",
    "    \"4\": \"fear\",\n",
    "    \"5\": \"surprise\""
   ]
  },
  {
   "cell_type": "code",
   "execution_count": 70,
   "metadata": {
    "executionInfo": {
     "elapsed": 13,
     "status": "ok",
     "timestamp": 1752586431956,
     "user": {
      "displayName": "Milad Rasooli",
      "userId": "00542327659329088999"
     },
     "user_tz": -210
    },
    "id": "jm7g7T_5P7fs"
   },
   "outputs": [],
   "source": [
    "exam_text = \"Hi my name is Milad,Today I am incredibly happy.because I readed a book\""
   ]
  },
  {
   "cell_type": "code",
   "execution_count": 71,
   "metadata": {
    "executionInfo": {
     "elapsed": 11,
     "status": "ok",
     "timestamp": 1752586532204,
     "user": {
      "displayName": "Milad Rasooli",
      "userId": "00542327659329088999"
     },
     "user_tz": -210
    },
    "id": "LVxwGoNvSqpq"
   },
   "outputs": [],
   "source": [
    "input_encoded = tokenizer(exam_text,return_tensors=\"pt\").to(devise)"
   ]
  },
  {
   "cell_type": "code",
   "execution_count": 72,
   "metadata": {
    "colab": {
     "base_uri": "https://localhost:8080/"
    },
    "executionInfo": {
     "elapsed": 6,
     "status": "ok",
     "timestamp": 1752586546062,
     "user": {
      "displayName": "Milad Rasooli",
      "userId": "00542327659329088999"
     },
     "user_tz": -210
    },
    "id": "C_QwhmsYTCwl",
    "outputId": "96da7053-564c-4178-918e-c5cc9f33992a"
   },
   "outputs": [
    {
     "data": {
      "text/plain": [
       "{'input_ids': tensor([[  101,  7632,  2026,  2171,  2003, 23689,  4215,  1010,  2651,  1045,\n",
       "          2572, 11757,  3407,  1012,  2138,  1045,  3191,  2098,  1037,  2338,\n",
       "           102]], device='cuda:0'), 'token_type_ids': tensor([[0, 0, 0, 0, 0, 0, 0, 0, 0, 0, 0, 0, 0, 0, 0, 0, 0, 0, 0, 0, 0]],\n",
       "       device='cuda:0'), 'attention_mask': tensor([[1, 1, 1, 1, 1, 1, 1, 1, 1, 1, 1, 1, 1, 1, 1, 1, 1, 1, 1, 1, 1]],\n",
       "       device='cuda:0')}"
      ]
     },
     "execution_count": 72,
     "metadata": {},
     "output_type": "execute_result"
    }
   ],
   "source": [
    "input_encoded"
   ]
  },
  {
   "cell_type": "code",
   "execution_count": 87,
   "metadata": {
    "executionInfo": {
     "elapsed": 6,
     "status": "ok",
     "timestamp": 1752587235469,
     "user": {
      "displayName": "Milad Rasooli",
      "userId": "00542327659329088999"
     },
     "user_tz": -210
    },
    "id": "KtGppJgzT1Gq"
   },
   "outputs": [],
   "source": [
    "def get_pred(test):\n",
    "  input_encoded = tokenizer(exam_text,return_tensors=\"pt\").to(devise)\n",
    "  with torch.no_grad():\n",
    "    outs = model(**input_encoded)\n",
    "\n",
    "  logits = outs.logits\n",
    "  pred = torch.argmax(logits,dim = 1).item()\n",
    "  return pred,id2label[pred]"
   ]
  },
  {
   "cell_type": "code",
   "execution_count": 88,
   "metadata": {
    "colab": {
     "base_uri": "https://localhost:8080/"
    },
    "executionInfo": {
     "elapsed": 4,
     "status": "ok",
     "timestamp": 1752587241312,
     "user": {
      "displayName": "Milad Rasooli",
      "userId": "00542327659329088999"
     },
     "user_tz": -210
    },
    "id": "CNjiff84Ujg7",
    "outputId": "14692e43-7c35-4329-964a-3165b18d5c1f"
   },
   "outputs": [
    {
     "data": {
      "text/plain": [
       "(1, 'joy')"
      ]
     },
     "execution_count": 88,
     "metadata": {},
     "output_type": "execute_result"
    }
   ],
   "source": [
    "get_pred(exam_text)"
   ]
  },
  {
   "cell_type": "markdown",
   "metadata": {
    "id": "eAUh8JGfV2wm"
   },
   "source": [
    "## Save Model"
   ]
  },
  {
   "cell_type": "code",
   "execution_count": 90,
   "metadata": {
    "executionInfo": {
     "elapsed": 3557,
     "status": "ok",
     "timestamp": 1752587558287,
     "user": {
      "displayName": "Milad Rasooli",
      "userId": "00542327659329088999"
     },
     "user_tz": -210
    },
    "id": "3VPOs30HVmPk"
   },
   "outputs": [],
   "source": [
    "trainer.save_model(\"/content/drive/MyDrive/fine-tune Beart/twitter_sentiment_bert\")"
   ]
  },
  {
   "cell_type": "markdown",
   "metadata": {
    "id": "Et0Sa9XmbdaN"
   },
   "source": [
    "### Pipeline\n"
   ]
  },
  {
   "cell_type": "code",
   "execution_count": 92,
   "metadata": {
    "colab": {
     "base_uri": "https://localhost:8080/"
    },
    "executionInfo": {
     "elapsed": 1330,
     "status": "ok",
     "timestamp": 1752588880844,
     "user": {
      "displayName": "Milad Rasooli",
      "userId": "00542327659329088999"
     },
     "user_tz": -210
    },
    "id": "bTVNmb78ahKi",
    "outputId": "68820818-929e-4894-9c3e-6f3fb9df5252"
   },
   "outputs": [
    {
     "name": "stderr",
     "output_type": "stream",
     "text": [
      "Device set to use cuda:0\n"
     ]
    }
   ],
   "source": [
    "from transformers import pipeline\n",
    "\n",
    "classifier = pipeline(\"text-classification\",model = \"twitter_sentiment_bert\")"
   ]
  },
  {
   "cell_type": "code",
   "execution_count": 93,
   "metadata": {
    "colab": {
     "base_uri": "https://localhost:8080/"
    },
    "executionInfo": {
     "elapsed": 1118,
     "status": "ok",
     "timestamp": 1752588912019,
     "user": {
      "displayName": "Milad Rasooli",
      "userId": "00542327659329088999"
     },
     "user_tz": -210
    },
    "id": "k3rD2VTnb44x",
    "outputId": "bbd2cbc8-5dc2-481d-84b8-365ff3de14a6"
   },
   "outputs": [
    {
     "data": {
      "text/plain": [
       "[{'label': 'joy', 'score': 0.9615863561630249}]"
      ]
     },
     "execution_count": 93,
     "metadata": {},
     "output_type": "execute_result"
    }
   ],
   "source": [
    "classifier(exam_text)"
   ]
  },
  {
   "cell_type": "code",
   "execution_count": null,
   "metadata": {
    "id": "nSF1cM93cHea"
   },
   "outputs": [],
   "source": []
  }
 ],
 "metadata": {
  "accelerator": "GPU",
  "colab": {
   "authorship_tag": "ABX9TyOP46waQ+F62ONuGdGNAD/d",
   "gpuType": "T4",
   "mount_file_id": "1MzYgGiV_6wCb152uu8Aoh9_0j_eQJLmF",
   "provenance": []
  },
  "kernelspec": {
   "display_name": "Python 3",
   "name": "python3"
  },
  "language_info": {
   "name": "python"
  }
 },
 "nbformat": 4,
 "nbformat_minor": 0
}
